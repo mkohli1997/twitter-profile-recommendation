{
 "cells": [
  {
   "cell_type": "code",
   "execution_count": 1,
   "metadata": {},
   "outputs": [],
   "source": [
    "# import required packages\n",
    "\n",
    "from gensim.parsing.preprocessing import STOPWORDS\n",
    "from nltk.stem import WordNetLemmatizer, SnowballStemmer\n",
    "from nltk.stem.porter import *\n",
    "from gensim import corpora, models\n",
    "from gensim.models import CoherenceModel\n",
    "from pprint import pprint\n",
    "from sklearn.cluster import MiniBatchKMeans\n",
    "from sklearn.metrics import silhouette_score\n",
    "from sklearn.cluster import KMeans\n",
    "from tqdm.notebook import tqdm\n",
    "from queue import PriorityQueue\n",
    "from IPython.display import Markdown, display\n",
    "import pandas as pd\n",
    "import gensim\n",
    "import numpy as np\n",
    "import matplotlib.pyplot as plt\n",
    "import pyLDAvis.gensim\n",
    "import pyLDAvis\n",
    "import spacy\n",
    "import re\n",
    "import json\n",
    "\n",
    "%matplotlib inline"
   ]
  },
  {
   "cell_type": "code",
   "execution_count": 2,
   "metadata": {},
   "outputs": [],
   "source": [
    "# to print text in bold/italics\n",
    "def printmd(string):\n",
    "    display(Markdown(string))"
   ]
  },
  {
   "cell_type": "markdown",
   "metadata": {},
   "source": [
    "#### Steps for developing the Profile Recommender\n",
    "\n",
    "- Preprocess tweet text: remove stopwords, lemmatize etc.\n",
    "- Extract optimal number of topics and apply Latent Dirichlet Allocation.\n",
    "- Using the LDA model, obtain topic scores for each document, which are nothing but probability distributions.\n",
    "- Apply K-Means on the N-dimensional vectors where N is the optimal number of topics.\n",
    "- For making a recommendation given a tweet document, first obtain its probability distribution from the trained LDA model. Identify the obtained vector's cluster, and find the 5 closest data points in the same cluster. Display them as recommendations."
   ]
  },
  {
   "cell_type": "markdown",
   "metadata": {},
   "source": [
    "### Data Manipulation"
   ]
  },
  {
   "cell_type": "code",
   "execution_count": 3,
   "metadata": {},
   "outputs": [
    {
     "name": "stdout",
     "output_type": "stream",
     "text": [
      "(730000, 2)\n"
     ]
    },
    {
     "data": {
      "text/html": [
       "<div>\n",
       "<style scoped>\n",
       "    .dataframe tbody tr th:only-of-type {\n",
       "        vertical-align: middle;\n",
       "    }\n",
       "\n",
       "    .dataframe tbody tr th {\n",
       "        vertical-align: top;\n",
       "    }\n",
       "\n",
       "    .dataframe thead th {\n",
       "        text-align: right;\n",
       "    }\n",
       "</style>\n",
       "<table border=\"1\" class=\"dataframe\">\n",
       "  <thead>\n",
       "    <tr style=\"text-align: right;\">\n",
       "      <th></th>\n",
       "      <th>username</th>\n",
       "      <th>raw_text</th>\n",
       "    </tr>\n",
       "  </thead>\n",
       "  <tbody>\n",
       "    <tr>\n",
       "      <th>0</th>\n",
       "      <td>1mikestreet1</td>\n",
       "      <td>Trump’s war on critical race theory is maybe t...</td>\n",
       "    </tr>\n",
       "    <tr>\n",
       "      <th>1</th>\n",
       "      <td>mulliganpete</td>\n",
       "      <td>Typical Sarah Sanders dodging questions. This ...</td>\n",
       "    </tr>\n",
       "    <tr>\n",
       "      <th>2</th>\n",
       "      <td>Tom26058303</td>\n",
       "      <td>Rumble — In this episode, I address the explos...</td>\n",
       "    </tr>\n",
       "    <tr>\n",
       "      <th>3</th>\n",
       "      <td>adiinvincible25</td>\n",
       "      <td>The US “liberal” media is a JOKE. Loonies goin...</td>\n",
       "    </tr>\n",
       "    <tr>\n",
       "      <th>4</th>\n",
       "      <td>Surya29011996</td>\n",
       "      <td>Covid-19 Report For 22nd September\\n\\nNew Posi...</td>\n",
       "    </tr>\n",
       "  </tbody>\n",
       "</table>\n",
       "</div>"
      ],
      "text/plain": [
       "          username                                           raw_text\n",
       "0     1mikestreet1  Trump’s war on critical race theory is maybe t...\n",
       "1     mulliganpete  Typical Sarah Sanders dodging questions. This ...\n",
       "2      Tom26058303  Rumble — In this episode, I address the explos...\n",
       "3  adiinvincible25  The US “liberal” media is a JOKE. Loonies goin...\n",
       "4    Surya29011996  Covid-19 Report For 22nd September\\n\\nNew Posi..."
      ]
     },
     "execution_count": 3,
     "metadata": {},
     "output_type": "execute_result"
    }
   ],
   "source": [
    "# load the raw tweet text alongwith the usernames\n",
    "\n",
    "df_tweets_raw = pd.read_csv(\"tweets_730k.csv\", encoding=\"utf-8\")\n",
    "df_tweets_raw.rename(columns={\"text\": \"raw_text\"}, inplace=True)\n",
    "df_tweets_raw = df_tweets_raw[[\"username\", \"raw_text\"]]\n",
    "print(df_tweets_raw.shape)\n",
    "df_tweets_raw.head()"
   ]
  },
  {
   "cell_type": "code",
   "execution_count": 4,
   "metadata": {},
   "outputs": [
    {
     "name": "stdout",
     "output_type": "stream",
     "text": [
      "(730000, 3)\n"
     ]
    },
    {
     "data": {
      "text/html": [
       "<div>\n",
       "<style scoped>\n",
       "    .dataframe tbody tr th:only-of-type {\n",
       "        vertical-align: middle;\n",
       "    }\n",
       "\n",
       "    .dataframe tbody tr th {\n",
       "        vertical-align: top;\n",
       "    }\n",
       "\n",
       "    .dataframe thead th {\n",
       "        text-align: right;\n",
       "    }\n",
       "</style>\n",
       "<table border=\"1\" class=\"dataframe\">\n",
       "  <thead>\n",
       "    <tr style=\"text-align: right;\">\n",
       "      <th></th>\n",
       "      <th>username</th>\n",
       "      <th>text</th>\n",
       "      <th>raw_text</th>\n",
       "    </tr>\n",
       "  </thead>\n",
       "  <tbody>\n",
       "    <tr>\n",
       "      <th>0</th>\n",
       "      <td>1mikestreet1</td>\n",
       "      <td>trumps war on critical race theory is maybe th...</td>\n",
       "      <td>Trump’s war on critical race theory is maybe t...</td>\n",
       "    </tr>\n",
       "    <tr>\n",
       "      <th>1</th>\n",
       "      <td>mulliganpete</td>\n",
       "      <td>typical sarah sanders dodging questions this r...</td>\n",
       "      <td>Typical Sarah Sanders dodging questions. This ...</td>\n",
       "    </tr>\n",
       "    <tr>\n",
       "      <th>2</th>\n",
       "      <td>Tom26058303</td>\n",
       "      <td>rumble in this episode i address the explosive...</td>\n",
       "      <td>Rumble — In this episode, I address the explos...</td>\n",
       "    </tr>\n",
       "    <tr>\n",
       "      <th>3</th>\n",
       "      <td>adiinvincible25</td>\n",
       "      <td>the us liberal media is a joke loonies going g...</td>\n",
       "      <td>The US “liberal” media is a JOKE. Loonies goin...</td>\n",
       "    </tr>\n",
       "    <tr>\n",
       "      <th>4</th>\n",
       "      <td>Surya29011996</td>\n",
       "      <td>covid19 report for 22nd september new positive...</td>\n",
       "      <td>Covid-19 Report For 22nd September\\n\\nNew Posi...</td>\n",
       "    </tr>\n",
       "  </tbody>\n",
       "</table>\n",
       "</div>"
      ],
      "text/plain": [
       "          username                                               text  \\\n",
       "0     1mikestreet1  trumps war on critical race theory is maybe th...   \n",
       "1     mulliganpete  typical sarah sanders dodging questions this r...   \n",
       "2      Tom26058303  rumble in this episode i address the explosive...   \n",
       "3  adiinvincible25  the us liberal media is a joke loonies going g...   \n",
       "4    Surya29011996  covid19 report for 22nd september new positive...   \n",
       "\n",
       "                                            raw_text  \n",
       "0  Trump’s war on critical race theory is maybe t...  \n",
       "1  Typical Sarah Sanders dodging questions. This ...  \n",
       "2  Rumble — In this episode, I address the explos...  \n",
       "3  The US “liberal” media is a JOKE. Loonies goin...  \n",
       "4  Covid-19 Report For 22nd September\\n\\nNew Posi...  "
      ]
     },
     "execution_count": 4,
     "metadata": {},
     "output_type": "execute_result"
    }
   ],
   "source": [
    "# load the partially-cleaned version, and map it to the original text, so that it can be displayed as recommendations\n",
    "\n",
    "df_tweets = pd.read_csv(\"tweets_emoticons_processed.csv\")\n",
    "df_tweets = df_tweets[[\"username\", \"text\"]]\n",
    "df_tweets[\"raw_text\"] = df_tweets_raw[\"raw_text\"]\n",
    "print(df_tweets.shape)\n",
    "df_tweets.head()"
   ]
  },
  {
   "cell_type": "code",
   "execution_count": 5,
   "metadata": {},
   "outputs": [
    {
     "name": "stdout",
     "output_type": "stream",
     "text": [
      "(483228, 3)\n"
     ]
    },
    {
     "data": {
      "text/html": [
       "<div>\n",
       "<style scoped>\n",
       "    .dataframe tbody tr th:only-of-type {\n",
       "        vertical-align: middle;\n",
       "    }\n",
       "\n",
       "    .dataframe tbody tr th {\n",
       "        vertical-align: top;\n",
       "    }\n",
       "\n",
       "    .dataframe thead th {\n",
       "        text-align: right;\n",
       "    }\n",
       "</style>\n",
       "<table border=\"1\" class=\"dataframe\">\n",
       "  <thead>\n",
       "    <tr style=\"text-align: right;\">\n",
       "      <th></th>\n",
       "      <th>username</th>\n",
       "      <th>concat_text</th>\n",
       "      <th>concat_raw_text</th>\n",
       "    </tr>\n",
       "  </thead>\n",
       "  <tbody>\n",
       "    <tr>\n",
       "      <th>0</th>\n",
       "      <td>1mikestreet1</td>\n",
       "      <td>trumps war on critical race theory is maybe th...</td>\n",
       "      <td>Trump’s war on critical race theory is maybe t...</td>\n",
       "    </tr>\n",
       "    <tr>\n",
       "      <th>1</th>\n",
       "      <td>mulliganpete</td>\n",
       "      <td>typical sarah sanders dodging questions this r...</td>\n",
       "      <td>Typical Sarah Sanders dodging questions. This ...</td>\n",
       "    </tr>\n",
       "    <tr>\n",
       "      <th>2</th>\n",
       "      <td>Tom26058303</td>\n",
       "      <td>rumble in this episode i address the explosive...</td>\n",
       "      <td>Rumble — In this episode, I address the explos...</td>\n",
       "    </tr>\n",
       "    <tr>\n",
       "      <th>3</th>\n",
       "      <td>adiinvincible25</td>\n",
       "      <td>the us liberal media is a joke loonies going g...</td>\n",
       "      <td>The US “liberal” media is a JOKE. Loonies goin...</td>\n",
       "    </tr>\n",
       "    <tr>\n",
       "      <th>4</th>\n",
       "      <td>Surya29011996</td>\n",
       "      <td>covid19 report for 22nd september new positive...</td>\n",
       "      <td>Covid-19 Report For 22nd September\\n\\nNew Posi...</td>\n",
       "    </tr>\n",
       "  </tbody>\n",
       "</table>\n",
       "</div>"
      ],
      "text/plain": [
       "          username                                        concat_text  \\\n",
       "0     1mikestreet1  trumps war on critical race theory is maybe th...   \n",
       "1     mulliganpete  typical sarah sanders dodging questions this r...   \n",
       "2      Tom26058303  rumble in this episode i address the explosive...   \n",
       "3  adiinvincible25  the us liberal media is a joke loonies going g...   \n",
       "4    Surya29011996  covid19 report for 22nd september new positive...   \n",
       "\n",
       "                                     concat_raw_text  \n",
       "0  Trump’s war on critical race theory is maybe t...  \n",
       "1  Typical Sarah Sanders dodging questions. This ...  \n",
       "2  Rumble — In this episode, I address the explos...  \n",
       "3  The US “liberal” media is a JOKE. Loonies goin...  \n",
       "4  Covid-19 Report For 22nd September\\n\\nNew Posi...  "
      ]
     },
     "execution_count": 5,
     "metadata": {},
     "output_type": "execute_result"
    }
   ],
   "source": [
    "# concatenate tweets by the same users using whitespace, considering each as a \"tweet document\"\n",
    "\n",
    "df_tweets[\"concat_text\"] = df_tweets[['username','text']].groupby('username')['text'].transform(lambda x: ' '.join(x))\n",
    "df_tweets[\"concat_raw_text\"] = df_tweets[['username','raw_text']].groupby('username')['raw_text'].transform(lambda x: '\\n'.join(x))\n",
    "df_tweets_grouped = df_tweets[[\"username\", \"concat_text\", \"concat_raw_text\"]].drop_duplicates()\n",
    "\n",
    "print(df_tweets_grouped.shape)\n",
    "df_tweets_grouped.head()"
   ]
  },
  {
   "cell_type": "code",
   "execution_count": 6,
   "metadata": {},
   "outputs": [],
   "source": [
    "nlp = spacy.load('en_core_web_sm', disable=['parser', 'ner'])\n",
    "\n",
    "def lemmatization(texts, allowed_postags={'NOUN', 'ADJ'}):\n",
    "    \"\"\"\n",
    "    This function is used for lemmatizing the tweet text.\n",
    "    \n",
    "    Args:\n",
    "    texts (list): list of lists, each nested list contains tokens in a tweet document\n",
    "    allowed_postags (set): set of POS to keep, and discard the rest\n",
    "    \n",
    "    Returns:\n",
    "    texts_out (list): list of lists, each nested list containing lemmatized versions of the allowed POS tags\n",
    "    \"\"\"\n",
    "    \n",
    "    texts_out = []\n",
    "    for sent in texts:\n",
    "        doc = nlp(\" \".join(sent)) \n",
    "        texts_out.append([token.lemma_ for token in doc if (token.pos_ in allowed_postags) and len(token)>1])\n",
    "    return texts_out\n",
    "\n",
    "def remove_stopwords(text):\n",
    "    \"\"\"\n",
    "    This function removes stopwords and stray whitespaces from the text.\n",
    "    \n",
    "    Args:\n",
    "    text (str): tweet text\n",
    "    \n",
    "    Returns:\n",
    "    text (str): cleaned text\n",
    "    \"\"\"\n",
    "    \n",
    "    text = text.lower()\n",
    "    text = \" \".join([word for word in text.split(\" \") if word not in STOPWORDS])\n",
    "    text = \"\".join([ch for ch in text if ch.isalpha() or ch.isdigit() or ch == \" \"])\n",
    "    text = re.sub(\" +\", \" \", text)\n",
    "    return text\n"
   ]
  },
  {
   "cell_type": "code",
   "execution_count": 7,
   "metadata": {},
   "outputs": [
    {
     "name": "stdout",
     "output_type": "stream",
     "text": [
      "(483228, 3)\n"
     ]
    },
    {
     "data": {
      "text/html": [
       "<div>\n",
       "<style scoped>\n",
       "    .dataframe tbody tr th:only-of-type {\n",
       "        vertical-align: middle;\n",
       "    }\n",
       "\n",
       "    .dataframe tbody tr th {\n",
       "        vertical-align: top;\n",
       "    }\n",
       "\n",
       "    .dataframe thead th {\n",
       "        text-align: right;\n",
       "    }\n",
       "</style>\n",
       "<table border=\"1\" class=\"dataframe\">\n",
       "  <thead>\n",
       "    <tr style=\"text-align: right;\">\n",
       "      <th></th>\n",
       "      <th>username</th>\n",
       "      <th>concat_text</th>\n",
       "      <th>concat_raw_text</th>\n",
       "    </tr>\n",
       "  </thead>\n",
       "  <tbody>\n",
       "    <tr>\n",
       "      <th>0</th>\n",
       "      <td>1mikestreet1</td>\n",
       "      <td>trumps war critical race theory maybe importan...</td>\n",
       "      <td>Trump’s war on critical race theory is maybe t...</td>\n",
       "    </tr>\n",
       "    <tr>\n",
       "      <th>1</th>\n",
       "      <td>mulliganpete</td>\n",
       "      <td>typical sarah sanders dodging questions report...</td>\n",
       "      <td>Typical Sarah Sanders dodging questions. This ...</td>\n",
       "    </tr>\n",
       "    <tr>\n",
       "      <th>2</th>\n",
       "      <td>Tom26058303</td>\n",
       "      <td>rumble episode address explosive ties billiona...</td>\n",
       "      <td>Rumble — In this episode, I address the explos...</td>\n",
       "    </tr>\n",
       "    <tr>\n",
       "      <th>3</th>\n",
       "      <td>adiinvincible25</td>\n",
       "      <td>liberal media joke loonies going gaga xi jinpi...</td>\n",
       "      <td>The US “liberal” media is a JOKE. Loonies goin...</td>\n",
       "    </tr>\n",
       "    <tr>\n",
       "      <th>4</th>\n",
       "      <td>Surya29011996</td>\n",
       "      <td>covid19 report 22nd september new positive cas...</td>\n",
       "      <td>Covid-19 Report For 22nd September\\n\\nNew Posi...</td>\n",
       "    </tr>\n",
       "  </tbody>\n",
       "</table>\n",
       "</div>"
      ],
      "text/plain": [
       "          username                                        concat_text  \\\n",
       "0     1mikestreet1  trumps war critical race theory maybe importan...   \n",
       "1     mulliganpete  typical sarah sanders dodging questions report...   \n",
       "2      Tom26058303  rumble episode address explosive ties billiona...   \n",
       "3  adiinvincible25  liberal media joke loonies going gaga xi jinpi...   \n",
       "4    Surya29011996  covid19 report 22nd september new positive cas...   \n",
       "\n",
       "                                     concat_raw_text  \n",
       "0  Trump’s war on critical race theory is maybe t...  \n",
       "1  Typical Sarah Sanders dodging questions. This ...  \n",
       "2  Rumble — In this episode, I address the explos...  \n",
       "3  The US “liberal” media is a JOKE. Loonies goin...  \n",
       "4  Covid-19 Report For 22nd September\\n\\nNew Posi...  "
      ]
     },
     "execution_count": 7,
     "metadata": {},
     "output_type": "execute_result"
    }
   ],
   "source": [
    "# apply the function for removing stopwords\n",
    "df_tweets_grouped[\"concat_text\"] = df_tweets_grouped[\"concat_text\"].apply(remove_stopwords)\n",
    "\n",
    "print(df_tweets_grouped.shape)\n",
    "df_tweets_grouped.head()"
   ]
  },
  {
   "cell_type": "code",
   "execution_count": 8,
   "metadata": {},
   "outputs": [
    {
     "data": {
      "text/plain": [
       "[['trumps',\n",
       "  'war',\n",
       "  'critical',\n",
       "  'race',\n",
       "  'theory',\n",
       "  'maybe',\n",
       "  'important',\n",
       "  'thing',\n",
       "  'presidency',\n",
       "  'banned',\n",
       "  'schools',\n",
       "  'elementary',\n",
       "  'universities',\n",
       "  'leftist',\n",
       "  'race',\n",
       "  'hustlers',\n",
       "  'brainwashing',\n",
       "  'kids',\n",
       "  'madness',\n",
       "  'long',\n",
       "  'actually',\n",
       "  'democrats',\n",
       "  'accept',\n",
       "  'outcome',\n",
       "  '2020',\n",
       "  'election',\n",
       "  'accept',\n",
       "  'outcome',\n",
       "  '2016',\n",
       "  'election',\n",
       "  'httpstcopzryhahrlj']]"
      ]
     },
     "execution_count": 8,
     "metadata": {},
     "output_type": "execute_result"
    }
   ],
   "source": [
    "# Extract token list for each tweet document\n",
    "df_tweets_grouped[\"tokens\"] = df_tweets_grouped[\"concat_text\"].apply(lambda x: x.split(\" \"))\n",
    "data_words = df_tweets_grouped[\"tokens\"].to_list()\n",
    "data_words[:1]"
   ]
  },
  {
   "cell_type": "code",
   "execution_count": 9,
   "metadata": {},
   "outputs": [
    {
     "name": "stdout",
     "output_type": "stream",
     "text": [
      "['trumps', 'war_critical_race', 'theory', 'maybe', 'important', 'thing_presidency_banned', 'schools_elementary_universities_leftist', 'race_hustlers_brainwashing_kids', 'madness', 'long', 'actually', 'democrats', 'accept_outcome', '2020', 'election', 'accept_outcome_2016', 'election', 'httpstcopzryhahrlj']\n"
     ]
    }
   ],
   "source": [
    "# Build the bigram and trigram models\n",
    "bigram = gensim.models.Phrases(data_words, min_count=5, threshold=100) # higher threshold fewer phrases.\n",
    "trigram = gensim.models.Phrases(bigram[data_words], threshold=100)\n",
    "\n",
    "# Faster way to get a sentence clubbed as a trigram/bigram\n",
    "bigram_mod = gensim.models.phrases.Phraser(bigram)\n",
    "trigram_mod = gensim.models.phrases.Phraser(trigram)\n",
    "\n",
    "# See trigram example\n",
    "print(trigram_mod[bigram_mod[data_words[0]]])"
   ]
  },
  {
   "cell_type": "code",
   "execution_count": 10,
   "metadata": {},
   "outputs": [],
   "source": [
    "def make_bigrams(texts):\n",
    "    \"\"\"\n",
    "    Makes bigrams for the tweet documents. If two words occur together frequently, they form a bigram\n",
    "    by concatenating them with an underscore.\n",
    "    \n",
    "    Args:\n",
    "    texts (list): list of lists, each nested list containing tokens from each tweet document\n",
    "    \n",
    "    Returns:\n",
    "    list of lists, each nested list containing tokens in each tweet document, which also include bigrams\n",
    "    if they exist\n",
    "    \"\"\"\n",
    "    \n",
    "    return [bigram_mod[doc] for doc in texts]\n",
    "\n",
    "def make_trigrams(texts):\n",
    "    \"\"\"\n",
    "    Makes trigrams for the tweet documents. If three words occur together frequently, they form a trigram\n",
    "    by concatenating them with an underscore.\n",
    "    \n",
    "    Args:\n",
    "    texts (list): list of lists, each nested list containing tokens from each tweet document\n",
    "    \n",
    "    Returns:\n",
    "    list of lists, each nested list containing tokens in each tweet document, which also include trigrams\n",
    "    if they exist\n",
    "    \"\"\"\n",
    "    \n",
    "    return [trigram_mod[bigram_mod[doc]] for doc in texts]"
   ]
  },
  {
   "cell_type": "code",
   "execution_count": 11,
   "metadata": {},
   "outputs": [
    {
     "data": {
      "text/plain": [
       "['trumps',\n",
       " 'war',\n",
       " 'critical_race',\n",
       " 'theory',\n",
       " 'maybe',\n",
       " 'important',\n",
       " 'thing',\n",
       " 'presidency_banned',\n",
       " 'schools_elementary',\n",
       " 'universities_leftist',\n",
       " 'race_hustlers',\n",
       " 'brainwashing_kids',\n",
       " 'madness',\n",
       " 'long',\n",
       " 'actually',\n",
       " 'democrats',\n",
       " 'accept_outcome',\n",
       " '2020',\n",
       " 'election',\n",
       " 'accept_outcome',\n",
       " '2016',\n",
       " 'election',\n",
       " 'httpstcopzryhahrlj']"
      ]
     },
     "execution_count": 11,
     "metadata": {},
     "output_type": "execute_result"
    }
   ],
   "source": [
    "# preview of bigrams\n",
    "data_words_bigrams = make_bigrams(data_words)\n",
    "data_words_bigrams[0]"
   ]
  },
  {
   "cell_type": "code",
   "execution_count": 12,
   "metadata": {},
   "outputs": [
    {
     "data": {
      "text/plain": [
       "['trumps',\n",
       " 'war_critical_race',\n",
       " 'theory',\n",
       " 'maybe',\n",
       " 'important',\n",
       " 'thing_presidency_banned',\n",
       " 'schools_elementary_universities_leftist',\n",
       " 'race_hustlers_brainwashing_kids',\n",
       " 'madness',\n",
       " 'long',\n",
       " 'actually',\n",
       " 'democrats',\n",
       " 'accept_outcome',\n",
       " '2020',\n",
       " 'election',\n",
       " 'accept_outcome_2016',\n",
       " 'election',\n",
       " 'httpstcopzryhahrlj']"
      ]
     },
     "execution_count": 12,
     "metadata": {},
     "output_type": "execute_result"
    }
   ],
   "source": [
    "# preview of trigrams\n",
    "data_words_trigrams = make_trigrams(data_words)\n",
    "data_words_trigrams[0]"
   ]
  },
  {
   "cell_type": "code",
   "execution_count": 34,
   "metadata": {},
   "outputs": [
    {
     "data": {
      "text/plain": [
       "['war',\n",
       " 'critical_race',\n",
       " 'theory',\n",
       " 'important',\n",
       " 'thing',\n",
       " 'schools_elementary',\n",
       " 'universities_leftist',\n",
       " 'race_hustler',\n",
       " 'brainwashing_kid',\n",
       " 'accept_outcome',\n",
       " 'election',\n",
       " 'accept_outcome',\n",
       " 'election']"
      ]
     },
     "execution_count": 34,
     "metadata": {},
     "output_type": "execute_result"
    }
   ],
   "source": [
    "# preview of lemmatized tokens\n",
    "data_lemmatized = lemmatization(data_words_bigrams, allowed_postags={'NOUN', 'ADJ'})\n",
    "data_lemmatized[0]"
   ]
  },
  {
   "cell_type": "code",
   "execution_count": 35,
   "metadata": {},
   "outputs": [
    {
     "data": {
      "text/plain": [
       "483228"
      ]
     },
     "execution_count": 35,
     "metadata": {},
     "output_type": "execute_result"
    }
   ],
   "source": [
    "len(data_lemmatized)"
   ]
  },
  {
   "cell_type": "markdown",
   "metadata": {},
   "source": [
    "### Apply Latent Dirichlet Allocation (LDA)"
   ]
  },
  {
   "cell_type": "code",
   "execution_count": 36,
   "metadata": {},
   "outputs": [],
   "source": [
    "# build a dictionary from the pre-processed tokens and form a doc-term matrix\n",
    "dictionary = gensim.corpora.Dictionary(data_lemmatized)\n",
    "doc_term_matrix = [dictionary.doc2bow(token_list) for token_list in data_lemmatized]"
   ]
  },
  {
   "cell_type": "code",
   "execution_count": 37,
   "metadata": {},
   "outputs": [
    {
     "name": "stdout",
     "output_type": "stream",
     "text": [
      "Dictionary(123138 unique tokens: ['accept_outcome', 'brainwashing_kid', 'critical_race', 'election', 'important']...)\n"
     ]
    }
   ],
   "source": [
    "# vocabulary of the unique tokens in the data\n",
    "print(dictionary)"
   ]
  },
  {
   "cell_type": "code",
   "execution_count": 38,
   "metadata": {},
   "outputs": [
    {
     "name": "stdout",
     "output_type": "stream",
     "text": [
      "[(0, 2), (1, 1), (2, 1), (3, 2), (4, 1), (5, 1), (6, 1), (7, 1), (8, 1), (9, 1), (10, 1)]\n"
     ]
    }
   ],
   "source": [
    "# doc-term matrix\n",
    "print(doc_term_matrix[0])"
   ]
  },
  {
   "cell_type": "markdown",
   "metadata": {},
   "source": [
    "#### Find Optimal Number of Topics"
   ]
  },
  {
   "cell_type": "code",
   "execution_count": 18,
   "metadata": {},
   "outputs": [
    {
     "data": {
      "application/vnd.jupyter.widget-view+json": {
       "model_id": "f210b74b3c524fa5809ad75172313bec",
       "version_major": 2,
       "version_minor": 0
      },
      "text/plain": [
       "HBox(children=(FloatProgress(value=0.0, max=27.0), HTML(value='')))"
      ]
     },
     "metadata": {},
     "output_type": "display_data"
    },
    {
     "name": "stdout",
     "output_type": "stream",
     "text": [
      "\n"
     ]
    }
   ],
   "source": [
    "coherence_values = []\n",
    "model_list = []\n",
    "# Build LDA model\n",
    "LDA = gensim.models.LdaMulticore\n",
    "for k in tqdm(range(4, 31)):\n",
    "    lda_model = LDA(corpus=doc_term_matrix, id2word=dictionary, num_topics=k, random_state=100,\n",
    "                    passes=10, workers=3) # iterations=50\n",
    "    coherence_model_lda = CoherenceModel(model=lda_model, texts=data_lemmatized, dictionary=dictionary, coherence='c_v')\n",
    "    coherence_lda = coherence_model_lda.get_coherence()\n",
    "#     print(\"\\nNumber of topics: \", k)\n",
    "#     print('Coherence Score: ', coherence_lda)\n",
    "    model_list.append(model_list)\n",
    "    coherence_values.append(coherence_lda)"
   ]
  },
  {
   "cell_type": "code",
   "execution_count": 19,
   "metadata": {},
   "outputs": [
    {
     "data": {
      "image/png": "[encoded data removed]",
      "text/plain": [
       "<Figure size 432x288 with 1 Axes>"
      ]
     },
     "metadata": {
      "needs_background": "light"
     },
     "output_type": "display_data"
    }
   ],
   "source": [
    "plt.plot(list(range(4, 31)), coherence_values)\n",
    "plt.xlabel(\"Number of Topics\")\n",
    "plt.ylabel(\"Coherence score\")\n",
    "plt.title(\"Elbow Method for Optimal Number of Topics\")\n",
    "plt.savefig(\"topic_model_elbow.png\")"
   ]
  },
  {
   "cell_type": "markdown",
   "metadata": {},
   "source": [
    "### Apply LDA with the optimal number of topics"
   ]
  },
  {
   "cell_type": "code",
   "execution_count": 39,
   "metadata": {},
   "outputs": [],
   "source": [
    "# Creating the object for LDA model using gensim library\n",
    "LDA = gensim.models.LdaMulticore\n",
    "lda_model = LDA(corpus=doc_term_matrix,\n",
    "                id2word=dictionary,\n",
    "                num_topics=10,\n",
    "                random_state=5,\n",
    "                passes=10,\n",
    "                workers=3,\n",
    "                per_word_topics=True) # iterations=50\n"
   ]
  },
  {
   "cell_type": "code",
   "execution_count": 40,
   "metadata": {},
   "outputs": [
    {
     "name": "stdout",
     "output_type": "stream",
     "text": [
      "Topic: 0 \n",
      "Words: 0.218*\"vote\" + 0.047*\"voting\" + 0.032*\"year\" + 0.020*\"time\" + 0.017*\"peoples_choice\" + 0.013*\"let\" + 0.013*\"retweet\" + 0.011*\"ready\" + 0.010*\"end\" + 0.008*\"open\"\n",
      "Topic: 1 \n",
      "Words: 0.053*\"trump\" + 0.020*\"great\" + 0.020*\"people\" + 0.019*\"virus\" + 0.018*\"right\" + 0.016*\"political\" + 0.014*\"job\" + 0.014*\"good\" + 0.014*\"supporter\" + 0.013*\"president\"\n",
      "Topic: 2 \n",
      "Words: 0.089*\"trump\" + 0.070*\"positive\" + 0.026*\"covid19\" + 0.023*\"people\" + 0.023*\"campaign\" + 0.018*\"president\" + 0.018*\"today\" + 0.015*\"doctor\" + 0.014*\"event\" + 0.013*\"debate\"\n",
      "Topic: 3 \n",
      "Words: 0.070*\"vote\" + 0.034*\"trump\" + 0.032*\"btstwt\" + 0.032*\"category_pca\" + 0.031*\"election\" + 0.022*\"care\" + 0.017*\"result\" + 0.015*\"people\" + 0.015*\"angry\" + 0.014*\"democracy\"\n",
      "Topic: 4 \n",
      "Words: 0.090*\"election\" + 0.048*\"day\" + 0.023*\"ballot\" + 0.016*\"state\" + 0.013*\"voter\" + 0.013*\"month\" + 0.013*\"early\" + 0.012*\"person\" + 0.012*\"case\" + 0.012*\"trump\"\n",
      "Topic: 5 \n",
      "Words: 0.042*\"trump\" + 0.032*\"president\" + 0.028*\"election\" + 0.022*\"medium\" + 0.010*\"supreme_court\" + 0.010*\"time\" + 0.010*\"american\" + 0.009*\"justice\" + 0.009*\"money\" + 0.009*\"year\"\n",
      "Topic: 6 \n",
      "Words: 0.084*\"mask\" + 0.028*\"covid\" + 0.027*\"people\" + 0.025*\"month\" + 0.020*\"home\" + 0.019*\"wear\" + 0.012*\"time\" + 0.010*\"let\" + 0.010*\"experience\" + 0.009*\"child\"\n",
      "Topic: 7 \n",
      "Words: 0.045*\"virus\" + 0.036*\"new\" + 0.035*\"case\" + 0.021*\"covid19\" + 0.016*\"death\" + 0.014*\"health\" + 0.013*\"covid\" + 0.010*\"vaccine\" + 0.010*\"time\" + 0.010*\"government\"\n",
      "Topic: 8 \n",
      "Words: 0.035*\"people\" + 0.034*\"racist\" + 0.022*\"thing\" + 0.019*\"man\" + 0.018*\"racism\" + 0.015*\"fact\" + 0.013*\"bad\" + 0.012*\"guy\" + 0.009*\"word\" + 0.008*\"good\"\n",
      "Topic: 9 \n",
      "Words: 0.093*\"people\" + 0.064*\"black\" + 0.042*\"white\" + 0.027*\"police\" + 0.022*\"video\" + 0.020*\"life\" + 0.019*\"mob\" + 0.016*\"dead\" + 0.015*\"death\" + 0.015*\"lives_matter\"\n"
     ]
    }
   ],
   "source": [
    "# print top words in each topic\n",
    "for idx, topic in lda_model.print_topics(-1):\n",
    "    print('Topic: {} \\nWords: {}'.format(idx, topic))"
   ]
  },
  {
   "cell_type": "code",
   "execution_count": 41,
   "metadata": {},
   "outputs": [
    {
     "data": {
      "text/html": [
       "\n",
       "<link rel=\"stylesheet\" type=\"text/css\" href=\"https://cdn.rawgit.com/bmabey/pyLDAvis/files/ldavis.v1.0.0.css\">\n",
       "\n",
       "\n",
       "<div id=\"ldavis_el2009223884689052088704591669\"></div>\n",
       "<script type=\"text/javascript\">\n",
       "\n",
       "var ldavis_el2009223884689052088704591669_data = {\"mdsDat\": {\"x\": [-0.08057268612624652, 0.021829387613393085, -0.049894691410854126, 0.15071520996978394, -0.13381588947546802, 0.07438598708154147, -0.16849483741196505, 0.16131365098340927, -0.22543370374641994, 0.24996757252282464], \"y\": [0.1700497193689486, 0.06916120472140524, 0.2195478079726979, -0.04117611949820246, 0.048311668809068, 0.06655469652012751, -0.30639573719080854, -0.10759462451810185, -0.05512623021355367, -0.06333238597157982], \"topics\": [1, 2, 3, 4, 5, 6, 7, 8, 9, 10], \"cluster\": [1, 1, 1, 1, 1, 1, 1, 1, 1, 1], \"Freq\": [13.230076173706253, 12.713699487108165, 11.613055035464745, 9.911566297293163, 9.807813753450645, 9.431008962894232, 9.15251482583964, 8.684031285747931, 8.248896300080359, 7.20733787841487]}, \"tinfo\": {\"Term\": [\"vote\", \"election\", \"trump\", \"mask\", \"positive\", \"people\", \"black\", \"voting\", \"virus\", \"new\", \"case\", \"day\", \"white\", \"covid19\", \"racist\", \"president\", \"covid\", \"category_pca\", \"btstwt\", \"month\", \"ballot\", \"police\", \"campaign\", \"thing\", \"death\", \"home\", \"great\", \"medium\", \"wear\", \"care\", \"criminal\", \"nominee\", \"dollar\", \"russian\", \"investigation\", \"pelosi\", \"media\", \"hunter\", \"poor_judgement\", \"barrett_use\", \"pandemic_lack\", \"um_american\", \"seanhannity_foxnew\", \"released_statement\", \"ditch_pennsylvania\", \"fake_mainstream\", \"discarded_pennsylvania\", \"cursed_language\", \"spoken_ethiopia\", \"barron\", \"unsupervised\", \"raise_hand\", \"folks_peacefully\", \"explosive\", \"rt_votebts\", \"violation\", \"impeachment\", \"hypocrisy\", \"melania_expeditious\", \"repudiation_harsh\", \"interference\", \"agent\", \"son\", \"medium\", \"supreme_court\", \"protest\", \"justice\", \"tax\", \"money\", \"mailin_ballot\", \"military\", \"million\", \"corrupt\", \"president\", \"foreign\", \"national_security\", \"wish\", \"american\", \"trump\", \"administration\", \"election\", \"news\", \"true\", \"order\", \"wife\", \"report\", \"story\", \"family\", \"time\", \"year\", \"power\", \"new\", \"campaign\", \"amp\", \"official\", \"vaccine\", \"infection\", \"scientist\", \"datum\", \"resource\", \"border\", \"population\", \"fancy_guest\", \"shows_tear\", \"needs_assume\", \"idk\", \"trial\", \"fear\", \"insurance_regulation\", \"antibody\", \"masque_red\", \"parrot_party\", \"health_epidemiology\", \"treatment_seek\", \"peasants_die\", \"plot_edgar\", \"mansion_epidemic\", \"asymptomatic_friend\", \"severe\", \"wealthy_prince\", \"throws_huge\", \"denying_existence\", \"host\", \"reagan_callous\", \"project\", \"measure\", \"rate\", \"new\", \"case\", \"difficult\", \"expert\", \"patient\", \"number\", \"virus\", \"deadly\", \"high\", \"duty\", \"health\", \"humanity\", \"access\", \"government\", \"testing\", \"death\", \"covid19\", \"world\", \"science\", \"public\", \"level\", \"covid\", \"information\", \"risk\", \"test\", \"amp\", \"country\", \"time\", \"course\", \"pandemic\", \"people\", \"week\", \"year\", \"today\", \"day\", \"news\", \"positive\", \"wh\", \"hope_hick\", \"diagnosis\", \"sympathy\", \"walter_reed\", \"superspreader_event\", \"sacrifice_grandma\", \"cancel_presidential\", \"bars_open\", \"feels_better\", \"strike_affordable\", \"chris_christie\", \"kellyanne_conway\", \"cocktail\", \"physician\", \"special_antibody\", \"noon\", \"rose_garden\", \"crowded_superspreader\", \"fundraiser_attendee\", \"rare\", \"symptomatic_receiving\", \"polyclonal_antibody\", \"demon_seman\", \"shaking_hand\", \"timeline\", \"genetically_modified\", \"receiving_regeneron\", \"superspreader\", \"yesterday\", \"ad\", \"negative\", \"event\", \"doctor\", \"oxygen\", \"source\", \"condition\", \"trump\", \"campaign\", \"debate\", \"covid19\", \"illness\", \"morning\", \"staff\", \"member\", \"treatment\", \"pandemic\", \"today\", \"symptom\", \"test\", \"hospital\", \"president\", \"coronavirus\", \"people\", \"covid\", \"day\", \"good\", \"tonight\", \"virus\", \"home\", \"wear\", \"common_sense\", \"lockdown\", \"school\", \"awards_pca\", \"student\", \"selenagomez_themusicvideo\", \"sudden\", \"social_distancing\", \"wash_hand\", \"social_distance\", \"corona\", \"tables_turn\", \"worse_funny\", \"check_mistaken\", \"doesnt_radicalize\", \"parent\", \"malaysian\", \"politicians_httpstcosnsm1aoxjn\", \"malaysian_teen\", \"packed_churche\", \"sept_vaccine\", \"easter_april\", \"open_june\", \"embers_july\", \"weekend\", \"fellow_passenger\", \"cancer\", \"photo_senatorwicker\", \"mask\", \"experience\", \"free\", \"fight\", \"month\", \"safe\", \"face\", \"child\", \"covid\", \"protect\", \"let\", \"work\", \"people\", \"family\", \"time\", \"amp\", \"open\", \"hospital\", \"rule\", \"country\", \"virus\", \"today\", \"ballot\", \"mail\", \"early\", \"zealand_taiwan\", \"available_limit\", \"counting_privilege\", \"hard_furious\", \"minecraft\", \"disease_blew\", \"general\", \"relief\", \"victory\", \"chaos\", \"trend\", \"dream\", \"affect_outcome\", \"release\", \"decency\", \"absentee_ballot\", \"commander_chief\", \"trumpism\", \"whats_stake\", \"massive_coverup\", \"underway_disguise\", \"interference_operation\", \"octopuslike_russian\", \"behalf_read\", \"emergency_nation\", \"candidates_running\", \"elect_democratic\", \"upcoming\", \"candidate\", \"election\", \"voter\", \"request\", \"poll\", \"day\", \"sign\", \"count\", \"state\", \"important\", \"fraud\", \"person\", \"question\", \"press\", \"presidential\", \"month\", \"case\", \"voting\", \"thing\", \"time\", \"today\", \"campaign\", \"trump\", \"people\", \"week\", \"place\", \"biden\", \"great\", \"game\", \"compassion\", \"class\", \"patriot\", \"stayed_home\", \"player\", \"clerks_compassion\", \"large_unnecessary\", \"football\", \"flag\", \"amy_coney\", \"outside_walter\", \"perfect\", \"youtube\", \"surprise\", \"cult\", \"turn\", \"maga\", \"movie\", \"cool\", \"pray\", \"hero\", \"strange\", \"cure\", \"abortion\", \"wonderful\", \"hair\", \"green\", \"ignorant\", \"prayer\", \"well\", \"change\", \"job\", \"smart\", \"war\", \"political\", \"grocery_store\", \"love\", \"supporter\", \"hoax\", \"leader\", \"right\", \"stupid\", \"secret\", \"nation\", \"trump\", \"problem\", \"realdonaldtrump\", \"politic\", \"sick\", \"good\", \"virus\", \"thing\", \"country\", \"real\", \"people\", \"president\", \"way\", \"bad\", \"month\", \"biden\", \"mask\", \"year\", \"time\", \"life\", \"peoples_choice\", \"blackpink_thegroup\", \"glow_squid\", \"artist\", \"final_round\", \"friend_twomob\", \"category\", \"award\", \"reply\", \"stream\", \"believe_socialism\", \"iceologer\", \"controlled_watched\", \"dynamite\", \"gap\", \"register\", \"pca\", \"blackpink\", \"mwave\", \"song\", \"unity\", \"distress_complicit\", \"page_easier\", \"women_damsel\", \"pls\", \"diagnosed_72\", \"whosfan\", \"tiktok\", \"choice_award\", \"drivers_license\", \"vote\", \"voting\", \"retweet\", \"account\", \"ready\", \"website\", \"tens_thousand\", \"1st\", \"app\", \"let\", \"year\", \"win\", \"social\", \"end\", \"open\", \"time\", \"fan\", \"sure\", \"worth\", \"guy\", \"day\", \"good\", \"week\", \"public\", \"today\", \"racist\", \"racism\", \"shit\", \"fun\", \"crazy\", \"stuff\", \"dumb\", \"presidents_action\", \"cared_agent\", \"told_confidant\", \"peaceful_counterprotester\", \"texas_assault\", \"sad\", \"joke\", \"mad\", \"lol\", \"income_taxe\", \"get2getherexperience_hitrefresh\", \"treasure\", \"tired\", \"trash\", \"edge_medical\", \"literally_suing\", \"dog\", \"healthcare_protection\", \"taylorswift13\", \"hot\", \"character\", \"privilege\", \"reference\", \"kind\", \"little\", \"fuck\", \"man\", \"fact\", \"funny\", \"race\", \"guy\", \"girl\", \"thing\", \"old\", \"word\", \"violent\", \"talk\", \"bad\", \"people\", \"lot\", \"comment\", \"way\", \"wrong\", \"tweet\", \"life\", \"good\", \"different\", \"right\", \"white\", \"twitter\", \"person\", \"work\", \"friend\", \"mask\", \"time\", \"amp\", \"category_pca\", \"result\", \"angry\", \"democracy\", \"pcas\", \"neighbor_coworker\", \"kcamexico\", \"dynamite_themusicvideo\", \"pcas_taylorswift13\", \"theft\", \"theyve_held\", \"coming_pattern\", \"sexual_harassment\", \"likely\", \"settle_accusation\", \"taken_custody\", \"melanias_tape\", \"taylorswift_thefemaleartist\", \"popular\", \"rt_reply\", \"path_speedy\", \"future_generation\", \"butlers_housekeeper\", \"chefs_valet\", \"florists_engineer\", \"results_16\", \"discloses_information\", \"lose\", \"rid_ballot\", \"dynamite_thesong\", \"btstwt\", \"negligence\", \"choice\", \"care\", \"office\", \"brad_parscale\", \"threat\", \"vote\", \"party\", \"power\", \"election\", \"republican\", \"hour\", \"trump\", \"clear\", \"challenge\", \"country\", \"need\", \"way\", \"day\", \"plan\", \"death\", \"people\", \"twitter\", \"recovery\", \"president\", \"reporter\", \"debate\", \"black\", \"lives_matter\", \"supremacist\", \"young\", \"movement\", \"supremacy\", \"organization\", \"nyt\", \"murder\", \"innocent\", \"horrible\", \"terrorist\", \"begin_quarantine\", \"domestic_terrorist\", \"ruin\", \"absolute_disregard\", \"endangering_passenger\", \"unusual_true\", \"commuter_flight\", \"dinner\", \"blacklivesmatter\", \"lady_recording\", \"yup_experience\", \"treatment_everyday\", \"ballots_mailed\", \"actually_hilarious\", \"minding_business\", \"investigation_gavinnewsom\", \"interference_scandal\", \"choose_human\", \"street\", \"mob\", \"police\", \"white\", \"preexisting_condition\", \"message\", \"alive\", \"video\", \"cop\", \"officer\", \"dead\", \"people\", \"life\", \"arrest\", \"breonna_taylor\", \"pre\", \"violence\", \"crime\", \"law\", \"death\", \"kid\", \"woman\", \"policy\", \"amp\", \"covid19\", \"year\", \"today\", \"person\"], \"Freq\": [109922.0, 64316.0, 105740.0, 41335.0, 34458.0, 85840.0, 19703.0, 22251.0, 37574.0, 23663.0, 23800.0, 36792.0, 15361.0, 26313.0, 12744.0, 36330.0, 24130.0, 11202.0, 11364.0, 20127.0, 9692.0, 9455.0, 20012.0, 16157.0, 17383.0, 8363.0, 8099.0, 15566.0, 8121.0, 10775.0, 4460.05488814875, 3433.368148124494, 2790.1229625254887, 2756.782585074337, 1834.608164280951, 1464.9146742699274, 1444.681458006394, 1351.732742058812, 1283.6172842002054, 1240.906704375045, 1240.906704375045, 1111.4630524281122, 1022.6437252698169, 990.9717339514395, 967.42350326523, 914.2140740505872, 878.1152491121127, 865.3046782176696, 865.3046782176696, 862.2739618929505, 828.6778804877981, 784.6994297462454, 779.1607111950628, 753.4850104648345, 675.4385763423528, 666.7654794779013, 644.8537540972964, 566.1284884239238, 555.0627519137983, 554.8268995264062, 2699.7749332709873, 2778.2285874436066, 2055.153942078862, 12243.240991837392, 5885.9284986675875, 4623.549761392223, 5203.909127994419, 2768.144254540995, 5087.18086459607, 2471.8029604861154, 4276.748414364355, 3846.4371797084086, 1798.8791569376458, 18214.74788508023, 1329.552494659674, 1627.4725798629315, 2526.449196134318, 5400.389679836657, 23600.81709175422, 2707.125271609383, 15751.523430715684, 4917.183617283252, 3023.5337386918563, 2928.6482460602956, 2174.0415563484, 2489.247360309434, 3029.8573171943935, 3861.4376018942603, 5554.639770537544, 4996.547814173305, 3385.1430397366016, 4201.896439124283, 3771.426391935466, 3556.1252402748046, 2749.1122552582865, 5477.22491814073, 3796.310341155179, 1804.8166768526055, 1483.702170235229, 1320.2778456774731, 1093.8301304458146, 1089.07888273563, 1055.891970832069, 1051.1084442506349, 965.7531912837454, 950.9541815844522, 832.3295192465813, 1334.299509408867, 719.8258405174757, 674.7273934423848, 618.1482804341064, 612.4097793408321, 612.4097793408321, 612.4097793408321, 609.8530526992968, 609.8530526992968, 609.8530526992968, 609.8530526992968, 625.1893066255514, 592.3324477597181, 591.6449899205622, 572.7533225534474, 558.9821201224536, 558.3180976281776, 535.3364256511522, 1702.2979710753837, 2400.1002093619036, 19457.514590422023, 18842.049625392632, 1049.779514909446, 4015.321535062529, 3739.9242696939427, 4395.255346253728, 24318.57969503288, 2516.487333192141, 4095.5889178047746, 1533.6445957112956, 7466.596388786749, 1378.0145762875497, 1610.2283970483652, 5239.091998844561, 2339.58774849655, 8500.09535065779, 11328.13784380599, 3946.9833113765076, 2003.8624729554642, 4519.434627504429, 1755.7495078149605, 7116.966815742806, 1649.5158892819957, 2661.7927882514055, 3504.04190152278, 4759.311490200709, 4214.09368719229, 5288.259984082821, 1862.5781693365172, 2798.2809948478643, 5042.611078061107, 2761.0932084465903, 3282.9916431067513, 2851.6473810621096, 2855.041273810631, 2355.7615475380635, 34457.3236031676, 3669.9068842600163, 3337.62243965722, 3253.1386141694184, 2290.073871479723, 2256.389370242754, 1841.521605985986, 1304.0426541991492, 1298.4782306882228, 1294.3691037387407, 1275.864415386201, 1170.3951696307558, 1147.426733257184, 1114.2576038736297, 1001.6075410670031, 966.9352245444926, 940.7387901481624, 897.6385397764742, 848.8331945348555, 788.8081832725844, 788.2137631165301, 760.3707583461636, 740.3114726082065, 707.3126721220189, 688.2422402604409, 676.499701452547, 655.9064069255894, 655.7877767721388, 654.9410367420381, 654.664944677709, 4678.019927535795, 5943.488394834545, 5266.394100127471, 6733.1613203784145, 7235.968532637651, 1610.358404296505, 3211.513047388143, 2717.8385105608886, 44113.12754653498, 11229.041033946316, 6639.247320883149, 12848.378633028802, 1702.0554739494175, 2768.659760618293, 2926.1389813442697, 3455.2200030172376, 3184.5613843544033, 4831.0062042983045, 8890.015375916873, 2598.5935113344703, 4812.553907083573, 3897.682318036221, 8901.492497066269, 2496.9034668390955, 11235.467372453471, 5216.27170630479, 5256.016962074077, 3447.2240075575205, 2574.718615957636, 2581.6217830582314, 8361.699332214137, 8120.338964151874, 3602.1476013305983, 3342.651836817851, 3166.610688962656, 3005.203572538205, 2825.920091730835, 2388.577637209816, 1885.8962642256402, 1883.7406840618703, 1773.819884488865, 1484.7715158054305, 1426.8204282882837, 1386.9995171837575, 1386.9215120896467, 1374.273852802872, 1236.900775614621, 1079.1609820174556, 961.3919047623701, 946.305404389272, 946.305404389272, 935.8951715203151, 935.7716634546399, 935.7716634546399, 935.7716634546399, 935.6764223864517, 854.5739744884331, 821.9100307685594, 815.9435767362585, 815.1882471065431, 35532.710276353, 4122.787874390704, 3362.3477291156696, 2420.118681841362, 10723.300404693246, 3618.094521529644, 3095.2167235604397, 3974.9863434466147, 11795.890934901086, 3231.5128970883297, 4241.678668838752, 3613.498130453942, 11236.625139407186, 3567.395543974058, 4879.165057364915, 3642.911172480242, 2226.1735920447236, 2436.2549022814187, 2041.4927890690908, 2856.5565924427947, 2863.7435011767016, 2081.0715101150086, 9690.857991980078, 4052.8429260184703, 5324.720384256605, 2162.7072049597396, 1858.7414223027029, 1732.1806580225102, 1716.0151144862793, 1700.2127079940592, 1662.5172115881442, 1648.0340275939734, 1629.9283420461686, 1065.0559027891359, 1189.006875398764, 791.0658843536185, 767.8086914779003, 742.2991425486091, 733.4246521071113, 719.3937325930083, 639.6208276406057, 581.8286294034457, 566.6313538576195, 549.0609689577561, 536.5283064961434, 536.5283064961434, 531.2059512782272, 531.133538282065, 507.93842761167025, 502.2311529747199, 494.9454114658425, 490.11391500320286, 805.2403141461183, 4743.195879691011, 37770.809040652945, 5573.950128479512, 1346.2880005231932, 3676.1565625211274, 19896.760095193207, 2313.6176432468474, 1044.9352257263215, 6841.381838086514, 3709.1846855943318, 2492.1789305153034, 4961.214160663678, 3411.3896987179155, 1609.4913088789906, 2922.6175682701123, 5373.707435049265, 4957.408921064547, 3855.257779801344, 3247.4281579515846, 4425.252731949738, 3573.2973613131553, 3239.884926354066, 4830.1172046023685, 3510.5173403067015, 2224.76075695759, 1879.807269266971, 1829.9877126691738, 8097.263845949109, 2439.463320508665, 2008.0639236722448, 1489.4841118737793, 1364.1663537254663, 1228.023556446402, 1217.405910779332, 1188.3176889033184, 1188.3176889033184, 951.7575630708619, 908.7341498367188, 882.5710848436158, 835.017816001477, 827.9308261639261, 777.0648380036963, 704.8263583146455, 728.9213927776747, 678.933523349796, 673.3590157130363, 649.197630336186, 645.0958224667188, 643.7098099809017, 639.6304470886382, 616.9766238236305, 597.6597923155267, 581.2676491104338, 554.0014533170636, 532.3032050418549, 529.3814219342232, 516.793022924292, 2380.955684483412, 4836.46055671609, 3305.5999025242404, 5710.774045416307, 907.6374854390697, 1752.0447991900649, 6267.047361519886, 1302.2708850241731, 2882.1912924362346, 5547.364115184072, 2233.139156158957, 4072.9553432807793, 7159.4937677532025, 1747.4804561014387, 1094.7960758723511, 2449.634128383222, 21300.775562578307, 2569.2466451027126, 2825.898727313633, 1840.3053845372833, 3269.0236801323695, 5695.17070961465, 7809.199666706774, 3898.1056908051482, 4083.4316652500493, 2450.3373730969424, 7930.2012416814305, 5390.846058119084, 3125.6249231038623, 2969.653230202119, 3150.8864403696207, 2253.3679378681823, 3711.6997334070334, 3255.3512683820854, 2946.473332283531, 2284.6930664701817, 6622.714975961299, 3239.430255868933, 3227.6884300819993, 2535.8574790520215, 2086.4488831246113, 2060.679693674105, 1993.0168586956895, 1860.3638037823491, 1283.4922247469428, 1269.8160135601588, 1262.5534964068252, 1171.342982052507, 1129.1591195980416, 1095.8274645693248, 1067.037872696089, 1038.344231577324, 919.3952181169934, 915.0774341658016, 827.6961279778243, 795.6099228369982, 779.1506850276451, 774.2873914789967, 774.2873914789967, 774.2873914789967, 706.1510327061235, 687.0727940426262, 651.3513740617973, 574.6353352904479, 558.9094613755748, 558.5086054984841, 85184.03136403274, 18395.13513843793, 4978.872826180807, 3214.495792508032, 4336.670697614997, 1908.9951021943489, 1492.8588628199068, 1091.3857177002715, 1063.6263913688808, 5008.034943447704, 12389.804605661391, 2862.767793089501, 2776.5940112305384, 3912.8284757992587, 3252.6421745423763, 7853.265303283063, 1453.7444240741042, 2517.677221217215, 1555.2755107176145, 2053.955864974545, 3087.7669463574666, 2485.6413106424766, 2161.8910960503495, 1992.257983723836, 2196.4028089361855, 12743.277679961964, 6773.400925674711, 2969.6858709726816, 1846.9964151531858, 1375.8369451430206, 1326.7608467565997, 1324.5874647274209, 1243.534104701888, 1209.9390170370857, 1183.9589643340446, 1171.5455063946563, 1171.5455063946563, 1557.657532871763, 1117.565966134018, 928.4523035940296, 875.0267660582119, 768.4657226311439, 747.5434904432394, 697.5360720556308, 692.0416939416052, 690.402682920752, 653.0349402518335, 651.1287221535026, 646.3427685518468, 639.6233281819157, 601.0647816810407, 598.1519527127674, 588.9762610096136, 534.243984647946, 532.4664297992581, 1270.2812181870054, 2604.400636338674, 2034.2268998950815, 7000.838891663157, 5713.108399802752, 1416.1990639102678, 2130.1825880452475, 4479.920770599812, 1267.221776971151, 7998.4393646407125, 2718.726260945901, 3472.694111958834, 1551.8594887781978, 1603.7578082106086, 4725.261481339372, 13037.434142324582, 2433.7610662197426, 1683.148642302124, 3024.8624713265763, 1750.8855717227664, 1472.592571807063, 2796.2950991601792, 3049.0480557021033, 1602.4432166981608, 2601.3663927545404, 2351.8875750576535, 1882.4315339864222, 1971.9257554653877, 1843.3116929803145, 1738.5156055860741, 2070.277289667254, 1886.7175475902202, 1689.3910966811757, 11201.472305900046, 5921.512926250325, 5240.491807371997, 5065.3276309293215, 2643.6607680896045, 1632.1578722503991, 1616.555503825522, 1452.436365502138, 1391.7592314313606, 1353.1925019907603, 1349.8564325978502, 1349.8564325978502, 1342.3970604537285, 1310.8360029658506, 1306.5419581191225, 1278.520827725331, 1269.6896989952895, 1195.4221334820909, 1191.5592472635037, 1153.4809730063807, 1072.1974893753425, 1017.3926374566594, 906.9537319686708, 906.9537319686708, 906.9537319686708, 847.0266171844885, 846.3227466255823, 696.9440693173985, 615.3099209313817, 612.1046745746908, 11259.190511423556, 1984.0895450533246, 2765.687840417429, 7666.8509220195665, 5049.877725441392, 1322.9432815151956, 2687.249429946874, 24736.87216926091, 3038.729287852782, 4210.002357723613, 10793.309023178168, 2679.0005293034646, 2970.3842516854133, 11894.51963566931, 2144.4892434697654, 1649.2642137758714, 3717.769044305364, 2259.1825206531475, 3209.0323556864714, 4604.808247782502, 2211.5988380319363, 3207.5352680088354, 5290.4478460798355, 2061.577439278267, 2056.241728301042, 2691.4510133995827, 1922.4233691560933, 2038.0430636047317, 19702.082131476214, 4606.346894011906, 4045.9145936986856, 3366.5804213807282, 2265.1233754706004, 2225.495099937459, 1411.7591958760936, 1292.9979842748633, 1158.3023983381838, 895.1744102463911, 859.257879149145, 808.7477595688094, 786.2955946623523, 621.1336385481808, 611.0748440718063, 589.366088018909, 589.366088018909, 589.366088018909, 589.366088018909, 583.4250838835602, 578.9705751682559, 561.2750810149806, 559.9120573544293, 559.9120573544293, 558.656820815709, 553.8033207012542, 548.4148598515716, 547.5241299949508, 547.5241299949508, 442.43612660926664, 1306.7521939753206, 5935.428998663142, 8230.487686830586, 13008.428814023706, 2292.9641086557654, 4152.931091323272, 1310.664902307467, 6691.73277296146, 1374.2750604448672, 1855.3584207302363, 4823.992369277799, 28555.453045957445, 6098.933683017066, 722.2063746924414, 2137.4323768272457, 1665.7244191800366, 1886.5953434949583, 2107.9103077802147, 2924.4864920260193, 4658.344547492862, 1836.921881161953, 1985.0740983996157, 1807.7534684654884, 2105.7173232815635, 2135.5317425155145, 2119.2508021451545, 1888.0618213066628, 1640.7176636765057], \"Total\": [109922.0, 64316.0, 105740.0, 41335.0, 34458.0, 85840.0, 19703.0, 22251.0, 37574.0, 23663.0, 23800.0, 36792.0, 15361.0, 26313.0, 12744.0, 36330.0, 24130.0, 11202.0, 11364.0, 20127.0, 9692.0, 9455.0, 20012.0, 16157.0, 17383.0, 8363.0, 8099.0, 15566.0, 8121.0, 10775.0, 4461.313711059775, 3434.62693457794, 2791.38173169094, 2758.041337427344, 1835.8669132190048, 1466.1734658557887, 1445.9402718822928, 1352.991471079675, 1284.8761067458693, 1242.1655190063368, 1242.1655190063368, 1112.722001029639, 1023.9024746296756, 992.2304547581491, 968.6822188105161, 915.4727914436148, 879.3739864912079, 866.5634562610778, 866.5634562610778, 863.5328038083537, 829.9366331332982, 785.9581991202715, 780.4194298395759, 754.7437304271405, 676.6981825325825, 668.0501512224772, 646.1984925225971, 567.3873582318961, 556.3215696087099, 556.0857164743313, 2714.8802325133793, 2919.111598490241, 2203.995364361945, 15566.602052638564, 7287.75689660863, 5711.7942596244975, 6560.408631566023, 3290.7023648648856, 6706.212129651282, 2991.01672449262, 5700.903901510705, 5161.267343881292, 2104.873251003155, 36330.32380044037, 1461.4605955253148, 1898.970282570412, 3514.6803854604964, 11448.998528073529, 105740.05357288466, 4207.697661454218, 64316.57260592357, 10809.977325648051, 5152.365154424038, 4925.651961620011, 3066.997158932564, 3969.226047230709, 5775.672039938054, 12496.905106265576, 34890.856436642935, 31616.859518121037, 10648.793901480676, 23663.58260999298, 20012.530300370458, 20300.52100581596, 8111.017412535237, 5478.548242713483, 3797.6337344971625, 1806.1403357523109, 1485.0255113887392, 1321.601170052213, 1095.1535809122324, 1090.4022298220475, 1057.215436769335, 1052.4319082210025, 967.076487457592, 952.2778034665521, 833.6528643987378, 1336.7292716582701, 721.149152125572, 676.0507606193382, 619.4715642532768, 613.7330688038396, 613.7330688038396, 613.7330688038396, 611.1763327328898, 611.1763327328898, 611.1763327328898, 611.1763327328898, 626.5470624344073, 593.6557273146033, 592.9682698834331, 574.0766210067538, 560.3055273454388, 559.6413949129251, 536.6597764017787, 1708.4173547937185, 2566.320277767901, 23663.58260999298, 23800.60753224194, 1094.9267160944707, 4814.767235343052, 4514.854430609234, 5474.151551161045, 37574.11606673654, 3007.906974706508, 5320.873389345198, 1777.7027196024947, 11251.559973621514, 1586.475161374032, 1950.208358612635, 8164.577461741446, 3121.5155262621406, 17383.004866784242, 26313.106198860074, 7555.292821046597, 2838.135711799205, 10066.66920591766, 2417.582415083247, 24130.26477998781, 2223.9164347581736, 5878.4133584489955, 10458.3072620924, 20300.52100581596, 17937.15688678905, 34890.856436642935, 2882.289068051603, 9393.316977010005, 85840.8124611805, 13279.046902709308, 31616.859518121037, 23439.292592093316, 36792.77078273289, 10809.977325648051, 34458.694064103045, 3671.2764231848305, 3338.99196474571, 3254.508237933474, 2291.443510351138, 2257.758939086869, 1842.8913388003418, 1305.4121737204518, 1299.847745575178, 1295.7386186591464, 1277.2339278747736, 1171.764661105425, 1148.7962752022931, 1115.627110709299, 1002.9770628765873, 968.3048199242314, 942.1082805422719, 899.0080720539453, 850.202764332247, 790.1776742212313, 789.5832717488204, 761.7403580023687, 741.6809716821132, 708.6821597278163, 689.6117217286451, 677.8692489069566, 657.276092174434, 657.1572580394129, 656.3105177458643, 656.0345816407856, 4982.459686764072, 6465.922309575969, 5879.810923403951, 7632.620840127036, 8801.669130451051, 1745.5989848122365, 3900.948891270641, 3409.064735015655, 105740.05357288466, 20012.530300370458, 10659.106020976129, 26313.106198860074, 2067.4518759154244, 4016.8175145452537, 4362.12268605028, 5564.221421327689, 5110.938666980245, 9393.316977010005, 23439.292592093316, 3848.468459507298, 10458.3072620924, 7868.6677353147215, 36330.32380044037, 4108.1343797744385, 85840.8124611805, 24130.26477998781, 36792.77078273289, 20861.385370625896, 4655.580620596191, 37574.11606673654, 8363.04177707861, 8121.6814413985785, 3603.4900229435925, 3343.994266402872, 3167.9531214548824, 3006.5474094167193, 2827.2624988890598, 2389.9204418519566, 1887.2386710146538, 1885.083218487012, 1775.1622639997495, 1486.1139201831927, 1428.1629067983044, 1388.3418743804837, 1388.263869297475, 1375.6162094227207, 1238.243131304057, 1080.5034231069267, 962.7344887351657, 947.6480225228444, 947.6480225228444, 937.2375684274159, 937.1140605233509, 937.1140605233509, 937.1140605233509, 937.0188195731689, 855.9164931299794, 823.252439484082, 817.2860532203304, 816.5306521769219, 41335.255505444205, 4688.440749094656, 3999.471434563848, 2835.978941013172, 20127.268721246917, 5128.024515113889, 4245.7523828271715, 5869.21157240443, 24130.26477998781, 4970.891409499171, 9250.930187189451, 7774.3443946207235, 85840.8124611805, 12496.905106265576, 34890.856436642935, 20300.52100581596, 5704.527756772256, 7868.6677353147215, 4449.966202326018, 17937.15688678905, 37574.11606673654, 23439.292592093316, 9692.145243814877, 4054.1301691760323, 5326.507461892958, 2163.99450799404, 1860.0287990160336, 1733.4679886600104, 1717.3024440437987, 1701.5011644905167, 1663.8045337029776, 1649.321590443026, 1631.2157074089844, 1066.3431970948968, 1190.6739592650588, 792.3531870794745, 769.0960623360518, 743.5864429425226, 734.7119493525452, 720.6810129506157, 640.9080747482616, 583.1164562828773, 567.9186559618065, 550.3482001761652, 537.8155410100564, 537.8155410100564, 532.4931858867294, 532.4207729512115, 509.22565880422246, 503.51841080168396, 496.23263864472233, 491.40114254186653, 809.0512670777923, 5661.192745598073, 64316.57260592357, 7505.1394206346295, 1548.9449680642742, 4952.379915227155, 36792.77078273289, 2998.641442599183, 1177.9202783936034, 11879.56080351028, 5920.4021219354245, 3901.8201228156095, 10101.721005260324, 6257.801230262548, 2258.8899761435923, 5556.471382669329, 20127.268721246917, 23800.60753224194, 22251.554283462945, 16157.339354365427, 34890.856436642935, 23439.292592093316, 20012.530300370458, 105740.05357288466, 85840.8124611805, 13279.046902709308, 4781.245119339902, 5918.665023815018, 8099.314656619501, 2440.7828038099346, 2009.383389420567, 1490.8035891298778, 1365.48584006106, 1229.3429595767586, 1218.7253946724236, 1189.6370837451484, 1189.6370837451484, 953.0770805354999, 910.0536111468282, 883.892011658466, 836.3373182773587, 829.2503122430519, 778.3843520159245, 706.1483963436604, 730.3212326624746, 680.2530120584744, 674.6798398810902, 650.5171266228961, 646.4153305869638, 645.036393170698, 640.9540060453363, 618.2961030500045, 598.9793159778172, 582.5871196704304, 555.3440338228338, 533.6226829128431, 530.7009099444251, 518.1125231540868, 2539.2091457576307, 5412.037904622862, 3823.9146856376715, 6987.51597682426, 948.7123898475015, 1984.8714151627817, 8419.330684707362, 1475.9488569189944, 3925.495528852826, 8857.836112055013, 3065.9808285563413, 6836.609697183129, 14941.106326092731, 2368.505185045129, 1312.8304635120217, 4226.439124379444, 105740.05357288466, 4594.393066222357, 5380.408541157728, 2815.5444387547413, 7647.89976329812, 20861.385370625896, 37574.11606673654, 16157.339354365427, 17937.15688678905, 5945.5864451912485, 85840.8124611805, 36330.32380044037, 13481.217149817121, 12464.940629234885, 20127.268721246917, 5918.665023815018, 41335.255505444205, 31616.859518121037, 34890.856436642935, 12743.977492863025, 6624.050773015956, 3240.7660192709013, 3229.0248392391954, 2537.193276671837, 2087.7849171441458, 2062.0160813491193, 1994.3527419085876, 1861.6995779787526, 1284.8280501090126, 1271.1517909310815, 1263.8892604726766, 1172.6793093523484, 1130.4958120492768, 1097.1633041912498, 1068.3736708931185, 1039.6800446359694, 920.7310779505112, 916.4131910809358, 829.0318697026468, 796.9457236352512, 780.4865439765882, 775.6232127089315, 775.6232127089315, 775.6232127089315, 707.4867944766786, 688.4092116773264, 652.6871159961992, 575.9711159581849, 560.2452155226565, 559.8450368325313, 109922.08595813363, 22251.554283462945, 5816.983274335423, 3685.4050477599835, 5213.4020509802485, 2150.429065909763, 1679.9870350494193, 1176.4276362878472, 1169.9566812813484, 9250.930187189451, 31616.859518121037, 4501.913179809345, 4374.211136320889, 7442.909104953567, 5704.527756772256, 34890.856436642935, 1950.963910322996, 5745.653454840956, 2588.200378916311, 6535.076137080557, 36792.77078273289, 20861.385370625896, 13279.046902709308, 10066.66920591766, 23439.292592093316, 12744.60305097028, 6774.726293788047, 2971.01128236837, 1848.3218780037773, 1377.1627996990387, 1328.086278556448, 1325.9128691106528, 1244.8594529297923, 1211.2643649403026, 1185.284310774624, 1172.8708776025362, 1172.8708776025362, 1559.4865737559255, 1118.8913639067673, 929.7777117257557, 876.3521566437727, 769.7911569174316, 748.8689130642402, 698.8616187533842, 693.3670826318819, 691.7281213759633, 654.3602797026601, 652.4540678354334, 647.6681476431305, 640.9486842997336, 602.390680734162, 599.4774197678701, 590.3016592178162, 535.5693936060613, 533.7917904345682, 1358.9254956906818, 3097.472170638991, 2362.5847476597414, 9645.711720000192, 8161.605750741837, 1621.0293091204799, 2673.1896835798, 6535.076137080557, 1465.4782368058618, 16157.339354365427, 4341.622707553015, 6307.478732482546, 2125.136158890515, 2321.618093717401, 12464.940629234885, 85840.8124611805, 5234.491523502968, 2953.9082059072744, 13481.217149817121, 3306.484654152106, 2139.1843918151735, 12743.977492863025, 20861.385370625896, 2888.9604387872155, 14941.106326092731, 15361.465298225543, 5869.836863903792, 10101.721005260324, 7774.3443946207235, 5477.6541902881745, 41335.255505444205, 34890.856436642935, 20300.52100581596, 11202.780603154048, 5922.8212663002905, 5241.800139247688, 5066.636711552872, 2644.969270457872, 1633.466546195734, 1617.863790179464, 1453.74470216283, 1393.0676125729563, 1354.5007954947168, 1351.1647117990046, 1351.1647117990046, 1343.705356256683, 1312.1443760077289, 1307.8502307633578, 1279.8290972767657, 1270.9979722205912, 1196.7305243002897, 1192.8675577486192, 1154.7892879219492, 1073.5057809660848, 1018.7009823575827, 908.2620359015616, 908.2620359015616, 908.2620359015616, 848.3348775995082, 847.6310068451212, 698.2523863591067, 616.6198371982273, 613.4130065402582, 11364.955909235532, 1988.8669353177945, 3132.3035072800603, 10775.512835948755, 6657.206371377445, 1464.251454889997, 4048.810066228634, 109922.08595813363, 5431.358709048204, 10648.793901480676, 64316.57260592357, 5626.7691716239415, 6910.799159417319, 105740.05357288466, 3914.331366834375, 2304.454134238105, 17937.15688678905, 5259.361575406715, 13481.217149817121, 36792.77078273289, 5707.218451761284, 17383.004866784242, 85840.8124611805, 5869.836863903792, 6818.589092581787, 36330.32380044037, 5216.420042775163, 10659.106020976129, 19703.367334258244, 4607.632072068802, 4047.1998352661153, 3367.865674287434, 2266.408604944704, 2226.781775742344, 1413.044410395699, 1294.283211590272, 1159.5876112852407, 896.45965667561, 860.543163051137, 810.0329793613014, 787.5810647639975, 622.4188259015704, 612.3601570320777, 590.6513122791038, 590.6513122791038, 590.6513122791038, 590.6513122791038, 584.7103947060533, 580.2557700431115, 562.5602503354315, 561.197226632217, 561.197226632217, 559.9420574056865, 555.0884899574381, 549.700028410788, 548.8093652733738, 548.8093652733738, 443.7213714551984, 1333.4078221332957, 6348.790546646854, 9455.046207186977, 15361.465298225543, 2490.1753031038334, 4693.479898577786, 1381.8575009998722, 8320.818382825728, 1533.6098975843, 2287.0460128127393, 7982.875360349695, 85840.8124611805, 12743.977492863025, 779.161188635301, 3494.8402071573564, 2511.793736199671, 3093.142799754556, 3722.373354936959, 6323.701289868601, 17383.004866784242, 3911.7528372691727, 5443.588195312064, 4590.575183518953, 20300.52100581596, 26313.106198860074, 31616.859518121037, 23439.292592093316, 10101.721005260324], \"Category\": [\"Default\", \"Default\", \"Default\", \"Default\", \"Default\", \"Default\", \"Default\", \"Default\", \"Default\", \"Default\", \"Default\", \"Default\", \"Default\", \"Default\", \"Default\", \"Default\", \"Default\", \"Default\", \"Default\", \"Default\", \"Default\", \"Default\", \"Default\", \"Default\", \"Default\", \"Default\", \"Default\", \"Default\", \"Default\", \"Default\", \"Topic1\", \"Topic1\", \"Topic1\", \"Topic1\", \"Topic1\", \"Topic1\", \"Topic1\", \"Topic1\", \"Topic1\", \"Topic1\", \"Topic1\", \"Topic1\", \"Topic1\", \"Topic1\", \"Topic1\", \"Topic1\", \"Topic1\", \"Topic1\", \"Topic1\", \"Topic1\", \"Topic1\", \"Topic1\", \"Topic1\", \"Topic1\", \"Topic1\", \"Topic1\", \"Topic1\", \"Topic1\", \"Topic1\", \"Topic1\", \"Topic1\", \"Topic1\", \"Topic1\", \"Topic1\", \"Topic1\", \"Topic1\", \"Topic1\", \"Topic1\", \"Topic1\", \"Topic1\", \"Topic1\", \"Topic1\", \"Topic1\", \"Topic1\", \"Topic1\", \"Topic1\", \"Topic1\", \"Topic1\", \"Topic1\", \"Topic1\", \"Topic1\", \"Topic1\", \"Topic1\", \"Topic1\", \"Topic1\", \"Topic1\", \"Topic1\", \"Topic1\", \"Topic1\", \"Topic1\", \"Topic1\", \"Topic1\", \"Topic1\", \"Topic1\", \"Topic1\", \"Topic2\", \"Topic2\", \"Topic2\", \"Topic2\", \"Topic2\", \"Topic2\", \"Topic2\", \"Topic2\", \"Topic2\", \"Topic2\", \"Topic2\", \"Topic2\", \"Topic2\", \"Topic2\", \"Topic2\", \"Topic2\", \"Topic2\", \"Topic2\", \"Topic2\", \"Topic2\", \"Topic2\", \"Topic2\", \"Topic2\", \"Topic2\", \"Topic2\", \"Topic2\", \"Topic2\", \"Topic2\", \"Topic2\", \"Topic2\", \"Topic2\", \"Topic2\", \"Topic2\", \"Topic2\", \"Topic2\", \"Topic2\", \"Topic2\", \"Topic2\", \"Topic2\", \"Topic2\", \"Topic2\", \"Topic2\", \"Topic2\", \"Topic2\", \"Topic2\", \"Topic2\", \"Topic2\", \"Topic2\", \"Topic2\", \"Topic2\", \"Topic2\", \"Topic2\", \"Topic2\", \"Topic2\", \"Topic2\", \"Topic2\", \"Topic2\", \"Topic2\", \"Topic2\", \"Topic2\", \"Topic2\", \"Topic2\", \"Topic2\", \"Topic2\", \"Topic2\", \"Topic2\", \"Topic2\", \"Topic2\", \"Topic3\", \"Topic3\", \"Topic3\", \"Topic3\", \"Topic3\", \"Topic3\", \"Topic3\", \"Topic3\", \"Topic3\", \"Topic3\", \"Topic3\", \"Topic3\", \"Topic3\", \"Topic3\", \"Topic3\", \"Topic3\", \"Topic3\", \"Topic3\", \"Topic3\", \"Topic3\", \"Topic3\", \"Topic3\", \"Topic3\", \"Topic3\", \"Topic3\", \"Topic3\", \"Topic3\", \"Topic3\", \"Topic3\", \"Topic3\", \"Topic3\", \"Topic3\", \"Topic3\", \"Topic3\", \"Topic3\", \"Topic3\", \"Topic3\", \"Topic3\", \"Topic3\", \"Topic3\", \"Topic3\", \"Topic3\", \"Topic3\", \"Topic3\", \"Topic3\", \"Topic3\", \"Topic3\", \"Topic3\", \"Topic3\", \"Topic3\", \"Topic3\", \"Topic3\", \"Topic3\", \"Topic3\", \"Topic3\", \"Topic3\", \"Topic3\", \"Topic3\", \"Topic3\", \"Topic3\", \"Topic4\", \"Topic4\", \"Topic4\", \"Topic4\", \"Topic4\", \"Topic4\", \"Topic4\", \"Topic4\", \"Topic4\", \"Topic4\", \"Topic4\", \"Topic4\", \"Topic4\", \"Topic4\", \"Topic4\", \"Topic4\", \"Topic4\", \"Topic4\", \"Topic4\", \"Topic4\", \"Topic4\", \"Topic4\", \"Topic4\", \"Topic4\", \"Topic4\", \"Topic4\", \"Topic4\", \"Topic4\", \"Topic4\", \"Topic4\", \"Topic4\", \"Topic4\", \"Topic4\", \"Topic4\", \"Topic4\", \"Topic4\", \"Topic4\", \"Topic4\", \"Topic4\", \"Topic4\", \"Topic4\", \"Topic4\", \"Topic4\", \"Topic4\", \"Topic4\", \"Topic4\", \"Topic4\", \"Topic4\", \"Topic4\", \"Topic4\", \"Topic4\", \"Topic4\", \"Topic5\", \"Topic5\", \"Topic5\", \"Topic5\", \"Topic5\", \"Topic5\", \"Topic5\", \"Topic5\", \"Topic5\", \"Topic5\", \"Topic5\", \"Topic5\", \"Topic5\", \"Topic5\", \"Topic5\", \"Topic5\", \"Topic5\", \"Topic5\", \"Topic5\", \"Topic5\", \"Topic5\", \"Topic5\", \"Topic5\", \"Topic5\", \"Topic5\", \"Topic5\", \"Topic5\", \"Topic5\", \"Topic5\", \"Topic5\", \"Topic5\", \"Topic5\", \"Topic5\", \"Topic5\", \"Topic5\", \"Topic5\", \"Topic5\", \"Topic5\", \"Topic5\", \"Topic5\", \"Topic5\", \"Topic5\", \"Topic5\", \"Topic5\", \"Topic5\", \"Topic5\", \"Topic5\", \"Topic5\", \"Topic5\", \"Topic5\", \"Topic5\", \"Topic5\", \"Topic5\", \"Topic5\", \"Topic5\", \"Topic5\", \"Topic5\", \"Topic5\", \"Topic6\", \"Topic6\", \"Topic6\", \"Topic6\", \"Topic6\", \"Topic6\", \"Topic6\", \"Topic6\", \"Topic6\", \"Topic6\", \"Topic6\", \"Topic6\", \"Topic6\", \"Topic6\", \"Topic6\", \"Topic6\", \"Topic6\", \"Topic6\", \"Topic6\", \"Topic6\", \"Topic6\", \"Topic6\", \"Topic6\", \"Topic6\", \"Topic6\", \"Topic6\", \"Topic6\", \"Topic6\", \"Topic6\", \"Topic6\", \"Topic6\", \"Topic6\", \"Topic6\", \"Topic6\", \"Topic6\", \"Topic6\", \"Topic6\", \"Topic6\", \"Topic6\", \"Topic6\", \"Topic6\", \"Topic6\", \"Topic6\", \"Topic6\", \"Topic6\", \"Topic6\", \"Topic6\", \"Topic6\", \"Topic6\", \"Topic6\", \"Topic6\", \"Topic6\", \"Topic6\", \"Topic6\", \"Topic6\", \"Topic6\", \"Topic6\", \"Topic6\", \"Topic6\", \"Topic6\", \"Topic6\", \"Topic6\", \"Topic6\", \"Topic6\", \"Topic6\", \"Topic6\", \"Topic7\", \"Topic7\", \"Topic7\", \"Topic7\", \"Topic7\", \"Topic7\", \"Topic7\", \"Topic7\", \"Topic7\", \"Topic7\", \"Topic7\", \"Topic7\", \"Topic7\", \"Topic7\", \"Topic7\", \"Topic7\", \"Topic7\", \"Topic7\", \"Topic7\", \"Topic7\", \"Topic7\", \"Topic7\", \"Topic7\", \"Topic7\", \"Topic7\", \"Topic7\", \"Topic7\", \"Topic7\", \"Topic7\", \"Topic7\", \"Topic7\", \"Topic7\", \"Topic7\", \"Topic7\", \"Topic7\", \"Topic7\", \"Topic7\", \"Topic7\", \"Topic7\", \"Topic7\", \"Topic7\", \"Topic7\", \"Topic7\", \"Topic7\", \"Topic7\", \"Topic7\", \"Topic7\", \"Topic7\", \"Topic7\", \"Topic7\", \"Topic7\", \"Topic7\", \"Topic7\", \"Topic7\", \"Topic7\", \"Topic8\", \"Topic8\", \"Topic8\", \"Topic8\", \"Topic8\", \"Topic8\", \"Topic8\", \"Topic8\", \"Topic8\", \"Topic8\", \"Topic8\", \"Topic8\", \"Topic8\", \"Topic8\", \"Topic8\", \"Topic8\", \"Topic8\", \"Topic8\", \"Topic8\", \"Topic8\", \"Topic8\", \"Topic8\", \"Topic8\", \"Topic8\", \"Topic8\", \"Topic8\", \"Topic8\", \"Topic8\", \"Topic8\", \"Topic8\", \"Topic8\", \"Topic8\", \"Topic8\", \"Topic8\", \"Topic8\", \"Topic8\", \"Topic8\", \"Topic8\", \"Topic8\", \"Topic8\", \"Topic8\", \"Topic8\", \"Topic8\", \"Topic8\", \"Topic8\", \"Topic8\", \"Topic8\", \"Topic8\", \"Topic8\", \"Topic8\", \"Topic8\", \"Topic8\", \"Topic8\", \"Topic8\", \"Topic8\", \"Topic8\", \"Topic8\", \"Topic8\", \"Topic8\", \"Topic8\", \"Topic8\", \"Topic8\", \"Topic8\", \"Topic9\", \"Topic9\", \"Topic9\", \"Topic9\", \"Topic9\", \"Topic9\", \"Topic9\", \"Topic9\", \"Topic9\", \"Topic9\", \"Topic9\", \"Topic9\", \"Topic9\", \"Topic9\", \"Topic9\", \"Topic9\", \"Topic9\", \"Topic9\", \"Topic9\", \"Topic9\", \"Topic9\", \"Topic9\", \"Topic9\", \"Topic9\", \"Topic9\", \"Topic9\", \"Topic9\", \"Topic9\", \"Topic9\", \"Topic9\", \"Topic9\", \"Topic9\", \"Topic9\", \"Topic9\", \"Topic9\", \"Topic9\", \"Topic9\", \"Topic9\", \"Topic9\", \"Topic9\", \"Topic9\", \"Topic9\", \"Topic9\", \"Topic9\", \"Topic9\", \"Topic9\", \"Topic9\", \"Topic9\", \"Topic9\", \"Topic9\", \"Topic9\", \"Topic9\", \"Topic9\", \"Topic9\", \"Topic9\", \"Topic9\", \"Topic9\", \"Topic9\", \"Topic10\", \"Topic10\", \"Topic10\", \"Topic10\", \"Topic10\", \"Topic10\", \"Topic10\", \"Topic10\", \"Topic10\", \"Topic10\", \"Topic10\", \"Topic10\", \"Topic10\", \"Topic10\", \"Topic10\", \"Topic10\", \"Topic10\", \"Topic10\", \"Topic10\", \"Topic10\", \"Topic10\", \"Topic10\", \"Topic10\", \"Topic10\", \"Topic10\", \"Topic10\", \"Topic10\", \"Topic10\", \"Topic10\", \"Topic10\", \"Topic10\", \"Topic10\", \"Topic10\", \"Topic10\", \"Topic10\", \"Topic10\", \"Topic10\", \"Topic10\", \"Topic10\", \"Topic10\", \"Topic10\", \"Topic10\", \"Topic10\", \"Topic10\", \"Topic10\", \"Topic10\", \"Topic10\", \"Topic10\", \"Topic10\", \"Topic10\", \"Topic10\", \"Topic10\", \"Topic10\", \"Topic10\", \"Topic10\", \"Topic10\", \"Topic10\", \"Topic10\"], \"logprob\": [30.0, 29.0, 28.0, 27.0, 26.0, 25.0, 24.0, 23.0, 22.0, 21.0, 20.0, 19.0, 18.0, 17.0, 16.0, 15.0, 14.0, 13.0, 12.0, 11.0, 10.0, 9.0, 8.0, 7.0, 6.0, 5.0, 4.0, 3.0, 2.0, 1.0, -4.841000080108643, -5.102700233459473, -5.310100078582764, -5.3221001625061035, -5.729400157928467, -5.954400062561035, -5.968299865722656, -6.034800052642822, -6.08650016784668, -6.1203999519348145, -6.1203999519348145, -6.230500221252441, -6.313799858093262, -6.345300197601318, -6.36929988861084, -6.425899982452393, -6.46619987487793, -6.480899810791016, -6.480899810791016, -6.484399795532227, -6.524099826812744, -6.578700065612793, -6.585700035095215, -6.619200229644775, -6.728600025177002, -6.741499900817871, -6.774899959564209, -6.905099868774414, -6.924900054931641, -6.925300121307373, -5.3429999351501465, -5.3144001960754395, -5.615900039672852, -3.831199884414673, -4.563600063323975, -4.804999828338623, -4.686800003051758, -5.317999839782715, -4.709499835968018, -5.431300163269043, -4.882999897003174, -4.989099979400635, -5.749000072479248, -3.434000015258789, -6.051400184631348, -5.8491997718811035, -5.40939998626709, -4.649700164794922, -3.1749000549316406, -5.3403000831604, -3.5792999267578125, -4.743500232696533, -5.229800224304199, -5.26170015335083, -5.559599876403809, -5.424200057983398, -5.227700233459473, -4.985199928283691, -4.621600151062012, -4.727499961853027, -5.116799831390381, -4.900700092315674, -5.008699893951416, -5.067500114440918, -5.324900150299072, -4.595799922943115, -4.962399959564209, -5.705900192260742, -5.901800155639648, -6.018499851226807, -6.206699848175049, -6.211100101470947, -6.242000102996826, -6.246500015258789, -6.331200122833252, -6.346700191497803, -6.479899883270264, -6.007999897003174, -6.625100135803223, -6.689799785614014, -6.777400016784668, -6.7866997718811035, -6.7866997718811035, -6.7866997718811035, -6.790900230407715, -6.790900230407715, -6.790900230407715, -6.790900230407715, -6.76609992980957, -6.820099830627441, -6.821199893951416, -6.853700160980225, -6.877999782562256, -6.879199981689453, -6.921199798583984, -5.764400005340576, -5.420899868011475, -3.328200101852417, -3.360300064086914, -6.247799873352051, -4.906300067901611, -4.97730016708374, -4.815899848937988, -3.10509991645813, -5.373499870300293, -4.886499881744385, -5.86870002746582, -4.285999774932861, -5.9756999015808105, -5.820000171661377, -4.640200138092041, -5.446400165557861, -4.156300067901611, -3.8691000938415527, -4.923399925231934, -5.60129976272583, -4.788000106811523, -5.733500003814697, -4.333899974822998, -5.795899868011475, -5.317399978637695, -5.042500019073486, -4.736299991607666, -4.857999801635742, -4.630899906158447, -5.6743998527526855, -5.267399787902832, -4.678500175476074, -5.280799865722656, -5.107600212097168, -5.248499870300293, -5.247300148010254, -5.439499855041504, -2.666100025177002, -4.905700206756592, -5.0005998611450195, -5.026199817657471, -5.377299785614014, -5.392099857330322, -5.595200061798096, -5.940400123596191, -5.9446001052856445, -5.947800159454346, -5.962200164794922, -6.048500061035156, -6.068299770355225, -6.097700119018555, -6.20419979095459, -6.239500045776367, -6.266900062561035, -6.313799858093262, -6.369699954986572, -6.4430999755859375, -6.44379997253418, -6.479800224304199, -6.506499767303467, -6.55210018157959, -6.579500198364258, -6.596700191497803, -6.627600193023682, -6.627799987792969, -6.629000186920166, -6.629499912261963, -4.663000106811523, -4.423500061035156, -4.54449987411499, -4.298799991607666, -4.226799964904785, -5.729400157928467, -5.039100170135498, -5.205999851226807, -2.419100046157837, -3.7873001098632812, -4.31279993057251, -3.652600049972534, -5.673999786376953, -5.1875, -5.132199764251709, -4.966000080108643, -5.047500133514404, -4.630799770355225, -4.020899772644043, -5.250899791717529, -4.6346001625061035, -4.8454999923706055, -4.019599914550781, -5.290800094604492, -3.786799907684326, -4.554100036621094, -4.546500205993652, -4.968299865722656, -5.2600998878479, -5.257400035858154, -3.923799991607666, -3.953000068664551, -4.765900135040283, -4.84060001373291, -4.894800186157227, -4.9471001625061035, -5.008600234985352, -5.176700115203857, -5.413000106811523, -5.4141998291015625, -5.474299907684326, -5.652200222015381, -5.691999912261963, -5.720300197601318, -5.720300197601318, -5.729499816894531, -5.834799766540527, -5.971199989318848, -6.0868000984191895, -6.10260009765625, -6.10260009765625, -6.113699913024902, -6.113800048828125, -6.113800048828125, -6.113800048828125, -6.113900184631348, -6.204599857330322, -6.243500232696533, -6.250800132751465, -6.251699924468994, -2.4769999980926514, -4.630899906158447, -4.834799766540527, -5.163599967956543, -3.674999952316284, -4.761499881744385, -4.917600154876709, -4.667399883270264, -3.579699993133545, -4.874499797821045, -4.602499961853027, -4.762700080871582, -3.628200054168701, -4.775599956512451, -4.462399959564209, -4.7546000480651855, -5.247099876403809, -5.1570000648498535, -5.333700180053711, -4.997799873352051, -4.995299816131592, -5.314499855041504, -3.765700101852417, -4.637499809265137, -4.364500045776367, -5.265500068664551, -5.416999816894531, -5.487500190734863, -5.4969000816345215, -5.506100177764893, -5.528600215911865, -5.537300109863281, -5.548399925231934, -5.973899841308594, -5.863800048828125, -6.271299839019775, -6.30109977722168, -6.33489990234375, -6.34689998626709, -6.366199970245361, -6.483799934387207, -6.578499794006348, -6.604899883270264, -6.63640022277832, -6.6595001220703125, -6.6595001220703125, -6.66949987411499, -6.669600009918213, -6.714300155639648, -6.725599765777588, -6.740200042724609, -6.75, -6.253499984741211, -4.480199813842773, -2.405400037765503, -4.31879997253418, -5.739500045776367, -4.735000133514404, -3.046299934387207, -5.1981000900268555, -5.9928998947143555, -4.113900184631348, -4.726099967956543, -5.123700141906738, -4.435200214385986, -4.809800148010254, -5.560999870300293, -4.964399814605713, -4.355400085449219, -4.435999870300293, -4.6875, -4.859000205993652, -4.549600124359131, -4.763400077819824, -4.861400127410889, -4.461999893188477, -4.781099796295166, -5.237199783325195, -5.405700206756592, -5.432600021362305, -3.9061999320983887, -5.105899810791016, -5.30049991607666, -5.599299907684326, -5.68720006942749, -5.792300224304199, -5.801000118255615, -5.825200080871582, -5.825200080871582, -6.0472002029418945, -6.093400001525879, -6.122600078582764, -6.177999973297119, -6.186500072479248, -6.249899864196777, -6.347499847412109, -6.313899993896484, -6.384900093078613, -6.393199920654297, -6.429699897766113, -6.436100006103516, -6.438199996948242, -6.4446001052856445, -6.480599880218506, -6.512400150299072, -6.540299892425537, -6.5883002281188965, -6.628300189971924, -6.633800029754639, -6.657800197601318, -5.130199909210205, -4.421500205993652, -4.80210018157959, -4.25540018081665, -6.094600200653076, -5.4369001388549805, -4.162399768829346, -5.73360013961792, -4.939199924468994, -4.28439998626709, -5.194300174713135, -4.593299865722656, -4.029300212860107, -5.439499855041504, -5.907100200653076, -5.101799964904785, -2.938999891281128, -5.054100036621094, -4.958899974822998, -5.387800216674805, -4.813199996948242, -4.2581000328063965, -3.9423999786376953, -4.637199878692627, -4.590799808502197, -5.101500034332275, -3.927000045776367, -4.313000202178955, -4.858099937438965, -4.909299850463867, -4.849999904632568, -5.185299873352051, -4.686200141906738, -4.817399978637695, -4.917099952697754, -5.171500205993652, -4.077199935913086, -4.792300224304199, -4.796000003814697, -5.037199974060059, -5.2322998046875, -5.244699954986572, -5.27810001373291, -5.3470001220703125, -5.718200206756592, -5.728899955749512, -5.734600067138672, -5.809599876403809, -5.84630012512207, -5.876200199127197, -5.902900218963623, -5.930099964141846, -6.051799774169922, -6.05649995803833, -6.156799793243408, -6.196400165557861, -6.217299938201904, -6.223599910736084, -6.223599910736084, -6.223599910736084, -6.315700054168701, -6.343100070953369, -6.396399974822998, -6.5218000411987305, -6.549499988555908, -6.55019998550415, -1.5228999853134155, -3.0557000637054443, -4.362500190734863, -4.800099849700928, -4.5005998611450195, -5.321199893951416, -5.566999912261963, -5.880300045013428, -5.906099796295166, -4.3566999435424805, -3.450900077819824, -4.915900230407715, -4.946499824523926, -4.603499889373779, -4.788300037384033, -3.9068000316619873, -5.593599796295166, -5.044400215148926, -5.526100158691406, -5.248000144958496, -4.8403000831604, -5.057199954986572, -5.196800231933594, -5.278500080108643, -5.1809000968933105, -3.3701999187469482, -4.002200126647949, -4.826700210571289, -5.301599979400635, -5.596099853515625, -5.632500171661377, -5.634099960327148, -5.697199821472168, -5.724599838256836, -5.746300220489502, -5.756899833679199, -5.756899833679199, -5.4720001220703125, -5.803999900817871, -5.9893999099731445, -6.048699855804443, -6.178599834442139, -6.206200122833252, -6.275400161743164, -6.283299922943115, -6.285699844360352, -6.341300010681152, -6.344200134277344, -6.351600170135498, -6.362100124359131, -6.424200057983398, -6.429100036621094, -6.4446001052856445, -6.542099952697754, -6.545400142669678, -5.676000118255615, -4.958000183105469, -5.205100059509277, -3.9691998958587646, -4.172399997711182, -5.567200183868408, -5.158999919891357, -4.415599822998047, -5.678400039672852, -3.835900068283081, -4.914999961853027, -4.670300006866455, -5.4756999015808105, -5.442800045013428, -4.362299919128418, -3.347399950027466, -5.0258002281188965, -5.394499778747559, -4.808300018310547, -5.355100154876709, -5.528200149536133, -4.886899948120117, -4.8003997802734375, -5.443699836730957, -4.959199905395508, -5.059999942779541, -5.282599925994873, -5.236199855804443, -5.303599834442139, -5.362199783325195, -5.1875, -5.280399799346924, -5.3907999992370605, -3.447700023651123, -4.08519983291626, -4.207399845123291, -4.241399765014648, -4.891600131988525, -5.373899936676025, -5.383500099182129, -5.490499973297119, -5.533199787139893, -5.561299800872803, -5.563799858093262, -5.563799858093262, -5.569300174713135, -5.593100070953369, -5.596399784088135, -5.618100166320801, -5.625, -5.685299873352051, -5.688499927520752, -5.7210001945495605, -5.794099807739258, -5.846499919891357, -5.96150016784668, -5.96150016784668, -5.96150016784668, -6.029799938201904, -6.030600070953369, -6.224800109863281, -6.349400043487549, -6.354599952697754, -3.4426000118255615, -5.178599834442139, -4.846499919891357, -3.826900005340576, -4.2444000244140625, -5.583899974822998, -4.87529993057251, -2.6554999351501465, -4.752299785614014, -4.426300048828125, -3.4848999977111816, -4.878300189971924, -4.775100231170654, -3.387700080871582, -5.100900173187256, -5.363500118255615, -4.5507001876831055, -5.048799991607666, -4.697800159454346, -4.336699962615967, -5.070099830627441, -4.698299884796143, -4.19789981842041, -5.1402997970581055, -5.142899990081787, -4.873700141906738, -5.21019983291626, -5.151800155639648, -2.7481000423431396, -4.201399803161621, -4.331099987030029, -4.514900207519531, -4.911200046539307, -4.928800106048584, -5.383999824523926, -5.471799850463867, -5.581900119781494, -5.8394999504089355, -5.880499839782715, -5.941100120544434, -5.969200134277344, -6.204999923706055, -6.22130012512207, -6.257500171661377, -6.257500171661377, -6.257500171661377, -6.257500171661377, -6.267600059509277, -6.275300025939941, -6.306399822235107, -6.308800220489502, -6.308800220489502, -6.310999870300293, -6.319799900054932, -6.329500198364258, -6.331200122833252, -6.331200122833252, -6.544300079345703, -5.461299896240234, -3.9479000568389893, -3.621000051498413, -3.1631999015808105, -4.89900016784668, -4.304999828338623, -5.4583001136779785, -3.827899932861328, -5.410900115966797, -5.1107001304626465, -4.155200004577637, -2.377000093460083, -3.9207000732421875, -6.054299831390381, -4.969200134277344, -5.218500137329102, -5.093999862670898, -4.983099937438965, -4.655700206756592, -4.190100193023682, -5.120699882507324, -5.0432000160217285, -5.13670015335083, -4.9842000007629395, -4.970099925994873, -4.977700233459473, -5.093299865722656, -5.233699798583984], \"loglift\": [30.0, 29.0, 28.0, 27.0, 26.0, 25.0, 24.0, 23.0, 22.0, 21.0, 20.0, 19.0, 18.0, 17.0, 16.0, 15.0, 14.0, 13.0, 12.0, 11.0, 10.0, 9.0, 8.0, 7.0, 6.0, 5.0, 4.0, 3.0, 2.0, 1.0, 2.0224, 2.0223, 2.0222, 2.0222, 2.022, 2.0218, 2.0218, 2.0217, 2.0217, 2.0217, 2.0217, 2.0215, 2.0214, 2.0214, 2.0214, 2.0213, 2.0212, 2.0212, 2.0212, 2.0212, 2.0212, 2.0211, 2.0211, 2.021, 2.0208, 2.0208, 2.0206, 2.0205, 2.0204, 2.0204, 2.0171, 1.9732, 1.9528, 1.7825, 1.809, 1.8113, 1.791, 1.8498, 1.7464, 1.832, 1.7352, 1.7286, 1.8656, 1.3323, 1.9281, 1.8684, 1.6925, 1.2712, 0.523, 1.5816, 0.6158, 1.2349, 1.4896, 1.5028, 1.6786, 1.5561, 1.3775, 0.8482, 0.1851, 0.1777, 0.8766, 0.2943, 0.3538, 0.2807, 0.9407, 2.0622, 2.0621, 2.0618, 2.0616, 2.0615, 2.0613, 2.0613, 2.0612, 2.0612, 2.0611, 2.0611, 2.0609, 2.0607, 2.0607, 2.0605, 2.0604, 2.0603, 2.0603, 2.0603, 2.0603, 2.0603, 2.0603, 2.0603, 2.0603, 2.0603, 2.0603, 2.0602, 2.0601, 2.0601, 2.06, 2.0589, 1.9955, 1.8668, 1.8289, 2.0204, 1.8809, 1.8742, 1.843, 1.6274, 1.8841, 1.8008, 1.9148, 1.6524, 1.9216, 1.8709, 1.6188, 1.7741, 1.3471, 1.2197, 1.4132, 1.7144, 1.2616, 1.7426, 0.8415, 1.7637, 1.2702, 0.969, 0.6119, 0.6141, 0.1758, 1.6259, 0.8515, -0.7721, 0.4919, -0.2024, -0.044, -0.4937, 0.5389, 2.153, 2.1527, 2.1526, 2.1526, 2.1524, 2.1524, 2.1523, 2.152, 2.152, 2.152, 2.152, 2.1519, 2.1518, 2.1518, 2.1517, 2.1516, 2.1516, 2.1515, 2.1514, 2.1513, 2.1513, 2.1512, 2.1512, 2.1511, 2.1511, 2.151, 2.151, 2.151, 2.151, 2.151, 2.09, 2.0688, 2.0429, 2.0277, 1.9572, 2.0724, 1.9586, 1.9264, 1.2788, 1.5752, 1.6796, 1.4362, 1.9586, 1.7809, 1.7538, 1.6766, 1.68, 1.4881, 1.1836, 1.7603, 1.3769, 1.4505, 0.7466, 1.6551, 0.1196, 0.6214, 0.2071, 0.3527, 1.5607, -0.5249, 2.3113, 2.3113, 2.3111, 2.3111, 2.311, 2.311, 2.311, 2.3109, 2.3108, 2.3108, 2.3107, 2.3106, 2.3105, 2.3105, 2.3105, 2.3105, 2.3104, 2.3102, 2.3101, 2.31, 2.31, 2.31, 2.31, 2.31, 2.31, 2.31, 2.3099, 2.3098, 2.3098, 2.3098, 2.1602, 2.1829, 2.1379, 2.1529, 1.6818, 1.9627, 1.9954, 1.9218, 1.5958, 1.8808, 1.5317, 1.5453, 0.2782, 1.0578, 0.3442, 0.5936, 1.3705, 1.139, 1.5323, 0.4742, -0.2627, -0.1101, 2.3219, 2.3217, 2.3217, 2.3214, 2.3213, 2.3212, 2.3212, 2.3212, 2.3212, 2.3212, 2.3212, 2.3208, 2.3206, 2.3204, 2.3203, 2.3203, 2.3202, 2.3202, 2.32, 2.3198, 2.3197, 2.3196, 2.3196, 2.3196, 2.3196, 2.3196, 2.3195, 2.3194, 2.3194, 2.3194, 2.3173, 2.1451, 1.7897, 2.0245, 2.1818, 2.024, 1.7072, 2.0626, 2.2022, 1.7702, 1.8544, 1.8737, 1.6109, 1.7153, 1.983, 1.6795, 1.0014, 0.7532, 0.569, 0.7175, 0.2571, 0.4411, 0.5012, -0.7641, -0.8747, 0.5355, 1.3885, 1.1482, 2.3609, 2.3606, 2.3605, 2.3603, 2.3602, 2.3601, 2.3601, 2.3601, 2.3601, 2.3598, 2.3597, 2.3597, 2.3596, 2.3596, 2.3595, 2.3593, 2.3592, 2.3592, 2.3592, 2.3591, 2.3591, 2.3591, 2.3591, 2.359, 2.359, 2.3589, 2.3587, 2.3587, 2.3587, 2.3586, 2.2968, 2.2487, 2.2155, 2.1594, 2.3169, 2.2364, 2.0659, 2.236, 2.0522, 1.8932, 2.0442, 1.8432, 1.6255, 2.0571, 2.1795, 1.8157, 0.7589, 1.7799, 1.7172, 1.9359, 1.5112, 1.0629, 0.7902, 0.9393, 0.8812, 1.4747, -0.0206, 0.4532, 0.8995, 0.9267, 0.5068, 1.3955, -0.0491, 0.0878, -0.1104, 0.6423, 2.3909, 2.3907, 2.3907, 2.3906, 2.3905, 2.3905, 2.3905, 2.3904, 2.3901, 2.3901, 2.3901, 2.39, 2.39, 2.3899, 2.3899, 2.3899, 2.3897, 2.3897, 2.3895, 2.3895, 2.3894, 2.3894, 2.3894, 2.3894, 2.3893, 2.3892, 2.3891, 2.3888, 2.3888, 2.3888, 2.1362, 2.2008, 2.2356, 2.2544, 2.207, 2.2721, 2.273, 2.3161, 2.2959, 1.7775, 1.4543, 1.9384, 1.9366, 1.7481, 1.8293, 0.8998, 2.097, 1.566, 1.8818, 1.2337, -0.0867, 0.2638, 0.5759, 0.7712, 0.0235, 2.4436, 2.4435, 2.4432, 2.443, 2.4427, 2.4427, 2.4427, 2.4426, 2.4426, 2.4426, 2.4426, 2.4426, 2.4425, 2.4425, 2.4423, 2.4422, 2.442, 2.4419, 2.4418, 2.4418, 2.4418, 2.4417, 2.4417, 2.4416, 2.4416, 2.4415, 2.4415, 2.4414, 2.4412, 2.4412, 2.3762, 2.2703, 2.294, 2.1232, 2.087, 2.3086, 2.2166, 2.0661, 2.2983, 1.7406, 1.9756, 1.8469, 2.1293, 2.0738, 1.4737, 0.559, 1.6779, 1.8812, 0.9493, 1.8079, 2.0703, 0.9269, 0.5206, 1.8543, 0.6956, 0.567, 1.3064, 0.81, 1.0044, 1.296, -0.5503, -0.4737, -0.0426, 2.495, 2.4949, 2.4948, 2.4948, 2.4946, 2.4943, 2.4943, 2.4942, 2.4942, 2.4941, 2.4941, 2.4941, 2.4941, 2.4941, 2.4941, 2.4941, 2.4941, 2.494, 2.494, 2.494, 2.4939, 2.4938, 2.4936, 2.4936, 2.4936, 2.4935, 2.4935, 2.4932, 2.493, 2.493, 2.4857, 2.4927, 2.3706, 2.1547, 2.2188, 2.3936, 2.0852, 1.0036, 1.9143, 1.5671, 0.7102, 1.753, 1.6507, 0.3102, 1.8933, 2.1606, 0.9213, 1.6501, 1.0598, 0.4169, 1.5471, 0.8051, -0.2915, 1.4487, 1.2963, -0.1075, 1.4969, 0.8407, 2.63, 2.6298, 2.6298, 2.6297, 2.6295, 2.6295, 2.6292, 2.6291, 2.629, 2.6286, 2.6286, 2.6285, 2.6284, 2.628, 2.628, 2.6279, 2.6279, 2.6279, 2.6279, 2.6279, 2.6279, 2.6278, 2.6278, 2.6278, 2.6278, 2.6278, 2.6277, 2.6277, 2.6277, 2.6272, 2.6099, 2.5627, 2.4914, 2.4638, 2.5476, 2.5077, 2.5772, 2.4122, 2.5204, 2.4209, 2.1264, 1.5294, 1.8931, 2.5542, 2.1384, 2.2193, 2.1357, 2.0614, 1.8589, 1.3132, 1.8742, 1.6213, 1.6982, 0.3641, 0.1187, -0.0726, 0.1112, 0.8125]}, \"token.table\": {\"Topic\": [2, 7, 6, 5, 10, 2, 7, 7, 8, 9, 10, 3, 7, 1, 2, 3, 5, 9, 5, 1, 3, 9, 10, 1, 2, 3, 5, 6, 9, 1, 2, 3, 4, 5, 6, 7, 8, 9, 10, 6, 9, 2, 2, 7, 1, 10, 7, 2, 5, 7, 4, 2, 3, 4, 5, 6, 8, 10, 5, 10, 1, 1, 3, 10, 5, 7, 1, 3, 5, 6, 10, 10, 10, 7, 7, 2, 7, 9, 1, 4, 10, 9, 10, 9, 1, 3, 5, 9, 3, 4, 1, 5, 5, 2, 3, 4, 9, 8, 2, 5, 7, 9, 2, 7, 9, 2, 6, 7, 1, 5, 8, 4, 9, 1, 3, 4, 6, 8, 9, 10, 4, 9, 7, 10, 3, 6, 1, 2, 3, 5, 9, 10, 6, 3, 9, 5, 3, 6, 7, 8, 9, 4, 10, 6, 2, 3, 5, 7, 6, 1, 8, 10, 4, 2, 3, 1, 2, 6, 5, 7, 5, 1, 2, 3, 4, 6, 8, 9, 1, 2, 3, 8, 2, 3, 4, 2, 3, 10, 8, 1, 6, 9, 10, 1, 3, 6, 6, 1, 2, 1, 2, 3, 4, 5, 7, 9, 1, 2, 3, 10, 2, 3, 2, 4, 9, 10, 1, 3, 5, 6, 9, 5, 9, 3, 2, 7, 3, 2, 3, 4, 5, 7, 8, 2, 4, 10, 1, 9, 5, 7, 1, 2, 3, 4, 8, 1, 10, 5, 7, 8, 1, 2, 7, 9, 9, 2, 5, 4, 8, 5, 1, 5, 9, 4, 5, 1, 2, 4, 5, 6, 7, 8, 9, 10, 1, 2, 3, 4, 8, 10, 1, 2, 3, 1, 1, 4, 1, 3, 8, 9, 1, 1, 3, 4, 6, 7, 8, 10, 7, 8, 2, 2, 4, 3, 4, 3, 4, 7, 6, 9, 1, 6, 1, 2, 1, 5, 4, 6, 3, 4, 5, 6, 7, 8, 10, 7, 5, 8, 9, 8, 3, 5, 8, 9, 6, 7, 5, 3, 8, 7, 8, 7, 1, 2, 3, 4, 5, 6, 7, 8, 10, 1, 2, 4, 9, 10, 4, 6, 6, 6, 7, 7, 8, 6, 5, 2, 3, 9, 2, 8, 6, 1, 2, 4, 6, 7, 9, 1, 3, 6, 10, 4, 3, 10, 2, 3, 4, 2, 8, 3, 5, 7, 9, 2, 3, 8, 1, 1, 7, 2, 6, 2, 3, 4, 1, 2, 3, 5, 7, 8, 8, 2, 2, 5, 7, 10, 2, 1, 5, 5, 10, 1, 10, 4, 6, 8, 1, 3, 6, 9, 9, 3, 4, 8, 10, 3, 8, 10, 6, 1, 2, 5, 10, 1, 2, 6, 9, 4, 7, 2, 3, 8, 1, 3, 4, 6, 8, 10, 9, 8, 3, 4, 7, 8, 10, 4, 8, 9, 1, 3, 4, 5, 6, 7, 8, 9, 6, 7, 8, 8, 6, 5, 1, 5, 4, 4, 1, 8, 9, 10, 2, 3, 4, 6, 8, 10, 2, 5, 2, 4, 1, 1, 2, 6, 8, 9, 1, 9, 1, 2, 3, 3, 10, 1, 4, 1, 2, 3, 4, 6, 10, 5, 1, 10, 1, 4, 7, 8, 1, 4, 5, 6, 1, 2, 3, 4, 5, 7, 10, 6, 10, 7, 1, 2, 3, 5, 6, 1, 3, 1, 2, 3, 4, 5, 6, 7, 8, 9, 2, 3, 4, 3, 9, 9, 1, 2, 5, 1, 2, 3, 6, 1, 3, 2, 5, 7, 10, 5, 1, 9, 1, 10, 1, 2, 3, 5, 2, 4, 8, 10, 1, 2, 4, 7, 4, 1, 2, 4, 5, 6, 7, 10, 10, 6, 3, 4, 4, 7, 2, 3, 4, 1, 4, 2, 1, 2, 4, 5, 6, 9, 9, 2, 3, 4, 10, 6, 7, 9, 9, 8, 2, 1, 1, 2, 3, 4, 5, 6, 8, 9, 10, 7, 6, 4, 5, 6, 8, 10, 4, 3, 2, 4, 5, 6, 7, 1, 2, 3, 5, 9, 6, 2, 7, 1, 10, 1, 2, 4, 8, 10, 1, 4, 6, 10, 1, 6, 4, 1, 5, 7, 3, 1, 9, 2, 3, 1, 3, 5, 7, 8, 9, 10, 6, 6, 8, 1, 3, 7, 10, 1, 3, 10, 1, 3, 5, 6, 9, 1, 3, 5, 8, 1, 3, 5, 8, 1, 2, 6, 8, 2, 1, 3, 4, 9, 1, 8, 10, 1, 2, 3, 4, 5, 6, 7, 1, 2, 3, 5, 6, 1, 5, 8, 8, 8, 1, 3, 2, 4, 10, 1, 2, 4, 5, 7, 2, 1, 3, 4, 6, 8, 9, 1, 3, 5, 6, 9, 3, 1, 2, 3, 6, 9, 8, 7, 5, 1, 5, 7, 1, 2, 3, 1, 3, 5, 9, 1, 3, 5, 9, 1, 5, 6, 2, 9, 9, 7, 9, 10, 9, 1, 2, 3, 5, 6, 7, 8, 9, 2, 3, 4, 9, 3, 9, 1, 10, 1, 2, 4, 5, 10, 1, 3, 6, 8, 2, 3, 4, 5, 4, 2, 3, 4, 2, 1, 3, 5, 6, 4, 4, 9, 2, 9, 3, 8, 2, 3, 4, 6, 8, 10, 1, 5, 6, 4, 6, 2, 4, 7, 8, 4, 4, 1, 6, 7, 1, 2, 3, 3, 1, 2, 3, 4, 1, 2, 5, 6, 9, 6, 1, 2, 3, 5, 9, 6, 7, 7, 10, 3, 4, 8, 6, 8, 4, 3, 3, 1, 3, 6, 10, 10, 1, 3, 9, 1, 4, 5, 6, 7, 8, 6, 3, 2, 3, 3, 4, 9, 1, 2, 5, 8, 1, 4, 5, 8, 9, 1, 4, 7, 10, 2, 3, 4, 9, 2, 3, 4, 8, 9, 9, 1, 3, 5, 6, 8, 1, 2, 9, 2, 7, 1, 2, 3, 4, 5, 6, 7, 8, 10, 3, 8, 1, 2, 3, 4, 5, 7, 9, 10, 8, 1, 3, 5, 6, 7, 9, 8, 8, 2, 3, 4, 8, 10, 2, 5, 2, 1, 4, 6, 9, 10, 1, 3, 5, 6, 9, 5, 6, 3, 7, 8, 6, 7, 8, 9, 1, 5, 7, 1, 10, 5, 7, 2, 5, 1, 3, 7, 10, 1, 1, 8, 10, 1, 8, 10, 2, 3, 4, 6, 7, 9, 1, 5, 9, 5, 7, 3, 6, 7, 8, 4, 1, 2, 3, 4, 5, 6, 7, 8, 9, 10, 2, 4, 2, 7, 9, 1, 2, 3, 4, 5, 7, 4, 6, 8, 3, 5, 8, 10, 7, 1, 3, 8, 10, 1, 7, 9, 1, 3, 4, 9, 1, 6, 8, 10, 7, 6, 1, 3, 8, 9, 4, 7, 8, 9, 2, 3, 4, 6, 8, 4, 1, 3, 4, 7, 8, 10, 6, 8, 10, 1, 2, 3, 4, 6, 7, 8, 9, 10, 2, 3, 4, 10, 6, 10, 5], \"Freq\": [0.0714026068488644, 0.9273838580013222, 0.9972757384829788, 0.9985831435364295, 0.9972042519084027, 0.8255528148517131, 0.1738275802700191, 0.8720886736597632, 0.05535348146440314, 0.07217659838005507, 0.998039069486882, 0.919126416226572, 0.08057628518493085, 0.6433447024481403, 0.11621557425088314, 0.059414915261187695, 0.14021920001640295, 0.04063980203865238, 0.997866498296762, 0.9516594026198849, 0.04795979710827354, 0.05065645332413076, 0.9487230043990775, 0.4716569739055276, 0.09782515014336868, 0.11878768231694768, 0.052144298781777766, 0.17084463721466886, 0.08856669843337128, 0.1751679180539864, 0.2344274808827113, 0.030196269338327805, 0.1794535223483331, 0.04531903391722933, 0.05187058990743748, 0.06216589217776458, 0.08319983509369602, 0.03448187363267449, 0.10374117981487496, 0.9989908137569969, 0.9996565799534763, 0.9984457370946885, 0.08974691258227008, 0.9094353808336701, 0.071872163060488, 0.926637530887006, 0.9995296863337892, 0.9980752973080128, 0.999446890813423, 0.9990870825782763, 0.9994853201343599, 0.00040112505536313227, 0.14055421939924154, 0.10581678960479429, 0.09033336246777739, 0.23826828288570057, 0.37906317731815997, 0.045567806289251826, 0.9998818379433998, 0.9983175805545824, 0.9990617039448421, 0.9982249616904028, 0.9986582026389353, 0.9979925053626433, 0.9975930929971192, 0.9992964095031996, 0.14209285313766806, 0.10340169574346357, 0.3091913451152587, 0.3806601642320644, 0.06471053834925906, 0.9999306040315319, 0.9978358335962464, 0.9984579105858691, 0.9994550611613428, 0.998946649189357, 0.09561199309890227, 0.9035333347846265, 0.18427165816654567, 0.20372891399779583, 0.6114728781085529, 0.9906769625784972, 0.00923892717565878, 0.998610493611231, 0.1884319445567657, 0.5610984633858187, 0.16189856811559822, 0.0884945568310878, 0.9985784907644238, 0.998426434398014, 0.16197999983537464, 0.8378093121256074, 0.9975160065083811, 0.06208521210870947, 0.05447536548252983, 0.17187117014249617, 0.711520659547796, 0.9989561610356094, 0.7916604638967863, 0.20827199445580988, 0.999321713817139, 0.9998410570360053, 0.18182180056212277, 0.10241036976768729, 0.715570761639476, 0.12395674040017353, 0.864559037474628, 0.01124502075360224, 0.0008398604775208555, 0.9985941077722973, 0.9977949253614822, 0.9988251014987684, 0.998610493611231, 0.07036720263106941, 0.004429896533675072, 0.6772630277445543, 0.17532167435198648, 0.029646230648440863, 0.03526879163348999, 0.007496747980065506, 0.11652766060238785, 0.8830561896608351, 0.9977773741066315, 0.9961206027792777, 0.9984363849003803, 0.9987901899733617, 0.13718818098792857, 0.13182328005543972, 0.09988934593348243, 0.06642258297367118, 0.5477308380598116, 0.016861117216393454, 0.9986238796961552, 0.9990258372671205, 0.9991379942142998, 0.9980853631022623, 0.054504063355127134, 0.050780183250118446, 0.22004746075051326, 0.569753656066329, 0.104607177495244, 0.9995865056003748, 0.9972042519084027, 0.9993115353556467, 0.17746802921805524, 0.7972861213465688, 0.02522686035165744, 0.9986768530822195, 0.9978104934706937, 0.10106872695862992, 0.001956168908876708, 0.8959253602655323, 0.9991857323889531, 0.3919053884718345, 0.6078184813752613, 0.8546832922802454, 0.03230598325461739, 0.11259585340212239, 0.8871568128745738, 0.11206191320520933, 0.999153149253627, 0.07654501818017952, 0.2349313230963412, 0.0011150039064847708, 0.15927830804134951, 0.22762804750886598, 0.09321432658212685, 0.2072792262155189, 0.07147097155638654, 0.6463612621822725, 0.15057476531782407, 0.13149270980519662, 0.2949408166421121, 0.2161600814395471, 0.48884668724327024, 0.4305078964980101, 0.48827378656483345, 0.08117627709390444, 0.9991556555991108, 0.3280165323504145, 0.07871322193175385, 0.026864580864079814, 0.5663053646148024, 0.9997055326872624, 0.9985096083328449, 0.9981908883332642, 0.9983650253828573, 0.9981957971458622, 0.9993094318037807, 2.717925230217527e-05, 0.0775967653227104, 0.14285415010023322, 0.02965256426167322, 0.5407855830563814, 0.08392953110911723, 0.1251604568515171, 0.11111284593088579, 0.17550067322341711, 0.10885801929418235, 0.6042935386365197, 0.8364620386059295, 0.16290397413231536, 0.48898335271377347, 0.058447892512611045, 0.18454807005950416, 0.26796287728714785, 0.02973982990470059, 0.6228477310325149, 0.01623025417512051, 0.13988039870002708, 0.19119802317280696, 0.9976674660211551, 0.9996769629152333, 0.9976628562452433, 0.9981246039860223, 0.9979529447697354, 0.9995365696371898, 0.20630258275540822, 0.04707575713881799, 0.0031153074577158963, 0.10730503465465864, 0.08169028444677238, 0.5545247274734295, 0.9589682894443189, 0.040185337843380985, 0.9970748002403598, 0.9984375402134759, 0.9980758055899915, 0.9995164493865232, 0.9979072148920578, 0.9982633945603112, 0.17769356889240973, 0.8221167931620696, 0.9989960523320265, 0.9974243790601701, 0.9995050008118729, 0.9977204643520942, 0.9985748693957389, 0.9984905879717854, 0.9993115165167187, 0.1366932712204751, 0.8629114323136164, 0.9989397164607986, 0.9987998565633743, 0.9976964842199423, 0.0001877402795648418, 0.9997169886827827, 0.9988111793747618, 0.997921206795623, 0.9971486787055096, 0.24491354812257576, 0.5872669899782763, 0.16781055896946168, 0.9989127010558518, 0.9969843986453913, 0.10708178600079413, 0.10882841488161009, 0.025796365008974243, 0.13610269663589014, 0.00026871213551014835, 0.5257352931256053, 0.06314735184488486, 0.03305159266774825, 0.9972042519084027, 0.003537448088348984, 0.11411545499822093, 0.8821347399575448, 0.8793968444191508, 0.033060031745080855, 0.08744911622892355, 0.13749366638963442, 0.8338928558223296, 0.02845412733441075, 0.9976896390697362, 0.2706234128601963, 0.7289638492622347, 0.27237287218853273, 0.002818072901635741, 0.6999848037845647, 0.02475003157088781, 0.9983912231391472, 0.30895649500164724, 0.10106502284047666, 0.28543067020742696, 0.16356049618838822, 0.024246003104247373, 8.001981222523886e-05, 0.116588866412173, 0.7452726277029286, 0.2542333035355245, 0.9988503414469154, 0.9979582465079976, 0.000748094637562217, 0.9990339061249126, 0.9984786689671192, 0.1463339498042036, 0.8533208639184885, 0.9991450665585863, 0.9988422537596434, 0.998610493611231, 0.9981811961807926, 0.9988698914731065, 0.9100484844218041, 0.08963635448064386, 0.36111352026736826, 0.6386762899263888, 0.8406110794904662, 0.15902101325280682, 0.14641303962231458, 0.1298000887424759, 0.05933196742799531, 0.18730645717268674, 0.13929320353095515, 0.3174716657147195, 0.020629268674964524, 0.9995072388822233, 0.028782036313134335, 0.8609214979546359, 0.11004896237374893, 0.9992848226169324, 0.997994800794964, 0.12584596641912912, 0.8735190610268962, 0.9983302437250565, 0.9992695770360428, 0.9987142411587416, 0.9991987066375145, 0.9982389937488243, 0.998839699379849, 0.1344271071738184, 0.8645641867473498, 0.99968261648943, 0.020899858386869866, 0.07482724527959601, 0.16523351343931292, 0.0848936908329049, 0.046401520455252365, 0.2729924163147337, 0.11916754116917085, 0.1461552023430418, 0.06941053886281552, 0.06283240037881652, 0.6416743578647558, 0.15297791047396067, 0.019351889395424968, 0.12309271419241831, 0.00012346723672264153, 0.9997142157432285, 0.9967949745090823, 0.8821443872505799, 0.11653520323125939, 0.3143039127494531, 0.6855314163181839, 0.9969591193088243, 0.9992415756186012, 0.6636413099610946, 0.17206502960823344, 0.164155015333888, 0.9971761847423061, 0.9985198747996962, 0.9985115842379666, 0.00037587814136019607, 0.7697984335056816, 0.0035708423429218626, 0.11125992984261804, 0.07724295804952029, 0.03777575320669971, 0.012067916294643615, 0.11089436595077916, 0.7283150563767349, 0.14840275443413092, 0.9998754308412682, 0.9997029149048026, 0.9982067569444564, 0.19495040985342163, 0.49538246258711705, 0.30958226753776735, 0.9976699723959105, 0.9975354872107741, 0.3155930232797982, 0.08465012316308206, 0.16987905058710825, 0.429762163751032, 0.8685922310983593, 0.011345907227699903, 0.11913202589084898, 0.9992672007910857, 0.9975548305548798, 0.9985679722163122, 0.9986581610304256, 0.9978527383447244, 0.00048368719564861504, 0.8232356069939427, 0.17557845202044725, 0.9981453182938906, 0.11502597052940991, 0.001857981902824536, 0.6264777161432913, 0.15387468304301383, 0.10252681954677212, 0.9976731910969149, 0.9995698019842404, 0.7419343524836262, 0.1425413271135209, 0.1151122389307929, 0.9983717541946919, 0.9984064986803564, 0.9945190095919615, 0.005156765234921282, 0.9971958591653283, 0.9985252342168566, 0.9995277908149209, 0.9985252342168566, 0.18261138925938117, 0.8173147680723557, 0.9992033508028385, 0.7932432706951309, 0.1454177709921512, 0.04176569103967445, 0.019510979755760327, 0.9994660921489761, 0.9985415281739932, 0.424362189805136, 0.10583490757790742, 0.46961044739279206, 0.06402116986978873, 0.9345619049957666, 0.9972265186982172, 0.9986238796961552, 0.34315346353829596, 0.11860142749019445, 0.07574677835707086, 0.4623874319751048, 0.11043485491223533, 0.19527222689779358, 0.5957631312020324, 0.0984406057694495, 0.45854848260278275, 0.5413509667314323, 0.7263454552963127, 0.1497363637911533, 0.1232636364910599, 0.005335853742529117, 0.0005492790617309385, 0.11683950327390963, 0.17930037943645635, 0.21939775094281486, 0.47857899964242767, 0.999127858162064, 0.9977713866659497, 0.05649768274234357, 0.10234151673898807, 0.0003228439013848204, 0.8406855192060724, 0.999645789411291, 0.9997026710204435, 0.9984570624565459, 0.9982063987412388, 0.04164683408525466, 0.10316188259650236, 0.10717373358636634, 0.06686418316439968, 0.1423251898785079, 0.052918224961539174, 0.46499263377756805, 0.02063237651930047, 0.734174826800077, 0.07260229897224911, 0.19284189586664063, 0.9980880250157255, 0.9975101673685903, 0.9997212301705, 0.8264748169936551, 0.17318525695902642, 0.9981983727024837, 0.9982609339293961, 0.15084423443664466, 0.7258147665229892, 0.09579386434327125, 0.027577021553365964, 0.9980752973080128, 0.00021773181004807441, 0.8596293784931365, 0.08980227543316135, 0.050078316311057115, 0.0002661166567254243, 0.9976244845797714, 0.9984836046044248, 0.9962436843809203, 0.0029266853242682733, 0.9993497159595197, 0.7864914872622951, 0.06944354306383574, 0.026338439089891447, 0.10098542987636429, 0.01663818469337045, 0.9976244501725156, 0.9992148121063894, 0.21548387621747525, 0.1633651738796372, 0.6209314364732085, 0.11484016372656188, 0.8848445268208005, 0.7502319060082071, 0.249609539922768, 0.745165817569875, 0.08156911315572475, 0.011237550030954953, 0.007168781916298849, 0.15461318835693194, 0.9969073525142378, 0.999117741132451, 0.06489424985324171, 0.9348237205800719, 0.7585504158909628, 0.13360746464287454, 0.04667314334064702, 0.06098822883809786, 0.04362241157306944, 0.5327598169681362, 0.26700095648482364, 0.1565537800304576, 0.037342995905797725, 0.0002489533060386515, 0.689351704421026, 0.07020483230289973, 0.0836483108289869, 0.11924863359251406, 0.9993784858821878, 0.9976678144805009, 0.9986308828502566, 0.9987553316822224, 0.057968420410165644, 0.332194539819888, 0.02649984933036144, 0.00331248116629518, 0.5796842041016564, 0.8567801270685089, 0.14218231979624918, 0.005704114381540701, 0.06331566963510178, 0.012929325931492255, 0.08080828707182659, 0.07206197835346419, 0.18367248308561057, 0.11921599057420065, 0.03270358912083335, 0.4295198129300148, 0.9988868642020012, 0.8956070303280088, 0.10408497959755818, 0.0020111953841501482, 0.9975529105384736, 0.9991021877986117, 0.1775724356389519, 0.8222761667450562, 0.00012677708398782858, 0.4548575683256791, 0.21794680312696765, 0.22775255912504003, 0.099352659829526, 0.9995263140338297, 0.9988786840905197, 0.8028641441371565, 0.10083754438309679, 0.09608794990128426, 0.9990085542493475, 0.9973314847515508, 0.24124233355675617, 0.7585764535875583, 0.1884527016882934, 0.8110899341804739, 0.33892172340199095, 0.20268727292574507, 0.25126317653446983, 0.20700239126662162, 0.09305276557015676, 0.14510703541880882, 0.6262635385773669, 0.1354332330575549, 0.038916455395707, 0.0005258980458879324, 0.39021635004884586, 0.5702487810911481, 0.9988111793747618, 0.5946420946551557, 0.10922411981033586, 0.05034866489398382, 0.1640391985255602, 0.016444523614567295, 0.009541884072650159, 0.05583017276550625, 0.9992608792844617, 0.9984009821777255, 0.9223195098118013, 0.076764480940858, 0.9986795573832018, 0.9979072148920578, 0.2978713490504005, 0.5143018181781576, 0.18768662915505935, 0.9990617039448421, 0.9986085901490218, 0.9971761847423061, 0.0003682319852430593, 0.007180523712239656, 0.07364639704861187, 0.00018411599262152964, 0.35884206961936127, 0.5595285015768287, 0.9985973238404644, 0.8283766525547368, 0.000885964334283141, 0.05515127980912553, 0.1156183456239499, 0.9989118597809894, 0.9981198875632997, 0.9996335418831901, 0.9992336247262368, 0.9992574821157497, 0.9980752973080128, 0.9991996405042676, 2.329894070963568e-05, 0.058748278999346364, 0.13088179943637843, 0.13090509837708805, 0.040901290415765436, 0.09238029991370547, 0.1518741450157602, 0.06162569817698637, 0.33265062598182343, 0.9998413700238777, 0.9984922378386932, 0.1509643751996198, 0.4911044363051238, 0.00019798606583556694, 0.195214260913869, 0.1624475670180827, 0.998125419820014, 0.998652469865498, 0.11377789392130236, 0.14034001253895934, 0.393203015757442, 0.24010482026039542, 0.11231384013922678, 0.010688218878528298, 0.25126075199687836, 0.0930400692540742, 0.25721811989638593, 0.3875793468738458, 0.9985842629685358, 0.9980752973080128, 0.9978984844829812, 0.1293489183659803, 0.8704346673360736, 0.2751289216511283, 0.22263005378262324, 0.10826530012716609, 0.00021783762601039456, 0.39385042782679336, 0.11294440805936809, 0.05221015089536826, 0.6535148139284191, 0.1807820871138942, 0.255483491568637, 0.7443584573038811, 0.9982609339293961, 0.09207694236016306, 0.7422693862192092, 0.16537503463371392, 0.9976263551936141, 0.9993181391254227, 0.9992727124289836, 0.9987140251700729, 0.9999508378321044, 0.3178763746689968, 0.0028172204549689528, 0.06845845705574555, 0.12546021759461737, 0.06911580849523831, 0.39534993718064304, 0.02084743136677025, 0.9983932795394634, 0.9376935350040159, 0.06183027509266295, 0.07365254452776201, 0.2404656048365852, 0.02229482428948472, 0.6632710226121704, 0.0016063126138205102, 0.07750458361683962, 0.9208187058726075, 0.5013718044478098, 0.24500194517650042, 0.031131018986026514, 0.1483884379784871, 0.07407035551847688, 0.22190341946972592, 0.2519584649291292, 0.5260532807056033, 0.9993095984227219, 0.15272988221807451, 0.13457937447621637, 0.7122967550402374, 0.9970696727169296, 0.037219279573003784, 0.18740233749915938, 0.559159820017817, 0.21591535284455995, 0.9969072092324355, 0.07624387031986787, 0.16878260474503734, 0.6501851949177123, 0.10460900413280025, 0.8095529687905791, 0.058650571917137545, 0.13183247956299873, 0.0743046170187345, 0.4489071715343065, 0.12119202241023543, 0.11552977218287197, 0.02225165001630552, 0.019867544657415644, 0.19788074478785983, 0.1733835831590449, 0.12288661331733228, 0.05976540101519151, 0.5450796333230434, 0.0987567321587924, 0.0007481698782114486, 0.20200586711709112, 0.7968009202951928, 0.9997451861945139, 0.9998742172695478, 0.9987808523133367, 0.9977152871262688, 0.935191145388696, 0.04948719811015183, 0.01480719313532102, 0.048912398757362995, 0.036828159064367434, 0.0013426932992217293, 0.08094522461022426, 0.8318944055320914, 0.9970670594994488, 0.07787289012919346, 0.07316351448423143, 0.08476876160931643, 0.41207036893417703, 0.24118730981698364, 0.11083851964392763, 0.30573886488665, 0.08084887916455485, 0.08103473865688716, 0.525238925331108, 0.00724852020096009, 0.9980032047172345, 0.09855411301013804, 0.26603744196486667, 0.19344177836364893, 0.14020495838942257, 0.3015286552810176, 0.9966432783967895, 0.9983840753271767, 0.9976699040296625, 0.9987599103088919, 0.9992547230856945, 0.9985772025222694, 0.6270743894106388, 0.2385855551514162, 0.13403116720227393, 0.16946488065591192, 0.2789269246089953, 0.18288404541373302, 0.36845192377903024, 0.18056543089127153, 0.30834746318538986, 0.034833488636505136, 0.4761169186591697, 0.998047573526587, 0.8689785807446111, 0.1304113471845553, 0.99878846198952, 0.9998613386655844, 0.9984264732775275, 0.8559419488048707, 0.06979562788005172, 0.07409338821749334, 0.9973730374851587, 0.06592550635154931, 0.04002380994743806, 0.0022086717863970835, 0.06170895112297307, 0.4791479187520219, 0.0961776168803821, 0.17408349443693377, 0.08064998492752987, 0.45284328230744936, 0.11448667505368648, 0.22999403368883228, 0.202605690919674, 0.9985853206050304, 0.9984505502946178, 0.9974904875224773, 0.9977788283309124, 0.15618096147263327, 0.007191065851977359, 0.45865516887143093, 0.21865334606168657, 0.15932705278287337, 0.999622435888392, 0.9989182162163946, 0.0006412366844502949, 0.9990467543735595, 0.17082601641590336, 0.06181717717333489, 0.7055348486218475, 0.06162217030528021, 0.9996991365028645, 0.7060973129891615, 0.08385786451667686, 0.20964466129169215, 0.9993686339152401, 0.9991185931746068, 0.09749926099184238, 0.0677924549083904, 0.8340757092661516, 0.9996148650658666, 0.9988111793747618, 0.9993499020427885, 0.9975308120855338, 0.9987308555043393, 0.9972424639265305, 0.9996596167862535, 0.9986394291071782, 0.2879221836257956, 0.1242171091936902, 0.4274376104780771, 0.000653774258914159, 0.1596516740268376, 0.028679654318875928, 0.7716827917892896, 0.1994236428219512, 0.04216240920647163, 0.957086688986906, 0.11544938830381908, 0.06492599263026658, 0.6348573293459516, 0.18449040863600397, 0.9992504476486868, 0.9994253736512061, 0.9323976053801369, 0.06715077644586874, 0.9988133148755259, 0.11638194004949404, 0.05998540522374803, 0.8233894084558918, 0.9988236165999581, 0.9981957971458622, 0.09582490683646533, 0.6707743478552574, 0.2329141276216478, 0.0828313450535342, 0.1829192203265547, 0.5758630401536865, 0.0002525345885778482, 0.15808665244973297, 0.9989075793973546, 0.5246142750225302, 0.20136184879577643, 0.14301366045168645, 0.12171743740621739, 0.00917642131227528, 0.997903750252329, 0.9990938997692496, 0.018748952559767454, 0.9801952398246425, 0.9984940140593076, 0.9995534553690872, 0.9991820722990763, 0.7375960209125373, 0.2617684790874488, 0.9993436595838787, 0.9984229769744789, 0.9995163367575854, 0.18571127069750684, 0.18785626409766043, 0.626225178455362, 0.9997035394062679, 0.9991998426780055, 0.8076559198536192, 0.10922428002097874, 0.08301594147323132, 0.05047293615588019, 0.055172140556600066, 0.2929170743115391, 0.0001740446074340696, 0.43824432151898723, 0.1630797971657232, 0.9983737181170323, 0.9993700432305588, 0.3245446891774459, 0.6753335846054298, 0.9977335650417176, 0.9990334697776926, 0.9993521812572242, 0.08786974935802336, 0.00043073406548050665, 0.2201051074605389, 0.6908974410307327, 0.8411578116435494, 0.006077729852915819, 0.15255101930818707, 0.9976913973296083, 0.9985539565799063, 0.027381163687758364, 0.08333397644100372, 0.8886973344744182, 0.9987247687592722, 0.33504465992319227, 0.4602083185531748, 0.053450332447792376, 0.1512673093602997, 0.7496358676780421, 0.08713716068736216, 0.16306181908039463, 0.9992574821157497, 0.9988919936409718, 0.9991379942142998, 6.189137815749458e-05, 0.06263407469538451, 0.2009613048773849, 0.24125259205791388, 0.49500724250364164, 0.17017345559056724, 0.1659746910839785, 0.6636517781884675, 0.9983670797703502, 0.9983139502463255, 0.15921076658256086, 0.15155833189713447, 0.048580062890628384, 0.13983606303444004, 0.1268240579888086, 0.08443472877627801, 0.22507329432454556, 0.054082937271159745, 0.010346550267561563, 0.9980585142383434, 0.9980283421781537, 0.07295442015928534, 0.1216760270726794, 0.3792776580210799, 0.08878254289559812, 0.1524363410696646, 0.09368883430981906, 0.010580524093276469, 0.08054850600042732, 0.9989164534087315, 0.08226686018616369, 0.5530996474657219, 0.13811381488173172, 0.07925971647178695, 0.05735052655275641, 0.08978471947210553, 0.9975017332351246, 0.9987671110699696, 0.14165695328677644, 0.6231731991966615, 0.034631603220662194, 0.20035458586417, 0.9978666561853812, 0.9971761847423061, 0.9982921920406956, 0.9980173229538053, 0.5869149234121083, 0.0027171987195005014, 0.26182150518615543, 0.03163595651989869, 0.11683954493852156, 0.223198298114463, 0.41718344666426455, 0.04567805516261414, 0.20144684327512294, 0.11249285013650004, 0.9983824162982449, 0.9981580205654912, 0.12200911758641446, 0.18885702492303233, 0.6885801923555115, 0.09676589199486646, 0.2311818933750595, 0.3206221984759484, 0.3512874459391103, 0.9984524427232988, 0.9984836046044248, 0.9980953624529972, 0.9988714401848222, 0.9972042519084027, 0.9949925706285275, 0.0037080468470628357, 0.9997173990909832, 0.9987403707375297, 0.08424652092477738, 0.037255950765593425, 0.07415136007216497, 0.8042478145914554, 0.9984280353495085, 0.31036394442447884, 0.0795307607587727, 0.6100591282593663, 0.09128826837207596, 0.7303061469766077, 0.17787095590023047, 0.6472274678879013, 0.06871751807584855, 0.07622268465113488, 0.20782924037734368, 0.7749489036483924, 0.22504121700730514, 0.047300920090033644, 0.7426910664277395, 0.20998943679406484, 0.17324632476864701, 0.8266838246742573, 0.9992209358331319, 0.8826768256201203, 0.048365853458636726, 0.0680144814262079, 0.9993452632340603, 0.03797876662842312, 0.0772185469925556, 0.009123805264250088, 0.04791852195695574, 0.04858611746409599, 0.23187817281338025, 0.03019015237845354, 0.22438626767769523, 0.23803488693478478, 0.05466865430692938, 0.9972109637986768, 0.9997929688069261, 0.10974554043248927, 0.8877298164645, 0.002325117382044264, 0.20061680778132257, 0.20792154890549236, 0.17358173496094165, 0.08743097366145478, 0.16755720619873976, 0.16281288979850578, 0.9989292259965363, 0.8935635864392559, 0.10605986323741375, 0.9996523216893259, 0.9975502778500346, 0.15311039372472415, 0.846794218355107, 0.9974151228745735, 0.7088366527071182, 0.06488431181633694, 0.0961852863609015, 0.12976862363267389, 0.2199065065137321, 0.6359518466149646, 0.14393880426353373, 0.7186997743662661, 0.09133120648122384, 0.023046192289654613, 0.16644472209195, 0.14255303159564484, 0.22687241497502755, 0.2658173153594048, 0.36464918520277706, 0.9979072148920578, 0.9975798176608077, 0.2105437142674781, 0.09417392038771234, 0.5506162045564393, 0.14459026160537652, 0.4647337211482336, 0.08540913114930171, 0.23706179022313714, 0.21249380219675668, 0.5224152251260119, 0.0011912178936240455, 0.11713642620636447, 0.22090474049539244, 0.1381812756603893, 0.999089604414963, 0.1356154658114087, 0.020091180120208697, 0.16227491635553176, 0.6008035593639331, 0.06336449114835051, 0.017772967029415384, 0.35626961054264406, 0.529565439779431, 0.113715936811574, 0.15804858787875486, 0.10383700500419296, 0.04636766656599052, 0.035898568589631134, 0.10295140154999942, 0.39187952848064295, 0.05095382731092137, 0.04304665361276473, 0.06702120426557566, 0.004816897979878516, 0.9388936979113206, 0.055996439016087744, 0.999742960565784, 0.9982215058507546, 0.9978666561853812, 0.9995404295203311], \"Term\": [\"1st\", \"1st\", \"abortion\", \"absentee_ballot\", \"absolute_disregard\", \"access\", \"access\", \"account\", \"account\", \"account\", \"actually_hilarious\", \"ad\", \"ad\", \"administration\", \"administration\", \"administration\", \"administration\", \"administration\", \"affect_outcome\", \"agent\", \"agent\", \"alive\", \"alive\", \"american\", \"american\", \"american\", \"american\", \"american\", \"american\", \"amp\", \"amp\", \"amp\", \"amp\", \"amp\", \"amp\", \"amp\", \"amp\", \"amp\", \"amp\", \"amy_coney\", \"angry\", \"antibody\", \"app\", \"app\", \"arrest\", \"arrest\", \"artist\", \"asymptomatic_friend\", \"available_limit\", \"award\", \"awards_pca\", \"bad\", \"bad\", \"bad\", \"bad\", \"bad\", \"bad\", \"bad\", \"ballot\", \"ballots_mailed\", \"barrett_use\", \"barron\", \"bars_open\", \"begin_quarantine\", \"behalf_read\", \"believe_socialism\", \"biden\", \"biden\", \"biden\", \"biden\", \"biden\", \"black\", \"blacklivesmatter\", \"blackpink\", \"blackpink_thegroup\", \"border\", \"brad_parscale\", \"brad_parscale\", \"breonna_taylor\", \"breonna_taylor\", \"breonna_taylor\", \"btstwt\", \"btstwt\", \"butlers_housekeeper\", \"campaign\", \"campaign\", \"campaign\", \"campaign\", \"cancel_presidential\", \"cancer\", \"candidate\", \"candidate\", \"candidates_running\", \"care\", \"care\", \"care\", \"care\", \"cared_agent\", \"case\", \"case\", \"category\", \"category_pca\", \"challenge\", \"challenge\", \"challenge\", \"change\", \"change\", \"change\", \"chaos\", \"chaos\", \"character\", \"check_mistaken\", \"chefs_valet\", \"child\", \"child\", \"child\", \"child\", \"child\", \"child\", \"child\", \"choice\", \"choice\", \"choice_award\", \"choose_human\", \"chris_christie\", \"class\", \"clear\", \"clear\", \"clear\", \"clear\", \"clear\", \"clear\", \"clerks_compassion\", \"cocktail\", \"coming_pattern\", \"commander_chief\", \"comment\", \"comment\", \"comment\", \"comment\", \"comment\", \"common_sense\", \"commuter_flight\", \"compassion\", \"condition\", \"condition\", \"condition\", \"controlled_watched\", \"cool\", \"cop\", \"cop\", \"cop\", \"corona\", \"coronavirus\", \"coronavirus\", \"corrupt\", \"corrupt\", \"corrupt\", \"count\", \"count\", \"counting_privilege\", \"country\", \"country\", \"country\", \"country\", \"country\", \"country\", \"country\", \"course\", \"course\", \"course\", \"course\", \"covid\", \"covid\", \"covid\", \"covid19\", \"covid19\", \"covid19\", \"crazy\", \"crime\", \"crime\", \"crime\", \"crime\", \"criminal\", \"crowded_superspreader\", \"cult\", \"cure\", \"cursed_language\", \"datum\", \"day\", \"day\", \"day\", \"day\", \"day\", \"day\", \"day\", \"dead\", \"dead\", \"dead\", \"dead\", \"deadly\", \"deadly\", \"death\", \"death\", \"death\", \"death\", \"debate\", \"debate\", \"debate\", \"debate\", \"debate\", \"decency\", \"democracy\", \"demon_seman\", \"denying_existence\", \"diagnosed_72\", \"diagnosis\", \"different\", \"different\", \"different\", \"different\", \"different\", \"different\", \"difficult\", \"difficult\", \"dinner\", \"discarded_pennsylvania\", \"discloses_information\", \"disease_blew\", \"distress_complicit\", \"ditch_pennsylvania\", \"doctor\", \"doctor\", \"doesnt_radicalize\", \"dog\", \"dollar\", \"domestic_terrorist\", \"dream\", \"drivers_license\", \"dumb\", \"duty\", \"duty\", \"dynamite\", \"dynamite_themusicvideo\", \"dynamite_thesong\", \"early\", \"early\", \"easter_april\", \"edge_medical\", \"elect_democratic\", \"election\", \"election\", \"election\", \"embers_july\", \"emergency_nation\", \"end\", \"end\", \"end\", \"end\", \"end\", \"end\", \"end\", \"end\", \"endangering_passenger\", \"event\", \"event\", \"event\", \"experience\", \"experience\", \"experience\", \"expert\", \"expert\", \"expert\", \"explosive\", \"face\", \"face\", \"fact\", \"fact\", \"fact\", \"fact\", \"fake_mainstream\", \"family\", \"family\", \"family\", \"family\", \"family\", \"family\", \"family\", \"fan\", \"fan\", \"fancy_guest\", \"fear\", \"fear\", \"feels_better\", \"fellow_passenger\", \"fight\", \"fight\", \"final_round\", \"flag\", \"florists_engineer\", \"folks_peacefully\", \"football\", \"foreign\", \"foreign\", \"fraud\", \"fraud\", \"free\", \"free\", \"friend\", \"friend\", \"friend\", \"friend\", \"friend\", \"friend\", \"friend\", \"friend_twomob\", \"fuck\", \"fuck\", \"fuck\", \"fun\", \"fundraiser_attendee\", \"funny\", \"funny\", \"future_generation\", \"game\", \"gap\", \"general\", \"genetically_modified\", \"get2getherexperience_hitrefresh\", \"girl\", \"girl\", \"glow_squid\", \"good\", \"good\", \"good\", \"good\", \"good\", \"good\", \"good\", \"good\", \"good\", \"government\", \"government\", \"government\", \"government\", \"government\", \"great\", \"great\", \"green\", \"grocery_store\", \"grocery_store\", \"guy\", \"guy\", \"hair\", \"hard_furious\", \"health\", \"health\", \"health\", \"health_epidemiology\", \"healthcare_protection\", \"hero\", \"high\", \"high\", \"high\", \"high\", \"high\", \"high\", \"hoax\", \"hoax\", \"hoax\", \"hoax\", \"home\", \"hope_hick\", \"horrible\", \"hospital\", \"hospital\", \"hospital\", \"host\", \"hot\", \"hour\", \"hour\", \"hour\", \"hour\", \"humanity\", \"humanity\", \"humanity\", \"hunter\", \"hypocrisy\", \"iceologer\", \"idk\", \"ignorant\", \"illness\", \"illness\", \"illness\", \"impeachment\", \"important\", \"important\", \"important\", \"important\", \"important\", \"income_taxe\", \"infection\", \"information\", \"information\", \"information\", \"innocent\", \"insurance_regulation\", \"interference\", \"interference\", \"interference_operation\", \"interference_scandal\", \"investigation\", \"investigation_gavinnewsom\", \"job\", \"job\", \"joke\", \"justice\", \"justice\", \"justice\", \"justice\", \"kcamexico\", \"kellyanne_conway\", \"kid\", \"kid\", \"kid\", \"kind\", \"kind\", \"lady_recording\", \"large_unnecessary\", \"law\", \"law\", \"law\", \"law\", \"leader\", \"leader\", \"leader\", \"leader\", \"let\", \"let\", \"level\", \"level\", \"level\", \"life\", \"life\", \"life\", \"life\", \"life\", \"life\", \"likely\", \"literally_suing\", \"little\", \"little\", \"little\", \"little\", \"lives_matter\", \"lockdown\", \"lol\", \"lose\", \"lot\", \"lot\", \"lot\", \"lot\", \"lot\", \"lot\", \"lot\", \"lot\", \"love\", \"love\", \"love\", \"mad\", \"maga\", \"mail\", \"mailin_ballot\", \"mailin_ballot\", \"malaysian\", \"malaysian_teen\", \"man\", \"man\", \"man\", \"man\", \"mansion_epidemic\", \"mask\", \"mask\", \"mask\", \"mask\", \"mask\", \"masque_red\", \"massive_coverup\", \"measure\", \"measure\", \"media\", \"medium\", \"medium\", \"medium\", \"medium\", \"medium\", \"melania_expeditious\", \"melanias_tape\", \"member\", \"member\", \"member\", \"message\", \"message\", \"military\", \"military\", \"million\", \"million\", \"million\", \"million\", \"million\", \"minding_business\", \"minecraft\", \"mob\", \"mob\", \"money\", \"money\", \"money\", \"money\", \"month\", \"month\", \"month\", \"month\", \"morning\", \"morning\", \"morning\", \"morning\", \"morning\", \"morning\", \"movement\", \"movie\", \"murder\", \"mwave\", \"nation\", \"nation\", \"nation\", \"nation\", \"nation\", \"national_security\", \"national_security\", \"need\", \"need\", \"need\", \"need\", \"need\", \"need\", \"need\", \"need\", \"need\", \"needs_assume\", \"negative\", \"negative\", \"negligence\", \"negligence\", \"neighbor_coworker\", \"new\", \"new\", \"new\", \"news\", \"news\", \"news\", \"news\", \"nominee\", \"noon\", \"number\", \"number\", \"number\", \"nyt\", \"octopuslike_russian\", \"office\", \"office\", \"officer\", \"officer\", \"official\", \"official\", \"official\", \"official\", \"old\", \"old\", \"old\", \"old\", \"open\", \"open\", \"open\", \"open\", \"open_june\", \"order\", \"order\", \"order\", \"order\", \"order\", \"order\", \"order\", \"organization\", \"outside_walter\", \"oxygen\", \"oxygen\", \"packed_churche\", \"page_easier\", \"pandemic\", \"pandemic\", \"pandemic\", \"pandemic_lack\", \"parent\", \"parrot_party\", \"party\", \"party\", \"party\", \"party\", \"party\", \"party\", \"path_speedy\", \"patient\", \"patient\", \"patient\", \"patient\", \"patriot\", \"pca\", \"pcas\", \"pcas_taylorswift13\", \"peaceful_counterprotester\", \"peasants_die\", \"pelosi\", \"people\", \"people\", \"people\", \"people\", \"people\", \"people\", \"people\", \"people\", \"people\", \"peoples_choice\", \"perfect\", \"person\", \"person\", \"person\", \"person\", \"person\", \"photo_senatorwicker\", \"physician\", \"place\", \"place\", \"place\", \"place\", \"place\", \"plan\", \"plan\", \"plan\", \"plan\", \"plan\", \"player\", \"plot_edgar\", \"pls\", \"police\", \"police\", \"policy\", \"policy\", \"policy\", \"policy\", \"policy\", \"politic\", \"politic\", \"politic\", \"politic\", \"political\", \"political\", \"politicians_httpstcosnsm1aoxjn\", \"poll\", \"poll\", \"poll\", \"polyclonal_antibody\", \"poor_judgement\", \"popular\", \"population\", \"positive\", \"power\", \"power\", \"power\", \"power\", \"power\", \"power\", \"power\", \"pray\", \"prayer\", \"prayer\", \"pre\", \"pre\", \"pre\", \"pre\", \"preexisting_condition\", \"preexisting_condition\", \"preexisting_condition\", \"president\", \"president\", \"president\", \"president\", \"president\", \"presidential\", \"presidential\", \"presidential\", \"presidents_action\", \"press\", \"press\", \"press\", \"privilege\", \"problem\", \"problem\", \"problem\", \"problem\", \"project\", \"protect\", \"protect\", \"protect\", \"protect\", \"protest\", \"protest\", \"protest\", \"public\", \"public\", \"public\", \"public\", \"public\", \"public\", \"public\", \"question\", \"question\", \"question\", \"question\", \"question\", \"race\", \"race\", \"race\", \"racism\", \"racist\", \"raise_hand\", \"rare\", \"rate\", \"rate\", \"rate\", \"ready\", \"ready\", \"ready\", \"ready\", \"ready\", \"reagan_callous\", \"real\", \"real\", \"real\", \"real\", \"real\", \"real\", \"realdonaldtrump\", \"realdonaldtrump\", \"realdonaldtrump\", \"realdonaldtrump\", \"realdonaldtrump\", \"receiving_regeneron\", \"recovery\", \"recovery\", \"recovery\", \"recovery\", \"recovery\", \"reference\", \"register\", \"release\", \"released_statement\", \"relief\", \"reply\", \"report\", \"report\", \"report\", \"reporter\", \"reporter\", \"reporter\", \"reporter\", \"republican\", \"republican\", \"republican\", \"republican\", \"repudiation_harsh\", \"request\", \"request\", \"resource\", \"result\", \"results_16\", \"retweet\", \"retweet\", \"retweet\", \"rid_ballot\", \"right\", \"right\", \"right\", \"right\", \"right\", \"right\", \"right\", \"right\", \"risk\", \"risk\", \"risk\", \"risk\", \"rose_garden\", \"rt_reply\", \"rt_votebts\", \"ruin\", \"rule\", \"rule\", \"rule\", \"rule\", \"rule\", \"russian\", \"sacrifice_grandma\", \"sad\", \"sad\", \"safe\", \"safe\", \"safe\", \"safe\", \"school\", \"science\", \"science\", \"science\", \"scientist\", \"seanhannity_foxnew\", \"secret\", \"secret\", \"secret\", \"selenagomez_themusicvideo\", \"sept_vaccine\", \"settle_accusation\", \"severe\", \"sexual_harassment\", \"shaking_hand\", \"shit\", \"shows_tear\", \"sick\", \"sick\", \"sick\", \"sick\", \"sick\", \"sign\", \"sign\", \"sign\", \"smart\", \"smart\", \"social\", \"social\", \"social\", \"social\", \"social_distance\", \"social_distancing\", \"son\", \"son\", \"song\", \"source\", \"source\", \"source\", \"special_antibody\", \"spoken_ethiopia\", \"staff\", \"staff\", \"staff\", \"state\", \"state\", \"state\", \"state\", \"state\", \"stayed_home\", \"story\", \"story\", \"story\", \"story\", \"story\", \"strange\", \"stream\", \"street\", \"street\", \"strike_affordable\", \"student\", \"stuff\", \"stupid\", \"stupid\", \"sudden\", \"superspreader\", \"superspreader_event\", \"supporter\", \"supporter\", \"supporter\", \"supremacist\", \"supremacy\", \"supreme_court\", \"supreme_court\", \"supreme_court\", \"sure\", \"sure\", \"sure\", \"sure\", \"sure\", \"sure\", \"surprise\", \"sympathy\", \"symptom\", \"symptom\", \"symptomatic_receiving\", \"tables_turn\", \"taken_custody\", \"talk\", \"talk\", \"talk\", \"talk\", \"tax\", \"tax\", \"tax\", \"taylorswift13\", \"taylorswift_thefemaleartist\", \"tens_thousand\", \"tens_thousand\", \"tens_thousand\", \"terrorist\", \"test\", \"test\", \"test\", \"test\", \"testing\", \"testing\", \"testing\", \"texas_assault\", \"theft\", \"theyve_held\", \"thing\", \"thing\", \"thing\", \"thing\", \"thing\", \"threat\", \"threat\", \"threat\", \"throws_huge\", \"tiktok\", \"time\", \"time\", \"time\", \"time\", \"time\", \"time\", \"time\", \"time\", \"time\", \"timeline\", \"tired\", \"today\", \"today\", \"today\", \"today\", \"today\", \"today\", \"today\", \"today\", \"told_confidant\", \"tonight\", \"tonight\", \"tonight\", \"tonight\", \"tonight\", \"tonight\", \"trash\", \"treasure\", \"treatment\", \"treatment\", \"treatment\", \"treatment\", \"treatment_everyday\", \"treatment_seek\", \"trend\", \"trial\", \"true\", \"true\", \"true\", \"true\", \"true\", \"trump\", \"trump\", \"trump\", \"trump\", \"trump\", \"trumpism\", \"turn\", \"tweet\", \"tweet\", \"tweet\", \"twitter\", \"twitter\", \"twitter\", \"twitter\", \"um_american\", \"underway_disguise\", \"unity\", \"unsupervised\", \"unusual_true\", \"upcoming\", \"upcoming\", \"vaccine\", \"victory\", \"video\", \"video\", \"video\", \"video\", \"violation\", \"violence\", \"violence\", \"violence\", \"violent\", \"violent\", \"violent\", \"virus\", \"virus\", \"virus\", \"virus\", \"vote\", \"vote\", \"voter\", \"voter\", \"voter\", \"voting\", \"voting\", \"walter_reed\", \"war\", \"war\", \"war\", \"wash_hand\", \"way\", \"way\", \"way\", \"way\", \"way\", \"way\", \"way\", \"way\", \"way\", \"way\", \"wealthy_prince\", \"wear\", \"website\", \"website\", \"website\", \"week\", \"week\", \"week\", \"week\", \"week\", \"week\", \"weekend\", \"well\", \"well\", \"wh\", \"whats_stake\", \"white\", \"white\", \"whosfan\", \"wife\", \"wife\", \"wife\", \"wife\", \"win\", \"win\", \"win\", \"wish\", \"wish\", \"wish\", \"wish\", \"woman\", \"woman\", \"woman\", \"woman\", \"women_damsel\", \"wonderful\", \"word\", \"word\", \"word\", \"word\", \"work\", \"work\", \"work\", \"work\", \"world\", \"world\", \"world\", \"world\", \"world\", \"worse_funny\", \"worth\", \"worth\", \"worth\", \"worth\", \"worth\", \"worth\", \"wrong\", \"wrong\", \"wrong\", \"year\", \"year\", \"year\", \"year\", \"year\", \"year\", \"year\", \"year\", \"year\", \"yesterday\", \"yesterday\", \"yesterday\", \"young\", \"youtube\", \"yup_experience\", \"zealand_taiwan\"]}, \"R\": 30, \"lambda.step\": 0.01, \"plot.opts\": {\"xlab\": \"PC1\", \"ylab\": \"PC2\"}, \"topic.order\": [6, 8, 3, 7, 5, 2, 1, 9, 4, 10]};\n",
       "\n",
       "function LDAvis_load_lib(url, callback){\n",
       "  var s = document.createElement('script');\n",
       "  s.src = url;\n",
       "  s.async = true;\n",
       "  s.onreadystatechange = s.onload = callback;\n",
       "  s.onerror = function(){console.warn(\"failed to load library \" + url);};\n",
       "  document.getElementsByTagName(\"head\")[0].appendChild(s);\n",
       "}\n",
       "\n",
       "if(typeof(LDAvis) !== \"undefined\"){\n",
       "   // already loaded: just create the visualization\n",
       "   !function(LDAvis){\n",
       "       new LDAvis(\"#\" + \"ldavis_el2009223884689052088704591669\", ldavis_el2009223884689052088704591669_data);\n",
       "   }(LDAvis);\n",
       "}else if(typeof define === \"function\" && define.amd){\n",
       "   // require.js is available: use it to load d3/LDAvis\n",
       "   require.config({paths: {d3: \"https://cdnjs.cloudflare.com/ajax/libs/d3/3.5.5/d3.min\"}});\n",
       "   require([\"d3\"], function(d3){\n",
       "      window.d3 = d3;\n",
       "      LDAvis_load_lib(\"https://cdn.rawgit.com/bmabey/pyLDAvis/files/ldavis.v1.0.0.js\", function(){\n",
       "        new LDAvis(\"#\" + \"ldavis_el2009223884689052088704591669\", ldavis_el2009223884689052088704591669_data);\n",
       "      });\n",
       "    });\n",
       "}else{\n",
       "    // require.js not available: dynamically load d3 & LDAvis\n",
       "    LDAvis_load_lib(\"https://cdnjs.cloudflare.com/ajax/libs/d3/3.5.5/d3.min.js\", function(){\n",
       "         LDAvis_load_lib(\"https://cdn.rawgit.com/bmabey/pyLDAvis/files/ldavis.v1.0.0.js\", function(){\n",
       "                 new LDAvis(\"#\" + \"ldavis_el2009223884689052088704591669\", ldavis_el2009223884689052088704591669_data);\n",
       "            })\n",
       "         });\n",
       "}\n",
       "</script>"
      ],
      "text/plain": [
       "PreparedData(topic_coordinates=              x         y  topics  cluster       Freq\n",
       "topic                                                \n",
       "5     -0.080573  0.170050       1        1  13.230076\n",
       "7      0.021829  0.069161       2        1  12.713699\n",
       "2     -0.049895  0.219548       3        1  11.613055\n",
       "6      0.150715 -0.041176       4        1   9.911566\n",
       "4     -0.133816  0.048312       5        1   9.807814\n",
       "1      0.074386  0.066555       6        1   9.431009\n",
       "0     -0.168495 -0.306396       7        1   9.152515\n",
       "8      0.161314 -0.107595       8        1   8.684031\n",
       "3     -0.225434 -0.055126       9        1   8.248896\n",
       "9      0.249968 -0.063332      10        1   7.207338, topic_info=         Term           Freq          Total Category  logprob  loglift\n",
       "107      vote  109922.000000  109922.000000  Default  30.0000  30.0000\n",
       "3    election   64316.000000   64316.000000  Default  29.0000  29.0000\n",
       "123     trump  105740.000000  105740.000000  Default  28.0000  28.0000\n",
       "148      mask   41335.000000   41335.000000  Default  27.0000  27.0000\n",
       "91   positive   34458.000000   34458.000000  Default  26.0000  26.0000\n",
       "..        ...            ...            ...      ...      ...      ...\n",
       "251       amp    2105.717323   20300.521006  Topic10  -4.9842   0.3641\n",
       "833   covid19    2135.531743   26313.106199  Topic10  -4.9701   0.1187\n",
       "172      year    2119.250802   31616.859518  Topic10  -4.9777  -0.0726\n",
       "377     today    1888.061821   23439.292592  Topic10  -5.0933   0.1112\n",
       "300    person    1640.717664   10101.721005  Topic10  -5.2337   0.8125\n",
       "\n",
       "[633 rows x 6 columns], token_table=       Topic      Freq                Term\n",
       "term                                      \n",
       "620        2  0.071403                 1st\n",
       "620        7  0.927384                 1st\n",
       "765        6  0.997276            abortion\n",
       "2403       5  0.998583     absentee_ballot\n",
       "19579     10  0.997204  absolute_disregard\n",
       "...      ...       ...                 ...\n",
       "461        4  0.055996           yesterday\n",
       "703       10  0.999743               young\n",
       "2683       6  0.998222             youtube\n",
       "1707      10  0.997867      yup_experience\n",
       "1546       5  0.999540      zealand_taiwan\n",
       "\n",
       "[1115 rows x 3 columns], R=30, lambda_step=0.01, plot_opts={'xlab': 'PC1', 'ylab': 'PC2'}, topic_order=[6, 8, 3, 7, 5, 2, 1, 9, 4, 10])"
      ]
     },
     "execution_count": 41,
     "metadata": {},
     "output_type": "execute_result"
    }
   ],
   "source": [
    "# topic visualization\n",
    "pyLDAvis.enable_notebook()\n",
    "vis = pyLDAvis.gensim.prepare(lda_model, doc_term_matrix, dictionary)\n",
    "vis"
   ]
  },
  {
   "cell_type": "code",
   "execution_count": 42,
   "metadata": {},
   "outputs": [
    {
     "name": "stdout",
     "output_type": "stream",
     "text": [
      "Coherence Score:  0.6736031442146698\n"
     ]
    }
   ],
   "source": [
    "# Compute Coherence Score\n",
    "coherence_model_lda = CoherenceModel(model=lda_model, texts=data_lemmatized, dictionary=dictionary, coherence='c_v')\n",
    "coherence_lda = coherence_model_lda.get_coherence()\n",
    "print('Coherence Score: ', coherence_lda)"
   ]
  },
  {
   "cell_type": "code",
   "execution_count": null,
   "metadata": {},
   "outputs": [],
   "source": [
    "# save LDA model\n",
    "lda_model.save(\"LDA_twitter.model\")\n",
    "pyLDAvis.save_html(vis, 'lda.html')"
   ]
  },
  {
   "cell_type": "code",
   "execution_count": 17,
   "metadata": {},
   "outputs": [],
   "source": [
    "# load LDA model\n",
    "# loaded_lda = gensim.models.LdaModel.load(\"LDA_twitter.model\")\n",
    "# loaded_dictionary = corpora.Dictionary.load('LDA_twitter.model.id2word')"
   ]
  },
  {
   "cell_type": "code",
   "execution_count": 19,
   "metadata": {},
   "outputs": [
    {
     "name": "stdout",
     "output_type": "stream",
     "text": [
      "Dictionary(123015 unique tokens: ['accept_outcome', 'brainwashing_kid', 'critical_race', 'election', 'important']...)\n"
     ]
    }
   ],
   "source": [
    "print(loaded_dictionary)"
   ]
  },
  {
   "cell_type": "markdown",
   "metadata": {},
   "source": [
    "### Assign topic scores to each document"
   ]
  },
  {
   "cell_type": "code",
   "execution_count": 44,
   "metadata": {},
   "outputs": [
    {
     "data": {
      "application/vnd.jupyter.widget-view+json": {
       "model_id": "be6421c50d414db3aad46e0c4ede30c8",
       "version_major": 2,
       "version_minor": 0
      },
      "text/plain": [
       "HBox(children=(FloatProgress(value=0.0, max=483228.0), HTML(value='')))"
      ]
     },
     "metadata": {},
     "output_type": "display_data"
    },
    {
     "name": "stderr",
     "output_type": "stream",
     "text": [
      "d:\\python36\\lib\\site-packages\\pandas\\core\\indexing.py:670: SettingWithCopyWarning: \n",
      "A value is trying to be set on a copy of a slice from a DataFrame\n",
      "\n",
      "See the caveats in the documentation: https://pandas.pydata.org/pandas-docs/stable/user_guide/indexing.html#returning-a-view-versus-a-copy\n",
      "  iloc._setitem_with_indexer(indexer, value)\n"
     ]
    },
    {
     "name": "stdout",
     "output_type": "stream",
     "text": [
      "\n"
     ]
    },
    {
     "data": {
      "text/html": [
       "<div>\n",
       "<style scoped>\n",
       "    .dataframe tbody tr th:only-of-type {\n",
       "        vertical-align: middle;\n",
       "    }\n",
       "\n",
       "    .dataframe tbody tr th {\n",
       "        vertical-align: top;\n",
       "    }\n",
       "\n",
       "    .dataframe thead th {\n",
       "        text-align: right;\n",
       "    }\n",
       "</style>\n",
       "<table border=\"1\" class=\"dataframe\">\n",
       "  <thead>\n",
       "    <tr style=\"text-align: right;\">\n",
       "      <th></th>\n",
       "      <th>username</th>\n",
       "      <th>concat_text</th>\n",
       "      <th>concat_raw_text</th>\n",
       "      <th>tokens</th>\n",
       "      <th>lemma_tokens</th>\n",
       "      <th>topic0</th>\n",
       "      <th>topic1</th>\n",
       "      <th>topic2</th>\n",
       "      <th>topic3</th>\n",
       "      <th>topic4</th>\n",
       "      <th>topic5</th>\n",
       "      <th>topic6</th>\n",
       "      <th>topic7</th>\n",
       "      <th>topic8</th>\n",
       "      <th>topic9</th>\n",
       "    </tr>\n",
       "  </thead>\n",
       "  <tbody>\n",
       "    <tr>\n",
       "      <th>0</th>\n",
       "      <td>1mikestreet1</td>\n",
       "      <td>trumps war critical race theory maybe importan...</td>\n",
       "      <td>Trump’s war on critical race theory is maybe t...</td>\n",
       "      <td>[trumps, war, critical, race, theory, maybe, i...</td>\n",
       "      <td>[war, critical_race, theory, important, thing,...</td>\n",
       "      <td>NaN</td>\n",
       "      <td>NaN</td>\n",
       "      <td>NaN</td>\n",
       "      <td>NaN</td>\n",
       "      <td>0.367453</td>\n",
       "      <td>NaN</td>\n",
       "      <td>NaN</td>\n",
       "      <td>NaN</td>\n",
       "      <td>0.575105</td>\n",
       "      <td>NaN</td>\n",
       "    </tr>\n",
       "    <tr>\n",
       "      <th>1</th>\n",
       "      <td>mulliganpete</td>\n",
       "      <td>typical sarah sanders dodging questions report...</td>\n",
       "      <td>Typical Sarah Sanders dodging questions. This ...</td>\n",
       "      <td>[typical, sarah, sanders, dodging, questions, ...</td>\n",
       "      <td>[typical, sarah_sander, question, reporter, pl...</td>\n",
       "      <td>0.128432</td>\n",
       "      <td>0.161512</td>\n",
       "      <td>NaN</td>\n",
       "      <td>NaN</td>\n",
       "      <td>0.650965</td>\n",
       "      <td>NaN</td>\n",
       "      <td>NaN</td>\n",
       "      <td>NaN</td>\n",
       "      <td>NaN</td>\n",
       "      <td>NaN</td>\n",
       "    </tr>\n",
       "    <tr>\n",
       "      <th>2</th>\n",
       "      <td>Tom26058303</td>\n",
       "      <td>rumble episode address explosive ties billiona...</td>\n",
       "      <td>Rumble — In this episode, I address the explos...</td>\n",
       "      <td>[rumble, episode, address, explosive, ties, bi...</td>\n",
       "      <td>[rumble, address, explosive, tie, billionaire,...</td>\n",
       "      <td>NaN</td>\n",
       "      <td>0.192381</td>\n",
       "      <td>NaN</td>\n",
       "      <td>NaN</td>\n",
       "      <td>NaN</td>\n",
       "      <td>0.436021</td>\n",
       "      <td>0.030884</td>\n",
       "      <td>NaN</td>\n",
       "      <td>0.132635</td>\n",
       "      <td>0.19233</td>\n",
       "    </tr>\n",
       "    <tr>\n",
       "      <th>3</th>\n",
       "      <td>adiinvincible25</td>\n",
       "      <td>liberal media joke loonies going gaga xi jinpi...</td>\n",
       "      <td>The US “liberal” media is a JOKE. Loonies goin...</td>\n",
       "      <td>[liberal, media, joke, loonies, going, gaga, x...</td>\n",
       "      <td>[liberal, medium, joke_loonie, head_totalitari...</td>\n",
       "      <td>NaN</td>\n",
       "      <td>NaN</td>\n",
       "      <td>NaN</td>\n",
       "      <td>NaN</td>\n",
       "      <td>NaN</td>\n",
       "      <td>0.319391</td>\n",
       "      <td>NaN</td>\n",
       "      <td>0.618619</td>\n",
       "      <td>NaN</td>\n",
       "      <td>NaN</td>\n",
       "    </tr>\n",
       "    <tr>\n",
       "      <th>4</th>\n",
       "      <td>Surya29011996</td>\n",
       "      <td>covid19 report 22nd september new positive cas...</td>\n",
       "      <td>Covid-19 Report For 22nd September\\n\\nNew Posi...</td>\n",
       "      <td>[covid19, report, 22nd, september, new, positi...</td>\n",
       "      <td>[new, positive, case, quarantine, local, conta...</td>\n",
       "      <td>0.056961</td>\n",
       "      <td>0.025230</td>\n",
       "      <td>0.114952</td>\n",
       "      <td>NaN</td>\n",
       "      <td>0.161692</td>\n",
       "      <td>0.028271</td>\n",
       "      <td>0.050687</td>\n",
       "      <td>0.556394</td>\n",
       "      <td>NaN</td>\n",
       "      <td>NaN</td>\n",
       "    </tr>\n",
       "  </tbody>\n",
       "</table>\n",
       "</div>"
      ],
      "text/plain": [
       "          username                                        concat_text  \\\n",
       "0     1mikestreet1  trumps war critical race theory maybe importan...   \n",
       "1     mulliganpete  typical sarah sanders dodging questions report...   \n",
       "2      Tom26058303  rumble episode address explosive ties billiona...   \n",
       "3  adiinvincible25  liberal media joke loonies going gaga xi jinpi...   \n",
       "4    Surya29011996  covid19 report 22nd september new positive cas...   \n",
       "\n",
       "                                     concat_raw_text  \\\n",
       "0  Trump’s war on critical race theory is maybe t...   \n",
       "1  Typical Sarah Sanders dodging questions. This ...   \n",
       "2  Rumble — In this episode, I address the explos...   \n",
       "3  The US “liberal” media is a JOKE. Loonies goin...   \n",
       "4  Covid-19 Report For 22nd September\\n\\nNew Posi...   \n",
       "\n",
       "                                              tokens  \\\n",
       "0  [trumps, war, critical, race, theory, maybe, i...   \n",
       "1  [typical, sarah, sanders, dodging, questions, ...   \n",
       "2  [rumble, episode, address, explosive, ties, bi...   \n",
       "3  [liberal, media, joke, loonies, going, gaga, x...   \n",
       "4  [covid19, report, 22nd, september, new, positi...   \n",
       "\n",
       "                                        lemma_tokens    topic0    topic1  \\\n",
       "0  [war, critical_race, theory, important, thing,...       NaN       NaN   \n",
       "1  [typical, sarah_sander, question, reporter, pl...  0.128432  0.161512   \n",
       "2  [rumble, address, explosive, tie, billionaire,...       NaN  0.192381   \n",
       "3  [liberal, medium, joke_loonie, head_totalitari...       NaN       NaN   \n",
       "4  [new, positive, case, quarantine, local, conta...  0.056961  0.025230   \n",
       "\n",
       "     topic2  topic3    topic4    topic5    topic6    topic7    topic8   topic9  \n",
       "0       NaN     NaN  0.367453       NaN       NaN       NaN  0.575105      NaN  \n",
       "1       NaN     NaN  0.650965       NaN       NaN       NaN       NaN      NaN  \n",
       "2       NaN     NaN       NaN  0.436021  0.030884       NaN  0.132635  0.19233  \n",
       "3       NaN     NaN       NaN  0.319391       NaN  0.618619       NaN      NaN  \n",
       "4  0.114952     NaN  0.161692  0.028271  0.050687  0.556394       NaN      NaN  "
      ]
     },
     "execution_count": 44,
     "metadata": {},
     "output_type": "execute_result"
    }
   ],
   "source": [
    "df_tweets_grouped[\"lemma_tokens\"] = data_lemmatized\n",
    "\n",
    "for i in range(10):\n",
    "    df_tweets_grouped[\"topic%s\"%str(i)] = [float(\"nan\") for _ in range(df_tweets_grouped.shape[0])]\n",
    "\n",
    "for idx, row in tqdm(df_tweets_grouped.iterrows(), total=df_tweets_grouped.shape[0]):\n",
    "    unseen_doc = row[\"lemma_tokens\"]\n",
    "    bow_vector = dictionary.doc2bow(unseen_doc)\n",
    "\n",
    "    for index, score in lda_model.get_document_topics(bow_vector):\n",
    "        df_tweets_grouped[\"topic%s\"%index].loc[idx] = score\n",
    "        \n",
    "df_tweets_grouped.head()\n"
   ]
  },
  {
   "cell_type": "code",
   "execution_count": 45,
   "metadata": {},
   "outputs": [
    {
     "data": {
      "text/html": [
       "<div>\n",
       "<style scoped>\n",
       "    .dataframe tbody tr th:only-of-type {\n",
       "        vertical-align: middle;\n",
       "    }\n",
       "\n",
       "    .dataframe tbody tr th {\n",
       "        vertical-align: top;\n",
       "    }\n",
       "\n",
       "    .dataframe thead th {\n",
       "        text-align: right;\n",
       "    }\n",
       "</style>\n",
       "<table border=\"1\" class=\"dataframe\">\n",
       "  <thead>\n",
       "    <tr style=\"text-align: right;\">\n",
       "      <th></th>\n",
       "      <th>username</th>\n",
       "      <th>concat_text</th>\n",
       "      <th>concat_raw_text</th>\n",
       "      <th>tokens</th>\n",
       "      <th>lemma_tokens</th>\n",
       "      <th>topic0</th>\n",
       "      <th>topic1</th>\n",
       "      <th>topic2</th>\n",
       "      <th>topic3</th>\n",
       "      <th>topic4</th>\n",
       "      <th>topic5</th>\n",
       "      <th>topic6</th>\n",
       "      <th>topic7</th>\n",
       "      <th>topic8</th>\n",
       "      <th>topic9</th>\n",
       "    </tr>\n",
       "  </thead>\n",
       "  <tbody>\n",
       "    <tr>\n",
       "      <th>0</th>\n",
       "      <td>1mikestreet1</td>\n",
       "      <td>trumps war critical race theory maybe importan...</td>\n",
       "      <td>Trump’s war on critical race theory is maybe t...</td>\n",
       "      <td>[trumps, war, critical, race, theory, maybe, i...</td>\n",
       "      <td>[war, critical_race, theory, important, thing,...</td>\n",
       "      <td>0.000000</td>\n",
       "      <td>0.000000</td>\n",
       "      <td>0.000000</td>\n",
       "      <td>0.0</td>\n",
       "      <td>0.367453</td>\n",
       "      <td>0.000000</td>\n",
       "      <td>0.000000</td>\n",
       "      <td>0.000000</td>\n",
       "      <td>0.575105</td>\n",
       "      <td>0.00000</td>\n",
       "    </tr>\n",
       "    <tr>\n",
       "      <th>1</th>\n",
       "      <td>mulliganpete</td>\n",
       "      <td>typical sarah sanders dodging questions report...</td>\n",
       "      <td>Typical Sarah Sanders dodging questions. This ...</td>\n",
       "      <td>[typical, sarah, sanders, dodging, questions, ...</td>\n",
       "      <td>[typical, sarah_sander, question, reporter, pl...</td>\n",
       "      <td>0.128432</td>\n",
       "      <td>0.161512</td>\n",
       "      <td>0.000000</td>\n",
       "      <td>0.0</td>\n",
       "      <td>0.650965</td>\n",
       "      <td>0.000000</td>\n",
       "      <td>0.000000</td>\n",
       "      <td>0.000000</td>\n",
       "      <td>0.000000</td>\n",
       "      <td>0.00000</td>\n",
       "    </tr>\n",
       "    <tr>\n",
       "      <th>2</th>\n",
       "      <td>Tom26058303</td>\n",
       "      <td>rumble episode address explosive ties billiona...</td>\n",
       "      <td>Rumble — In this episode, I address the explos...</td>\n",
       "      <td>[rumble, episode, address, explosive, ties, bi...</td>\n",
       "      <td>[rumble, address, explosive, tie, billionaire,...</td>\n",
       "      <td>0.000000</td>\n",
       "      <td>0.192381</td>\n",
       "      <td>0.000000</td>\n",
       "      <td>0.0</td>\n",
       "      <td>0.000000</td>\n",
       "      <td>0.436021</td>\n",
       "      <td>0.030884</td>\n",
       "      <td>0.000000</td>\n",
       "      <td>0.132635</td>\n",
       "      <td>0.19233</td>\n",
       "    </tr>\n",
       "    <tr>\n",
       "      <th>3</th>\n",
       "      <td>adiinvincible25</td>\n",
       "      <td>liberal media joke loonies going gaga xi jinpi...</td>\n",
       "      <td>The US “liberal” media is a JOKE. Loonies goin...</td>\n",
       "      <td>[liberal, media, joke, loonies, going, gaga, x...</td>\n",
       "      <td>[liberal, medium, joke_loonie, head_totalitari...</td>\n",
       "      <td>0.000000</td>\n",
       "      <td>0.000000</td>\n",
       "      <td>0.000000</td>\n",
       "      <td>0.0</td>\n",
       "      <td>0.000000</td>\n",
       "      <td>0.319391</td>\n",
       "      <td>0.000000</td>\n",
       "      <td>0.618619</td>\n",
       "      <td>0.000000</td>\n",
       "      <td>0.00000</td>\n",
       "    </tr>\n",
       "    <tr>\n",
       "      <th>4</th>\n",
       "      <td>Surya29011996</td>\n",
       "      <td>covid19 report 22nd september new positive cas...</td>\n",
       "      <td>Covid-19 Report For 22nd September\\n\\nNew Posi...</td>\n",
       "      <td>[covid19, report, 22nd, september, new, positi...</td>\n",
       "      <td>[new, positive, case, quarantine, local, conta...</td>\n",
       "      <td>0.056961</td>\n",
       "      <td>0.025230</td>\n",
       "      <td>0.114952</td>\n",
       "      <td>0.0</td>\n",
       "      <td>0.161692</td>\n",
       "      <td>0.028271</td>\n",
       "      <td>0.050687</td>\n",
       "      <td>0.556394</td>\n",
       "      <td>0.000000</td>\n",
       "      <td>0.00000</td>\n",
       "    </tr>\n",
       "  </tbody>\n",
       "</table>\n",
       "</div>"
      ],
      "text/plain": [
       "          username                                        concat_text  \\\n",
       "0     1mikestreet1  trumps war critical race theory maybe importan...   \n",
       "1     mulliganpete  typical sarah sanders dodging questions report...   \n",
       "2      Tom26058303  rumble episode address explosive ties billiona...   \n",
       "3  adiinvincible25  liberal media joke loonies going gaga xi jinpi...   \n",
       "4    Surya29011996  covid19 report 22nd september new positive cas...   \n",
       "\n",
       "                                     concat_raw_text  \\\n",
       "0  Trump’s war on critical race theory is maybe t...   \n",
       "1  Typical Sarah Sanders dodging questions. This ...   \n",
       "2  Rumble — In this episode, I address the explos...   \n",
       "3  The US “liberal” media is a JOKE. Loonies goin...   \n",
       "4  Covid-19 Report For 22nd September\\n\\nNew Posi...   \n",
       "\n",
       "                                              tokens  \\\n",
       "0  [trumps, war, critical, race, theory, maybe, i...   \n",
       "1  [typical, sarah, sanders, dodging, questions, ...   \n",
       "2  [rumble, episode, address, explosive, ties, bi...   \n",
       "3  [liberal, media, joke, loonies, going, gaga, x...   \n",
       "4  [covid19, report, 22nd, september, new, positi...   \n",
       "\n",
       "                                        lemma_tokens    topic0    topic1  \\\n",
       "0  [war, critical_race, theory, important, thing,...  0.000000  0.000000   \n",
       "1  [typical, sarah_sander, question, reporter, pl...  0.128432  0.161512   \n",
       "2  [rumble, address, explosive, tie, billionaire,...  0.000000  0.192381   \n",
       "3  [liberal, medium, joke_loonie, head_totalitari...  0.000000  0.000000   \n",
       "4  [new, positive, case, quarantine, local, conta...  0.056961  0.025230   \n",
       "\n",
       "     topic2  topic3    topic4    topic5    topic6    topic7    topic8   topic9  \n",
       "0  0.000000     0.0  0.367453  0.000000  0.000000  0.000000  0.575105  0.00000  \n",
       "1  0.000000     0.0  0.650965  0.000000  0.000000  0.000000  0.000000  0.00000  \n",
       "2  0.000000     0.0  0.000000  0.436021  0.030884  0.000000  0.132635  0.19233  \n",
       "3  0.000000     0.0  0.000000  0.319391  0.000000  0.618619  0.000000  0.00000  \n",
       "4  0.114952     0.0  0.161692  0.028271  0.050687  0.556394  0.000000  0.00000  "
      ]
     },
     "execution_count": 45,
     "metadata": {},
     "output_type": "execute_result"
    }
   ],
   "source": [
    "df_tweets_grouped.fillna(0, inplace=True)\n",
    "df_tweets_grouped.head()"
   ]
  },
  {
   "cell_type": "code",
   "execution_count": null,
   "metadata": {},
   "outputs": [],
   "source": [
    "# df_tweets_grouped.to_csv(\"df_tweets_grouped_with_topic_scores.csv\", index=False)"
   ]
  },
  {
   "cell_type": "code",
   "execution_count": 46,
   "metadata": {},
   "outputs": [
    {
     "data": {
      "text/plain": [
       "8.832085475179419"
      ]
     },
     "execution_count": 46,
     "metadata": {},
     "output_type": "execute_result"
    }
   ],
   "source": [
    "# avg length of each doc (lemmatized tokens only - nouns and adjectives)\n",
    "df_tweets_grouped[\"lemma_tokens\"].apply(lambda x: len(x)).mean()"
   ]
  },
  {
   "cell_type": "code",
   "execution_count": null,
   "metadata": {},
   "outputs": [],
   "source": []
  },
  {
   "cell_type": "markdown",
   "metadata": {},
   "source": [
    "### Apply K-Means on Topic Scores"
   ]
  },
  {
   "cell_type": "code",
   "execution_count": 48,
   "metadata": {},
   "outputs": [
    {
     "name": "stdout",
     "output_type": "stream",
     "text": [
      "(483228, 15)\n"
     ]
    },
    {
     "data": {
      "text/html": [
       "<div>\n",
       "<style scoped>\n",
       "    .dataframe tbody tr th:only-of-type {\n",
       "        vertical-align: middle;\n",
       "    }\n",
       "\n",
       "    .dataframe tbody tr th {\n",
       "        vertical-align: top;\n",
       "    }\n",
       "\n",
       "    .dataframe thead th {\n",
       "        text-align: right;\n",
       "    }\n",
       "</style>\n",
       "<table border=\"1\" class=\"dataframe\">\n",
       "  <thead>\n",
       "    <tr style=\"text-align: right;\">\n",
       "      <th></th>\n",
       "      <th>username</th>\n",
       "      <th>concat_text</th>\n",
       "      <th>concat_raw_text</th>\n",
       "      <th>tokens</th>\n",
       "      <th>lemma_tokens</th>\n",
       "      <th>topic0</th>\n",
       "      <th>topic1</th>\n",
       "      <th>topic2</th>\n",
       "      <th>topic3</th>\n",
       "      <th>topic4</th>\n",
       "      <th>topic5</th>\n",
       "      <th>topic6</th>\n",
       "      <th>topic7</th>\n",
       "      <th>topic8</th>\n",
       "      <th>topic9</th>\n",
       "    </tr>\n",
       "  </thead>\n",
       "  <tbody>\n",
       "    <tr>\n",
       "      <th>0</th>\n",
       "      <td>1mikestreet1</td>\n",
       "      <td>trumps war critical race theory maybe importan...</td>\n",
       "      <td>Trump’s war on critical race theory is maybe t...</td>\n",
       "      <td>[trumps, war, critical, race, theory, maybe, i...</td>\n",
       "      <td>[war, critical_race, theory, important, thing,...</td>\n",
       "      <td>0.000000</td>\n",
       "      <td>0.000000</td>\n",
       "      <td>0.000000</td>\n",
       "      <td>0.0</td>\n",
       "      <td>0.389846</td>\n",
       "      <td>0.000000</td>\n",
       "      <td>0.000000</td>\n",
       "      <td>0.000000</td>\n",
       "      <td>0.610154</td>\n",
       "      <td>0.000000</td>\n",
       "    </tr>\n",
       "    <tr>\n",
       "      <th>1</th>\n",
       "      <td>mulliganpete</td>\n",
       "      <td>typical sarah sanders dodging questions report...</td>\n",
       "      <td>Typical Sarah Sanders dodging questions. This ...</td>\n",
       "      <td>[typical, sarah, sanders, dodging, questions, ...</td>\n",
       "      <td>[typical, sarah_sander, question, reporter, pl...</td>\n",
       "      <td>0.136498</td>\n",
       "      <td>0.171656</td>\n",
       "      <td>0.000000</td>\n",
       "      <td>0.0</td>\n",
       "      <td>0.691847</td>\n",
       "      <td>0.000000</td>\n",
       "      <td>0.000000</td>\n",
       "      <td>0.000000</td>\n",
       "      <td>0.000000</td>\n",
       "      <td>0.000000</td>\n",
       "    </tr>\n",
       "    <tr>\n",
       "      <th>2</th>\n",
       "      <td>Tom26058303</td>\n",
       "      <td>rumble episode address explosive ties billiona...</td>\n",
       "      <td>Rumble — In this episode, I address the explos...</td>\n",
       "      <td>[rumble, episode, address, explosive, ties, bi...</td>\n",
       "      <td>[rumble, address, explosive, tie, billionaire,...</td>\n",
       "      <td>0.000000</td>\n",
       "      <td>0.195459</td>\n",
       "      <td>0.000000</td>\n",
       "      <td>0.0</td>\n",
       "      <td>0.000000</td>\n",
       "      <td>0.442998</td>\n",
       "      <td>0.031379</td>\n",
       "      <td>0.000000</td>\n",
       "      <td>0.134757</td>\n",
       "      <td>0.195407</td>\n",
       "    </tr>\n",
       "    <tr>\n",
       "      <th>3</th>\n",
       "      <td>adiinvincible25</td>\n",
       "      <td>liberal media joke loonies going gaga xi jinpi...</td>\n",
       "      <td>The US “liberal” media is a JOKE. Loonies goin...</td>\n",
       "      <td>[liberal, media, joke, loonies, going, gaga, x...</td>\n",
       "      <td>[liberal, medium, joke_loonie, head_totalitari...</td>\n",
       "      <td>0.000000</td>\n",
       "      <td>0.000000</td>\n",
       "      <td>0.000000</td>\n",
       "      <td>0.0</td>\n",
       "      <td>0.000000</td>\n",
       "      <td>0.340498</td>\n",
       "      <td>0.000000</td>\n",
       "      <td>0.659502</td>\n",
       "      <td>0.000000</td>\n",
       "      <td>0.000000</td>\n",
       "    </tr>\n",
       "    <tr>\n",
       "      <th>4</th>\n",
       "      <td>Surya29011996</td>\n",
       "      <td>covid19 report 22nd september new positive cas...</td>\n",
       "      <td>Covid-19 Report For 22nd September\\n\\nNew Posi...</td>\n",
       "      <td>[covid19, report, 22nd, september, new, positi...</td>\n",
       "      <td>[new, positive, case, quarantine, local, conta...</td>\n",
       "      <td>0.057294</td>\n",
       "      <td>0.025378</td>\n",
       "      <td>0.115624</td>\n",
       "      <td>0.0</td>\n",
       "      <td>0.162637</td>\n",
       "      <td>0.028436</td>\n",
       "      <td>0.050983</td>\n",
       "      <td>0.559647</td>\n",
       "      <td>0.000000</td>\n",
       "      <td>0.000000</td>\n",
       "    </tr>\n",
       "  </tbody>\n",
       "</table>\n",
       "</div>"
      ],
      "text/plain": [
       "          username                                        concat_text  \\\n",
       "0     1mikestreet1  trumps war critical race theory maybe importan...   \n",
       "1     mulliganpete  typical sarah sanders dodging questions report...   \n",
       "2      Tom26058303  rumble episode address explosive ties billiona...   \n",
       "3  adiinvincible25  liberal media joke loonies going gaga xi jinpi...   \n",
       "4    Surya29011996  covid19 report 22nd september new positive cas...   \n",
       "\n",
       "                                     concat_raw_text  \\\n",
       "0  Trump’s war on critical race theory is maybe t...   \n",
       "1  Typical Sarah Sanders dodging questions. This ...   \n",
       "2  Rumble — In this episode, I address the explos...   \n",
       "3  The US “liberal” media is a JOKE. Loonies goin...   \n",
       "4  Covid-19 Report For 22nd September\\n\\nNew Posi...   \n",
       "\n",
       "                                              tokens  \\\n",
       "0  [trumps, war, critical, race, theory, maybe, i...   \n",
       "1  [typical, sarah, sanders, dodging, questions, ...   \n",
       "2  [rumble, episode, address, explosive, ties, bi...   \n",
       "3  [liberal, media, joke, loonies, going, gaga, x...   \n",
       "4  [covid19, report, 22nd, september, new, positi...   \n",
       "\n",
       "                                        lemma_tokens    topic0    topic1  \\\n",
       "0  [war, critical_race, theory, important, thing,...  0.000000  0.000000   \n",
       "1  [typical, sarah_sander, question, reporter, pl...  0.136498  0.171656   \n",
       "2  [rumble, address, explosive, tie, billionaire,...  0.000000  0.195459   \n",
       "3  [liberal, medium, joke_loonie, head_totalitari...  0.000000  0.000000   \n",
       "4  [new, positive, case, quarantine, local, conta...  0.057294  0.025378   \n",
       "\n",
       "     topic2  topic3    topic4    topic5    topic6    topic7    topic8  \\\n",
       "0  0.000000     0.0  0.389846  0.000000  0.000000  0.000000  0.610154   \n",
       "1  0.000000     0.0  0.691847  0.000000  0.000000  0.000000  0.000000   \n",
       "2  0.000000     0.0  0.000000  0.442998  0.031379  0.000000  0.134757   \n",
       "3  0.000000     0.0  0.000000  0.340498  0.000000  0.659502  0.000000   \n",
       "4  0.115624     0.0  0.162637  0.028436  0.050983  0.559647  0.000000   \n",
       "\n",
       "     topic9  \n",
       "0  0.000000  \n",
       "1  0.000000  \n",
       "2  0.195407  \n",
       "3  0.000000  \n",
       "4  0.000000  "
      ]
     },
     "execution_count": 48,
     "metadata": {},
     "output_type": "execute_result"
    }
   ],
   "source": [
    "# make the topic scores row-stochastic\n",
    "\n",
    "X = df_tweets_grouped[[\"topic%s\"%i for i in range(10)]].values\n",
    "for idx, row in enumerate(X):\n",
    "    X[idx] = row/np.sum(row)\n",
    "df_tweets_grouped[[\"topic%s\"%i for i in range(10)]] = X\n",
    "print(df_tweets_grouped.shape)\n",
    "df_tweets_grouped.head()"
   ]
  },
  {
   "cell_type": "code",
   "execution_count": 51,
   "metadata": {},
   "outputs": [
    {
     "data": {
      "application/vnd.jupyter.widget-view+json": {
       "model_id": "df08a7dad0e74965929a8f6090c9d460",
       "version_major": 2,
       "version_minor": 0
      },
      "text/plain": [
       "HBox(children=(FloatProgress(value=0.0, max=50.0), HTML(value='')))"
      ]
     },
     "metadata": {},
     "output_type": "display_data"
    },
    {
     "name": "stdout",
     "output_type": "stream",
     "text": [
      "\n"
     ]
    }
   ],
   "source": [
    "# elbow method for k-means on topic scores\n",
    "K = list(range(1, 51))\n",
    "Sum_of_squared_distances = []\n",
    "for k in tqdm(K):\n",
    "    kmeans = KMeans(n_clusters=k).fit(df_tweets_grouped[[\"topic%d\"%num for num in range(10)]])\n",
    "    Sum_of_squared_distances.append(kmeans.inertia_)"
   ]
  },
  {
   "cell_type": "code",
   "execution_count": 52,
   "metadata": {},
   "outputs": [
    {
     "data": {
      "image/png": "[encoded data removed]",
      "text/plain": [
       "<Figure size 432x288 with 1 Axes>"
      ]
     },
     "metadata": {
      "needs_background": "light"
     },
     "output_type": "display_data"
    }
   ],
   "source": [
    "plt.plot(K, Sum_of_squared_distances, 'bx-')\n",
    "plt.xlabel('k')\n",
    "plt.ylabel('Sum_of_squared_distances')\n",
    "plt.title('Elbow Method For Optimal k')\n",
    "plt.show()"
   ]
  },
  {
   "cell_type": "code",
   "execution_count": 65,
   "metadata": {},
   "outputs": [
    {
     "data": {
      "text/plain": [
       "1    83985\n",
       "4    59146\n",
       "3    52788\n",
       "5    52104\n",
       "2    44650\n",
       "7    44438\n",
       "0    44237\n",
       "8    40453\n",
       "6    32916\n",
       "9    28511\n",
       "Name: cluster, dtype: int64"
      ]
     },
     "execution_count": 65,
     "metadata": {},
     "output_type": "execute_result"
    }
   ],
   "source": [
    "df_tweets_grouped[\"cluster\"] = KMeans(n_clusters=10).fit_predict(df_tweets_grouped[[\"topic%d\"%num for num in range(10)]])\n",
    "df_tweets_grouped[\"cluster\"].value_counts()"
   ]
  },
  {
   "cell_type": "code",
   "execution_count": 66,
   "metadata": {},
   "outputs": [
    {
     "name": "stdout",
     "output_type": "stream",
     "text": [
      "(483228, 16)\n"
     ]
    },
    {
     "data": {
      "text/html": [
       "<div>\n",
       "<style scoped>\n",
       "    .dataframe tbody tr th:only-of-type {\n",
       "        vertical-align: middle;\n",
       "    }\n",
       "\n",
       "    .dataframe tbody tr th {\n",
       "        vertical-align: top;\n",
       "    }\n",
       "\n",
       "    .dataframe thead th {\n",
       "        text-align: right;\n",
       "    }\n",
       "</style>\n",
       "<table border=\"1\" class=\"dataframe\">\n",
       "  <thead>\n",
       "    <tr style=\"text-align: right;\">\n",
       "      <th></th>\n",
       "      <th>username</th>\n",
       "      <th>concat_text</th>\n",
       "      <th>concat_raw_text</th>\n",
       "      <th>tokens</th>\n",
       "      <th>lemma_tokens</th>\n",
       "      <th>topic0</th>\n",
       "      <th>topic1</th>\n",
       "      <th>topic2</th>\n",
       "      <th>topic3</th>\n",
       "      <th>topic4</th>\n",
       "      <th>topic5</th>\n",
       "      <th>topic6</th>\n",
       "      <th>topic7</th>\n",
       "      <th>topic8</th>\n",
       "      <th>topic9</th>\n",
       "      <th>cluster</th>\n",
       "    </tr>\n",
       "  </thead>\n",
       "  <tbody>\n",
       "    <tr>\n",
       "      <th>0</th>\n",
       "      <td>1mikestreet1</td>\n",
       "      <td>trumps war critical race theory maybe importan...</td>\n",
       "      <td>Trump’s war on critical race theory is maybe t...</td>\n",
       "      <td>[trumps, war, critical, race, theory, maybe, i...</td>\n",
       "      <td>[war, critical_race, theory, important, thing,...</td>\n",
       "      <td>0.000000</td>\n",
       "      <td>0.000000</td>\n",
       "      <td>0.000000</td>\n",
       "      <td>0.0</td>\n",
       "      <td>0.389846</td>\n",
       "      <td>0.000000</td>\n",
       "      <td>0.000000</td>\n",
       "      <td>0.000000</td>\n",
       "      <td>0.610154</td>\n",
       "      <td>0.000000</td>\n",
       "      <td>0</td>\n",
       "    </tr>\n",
       "    <tr>\n",
       "      <th>1</th>\n",
       "      <td>mulliganpete</td>\n",
       "      <td>typical sarah sanders dodging questions report...</td>\n",
       "      <td>Typical Sarah Sanders dodging questions. This ...</td>\n",
       "      <td>[typical, sarah, sanders, dodging, questions, ...</td>\n",
       "      <td>[typical, sarah_sander, question, reporter, pl...</td>\n",
       "      <td>0.136498</td>\n",
       "      <td>0.171656</td>\n",
       "      <td>0.000000</td>\n",
       "      <td>0.0</td>\n",
       "      <td>0.691847</td>\n",
       "      <td>0.000000</td>\n",
       "      <td>0.000000</td>\n",
       "      <td>0.000000</td>\n",
       "      <td>0.000000</td>\n",
       "      <td>0.000000</td>\n",
       "      <td>8</td>\n",
       "    </tr>\n",
       "    <tr>\n",
       "      <th>2</th>\n",
       "      <td>Tom26058303</td>\n",
       "      <td>rumble episode address explosive ties billiona...</td>\n",
       "      <td>Rumble — In this episode, I address the explos...</td>\n",
       "      <td>[rumble, episode, address, explosive, ties, bi...</td>\n",
       "      <td>[rumble, address, explosive, tie, billionaire,...</td>\n",
       "      <td>0.000000</td>\n",
       "      <td>0.195459</td>\n",
       "      <td>0.000000</td>\n",
       "      <td>0.0</td>\n",
       "      <td>0.000000</td>\n",
       "      <td>0.442998</td>\n",
       "      <td>0.031379</td>\n",
       "      <td>0.000000</td>\n",
       "      <td>0.134757</td>\n",
       "      <td>0.195407</td>\n",
       "      <td>3</td>\n",
       "    </tr>\n",
       "    <tr>\n",
       "      <th>3</th>\n",
       "      <td>adiinvincible25</td>\n",
       "      <td>liberal media joke loonies going gaga xi jinpi...</td>\n",
       "      <td>The US “liberal” media is a JOKE. Loonies goin...</td>\n",
       "      <td>[liberal, media, joke, loonies, going, gaga, x...</td>\n",
       "      <td>[liberal, medium, joke_loonie, head_totalitari...</td>\n",
       "      <td>0.000000</td>\n",
       "      <td>0.000000</td>\n",
       "      <td>0.000000</td>\n",
       "      <td>0.0</td>\n",
       "      <td>0.000000</td>\n",
       "      <td>0.340498</td>\n",
       "      <td>0.000000</td>\n",
       "      <td>0.659502</td>\n",
       "      <td>0.000000</td>\n",
       "      <td>0.000000</td>\n",
       "      <td>4</td>\n",
       "    </tr>\n",
       "    <tr>\n",
       "      <th>4</th>\n",
       "      <td>Surya29011996</td>\n",
       "      <td>covid19 report 22nd september new positive cas...</td>\n",
       "      <td>Covid-19 Report For 22nd September\\n\\nNew Posi...</td>\n",
       "      <td>[covid19, report, 22nd, september, new, positi...</td>\n",
       "      <td>[new, positive, case, quarantine, local, conta...</td>\n",
       "      <td>0.057294</td>\n",
       "      <td>0.025378</td>\n",
       "      <td>0.115624</td>\n",
       "      <td>0.0</td>\n",
       "      <td>0.162637</td>\n",
       "      <td>0.028436</td>\n",
       "      <td>0.050983</td>\n",
       "      <td>0.559647</td>\n",
       "      <td>0.000000</td>\n",
       "      <td>0.000000</td>\n",
       "      <td>4</td>\n",
       "    </tr>\n",
       "  </tbody>\n",
       "</table>\n",
       "</div>"
      ],
      "text/plain": [
       "          username                                        concat_text  \\\n",
       "0     1mikestreet1  trumps war critical race theory maybe importan...   \n",
       "1     mulliganpete  typical sarah sanders dodging questions report...   \n",
       "2      Tom26058303  rumble episode address explosive ties billiona...   \n",
       "3  adiinvincible25  liberal media joke loonies going gaga xi jinpi...   \n",
       "4    Surya29011996  covid19 report 22nd september new positive cas...   \n",
       "\n",
       "                                     concat_raw_text  \\\n",
       "0  Trump’s war on critical race theory is maybe t...   \n",
       "1  Typical Sarah Sanders dodging questions. This ...   \n",
       "2  Rumble — In this episode, I address the explos...   \n",
       "3  The US “liberal” media is a JOKE. Loonies goin...   \n",
       "4  Covid-19 Report For 22nd September\\n\\nNew Posi...   \n",
       "\n",
       "                                              tokens  \\\n",
       "0  [trumps, war, critical, race, theory, maybe, i...   \n",
       "1  [typical, sarah, sanders, dodging, questions, ...   \n",
       "2  [rumble, episode, address, explosive, ties, bi...   \n",
       "3  [liberal, media, joke, loonies, going, gaga, x...   \n",
       "4  [covid19, report, 22nd, september, new, positi...   \n",
       "\n",
       "                                        lemma_tokens    topic0    topic1  \\\n",
       "0  [war, critical_race, theory, important, thing,...  0.000000  0.000000   \n",
       "1  [typical, sarah_sander, question, reporter, pl...  0.136498  0.171656   \n",
       "2  [rumble, address, explosive, tie, billionaire,...  0.000000  0.195459   \n",
       "3  [liberal, medium, joke_loonie, head_totalitari...  0.000000  0.000000   \n",
       "4  [new, positive, case, quarantine, local, conta...  0.057294  0.025378   \n",
       "\n",
       "     topic2  topic3    topic4    topic5    topic6    topic7    topic8  \\\n",
       "0  0.000000     0.0  0.389846  0.000000  0.000000  0.000000  0.610154   \n",
       "1  0.000000     0.0  0.691847  0.000000  0.000000  0.000000  0.000000   \n",
       "2  0.000000     0.0  0.000000  0.442998  0.031379  0.000000  0.134757   \n",
       "3  0.000000     0.0  0.000000  0.340498  0.000000  0.659502  0.000000   \n",
       "4  0.115624     0.0  0.162637  0.028436  0.050983  0.559647  0.000000   \n",
       "\n",
       "     topic9  cluster  \n",
       "0  0.000000        0  \n",
       "1  0.000000        8  \n",
       "2  0.195407        3  \n",
       "3  0.000000        4  \n",
       "4  0.000000        4  "
      ]
     },
     "execution_count": 66,
     "metadata": {},
     "output_type": "execute_result"
    }
   ],
   "source": [
    "print(df_tweets_grouped.shape)\n",
    "df_tweets_grouped.head()"
   ]
  },
  {
   "cell_type": "code",
   "execution_count": 68,
   "metadata": {},
   "outputs": [
    {
     "data": {
      "text/plain": [
       "0.3957639431552358"
      ]
     },
     "execution_count": 68,
     "metadata": {},
     "output_type": "execute_result"
    }
   ],
   "source": [
    "silhouette_score(df_tweets_grouped[[\"topic%d\"%num for num in range(10)]], df_tweets_grouped[\"cluster\"], sample_size=40_000, random_state=42)"
   ]
  },
  {
   "cell_type": "code",
   "execution_count": 69,
   "metadata": {},
   "outputs": [
    {
     "data": {
      "text/plain": [
       "0"
      ]
     },
     "execution_count": 69,
     "metadata": {},
     "output_type": "execute_result"
    }
   ],
   "source": [
    "df_tweets_grouped[\"concat_raw_text\"].isna().sum()"
   ]
  },
  {
   "cell_type": "markdown",
   "metadata": {},
   "source": [
    "### Testing Tool: Based on a given tweet document, recommend top 5 usernames with similar tweet documents."
   ]
  },
  {
   "cell_type": "code",
   "execution_count": 70,
   "metadata": {},
   "outputs": [
    {
     "name": "stdout",
     "output_type": "stream",
     "text": [
      "(483228, 16)\n"
     ]
    },
    {
     "data": {
      "text/html": [
       "<div>\n",
       "<style scoped>\n",
       "    .dataframe tbody tr th:only-of-type {\n",
       "        vertical-align: middle;\n",
       "    }\n",
       "\n",
       "    .dataframe tbody tr th {\n",
       "        vertical-align: top;\n",
       "    }\n",
       "\n",
       "    .dataframe thead th {\n",
       "        text-align: right;\n",
       "    }\n",
       "</style>\n",
       "<table border=\"1\" class=\"dataframe\">\n",
       "  <thead>\n",
       "    <tr style=\"text-align: right;\">\n",
       "      <th></th>\n",
       "      <th>username</th>\n",
       "      <th>concat_text</th>\n",
       "      <th>concat_raw_text</th>\n",
       "      <th>tokens</th>\n",
       "      <th>lemma_tokens</th>\n",
       "      <th>topic0</th>\n",
       "      <th>topic1</th>\n",
       "      <th>topic2</th>\n",
       "      <th>topic3</th>\n",
       "      <th>topic4</th>\n",
       "      <th>topic5</th>\n",
       "      <th>topic6</th>\n",
       "      <th>topic7</th>\n",
       "      <th>topic8</th>\n",
       "      <th>topic9</th>\n",
       "      <th>cluster</th>\n",
       "    </tr>\n",
       "  </thead>\n",
       "  <tbody>\n",
       "    <tr>\n",
       "      <th>0</th>\n",
       "      <td>1mikestreet1</td>\n",
       "      <td>trumps war critical race theory maybe importan...</td>\n",
       "      <td>Trump’s war on critical race theory is maybe t...</td>\n",
       "      <td>[trumps, war, critical, race, theory, maybe, i...</td>\n",
       "      <td>[war, critical_race, theory, important, thing,...</td>\n",
       "      <td>0.000000</td>\n",
       "      <td>0.000000</td>\n",
       "      <td>0.000000</td>\n",
       "      <td>0.0</td>\n",
       "      <td>0.389846</td>\n",
       "      <td>0.000000</td>\n",
       "      <td>0.000000</td>\n",
       "      <td>0.000000</td>\n",
       "      <td>0.610154</td>\n",
       "      <td>0.000000</td>\n",
       "      <td>0</td>\n",
       "    </tr>\n",
       "    <tr>\n",
       "      <th>1</th>\n",
       "      <td>mulliganpete</td>\n",
       "      <td>typical sarah sanders dodging questions report...</td>\n",
       "      <td>Typical Sarah Sanders dodging questions. This ...</td>\n",
       "      <td>[typical, sarah, sanders, dodging, questions, ...</td>\n",
       "      <td>[typical, sarah_sander, question, reporter, pl...</td>\n",
       "      <td>0.136498</td>\n",
       "      <td>0.171656</td>\n",
       "      <td>0.000000</td>\n",
       "      <td>0.0</td>\n",
       "      <td>0.691847</td>\n",
       "      <td>0.000000</td>\n",
       "      <td>0.000000</td>\n",
       "      <td>0.000000</td>\n",
       "      <td>0.000000</td>\n",
       "      <td>0.000000</td>\n",
       "      <td>8</td>\n",
       "    </tr>\n",
       "    <tr>\n",
       "      <th>2</th>\n",
       "      <td>Tom26058303</td>\n",
       "      <td>rumble episode address explosive ties billiona...</td>\n",
       "      <td>Rumble — In this episode, I address the explos...</td>\n",
       "      <td>[rumble, episode, address, explosive, ties, bi...</td>\n",
       "      <td>[rumble, address, explosive, tie, billionaire,...</td>\n",
       "      <td>0.000000</td>\n",
       "      <td>0.195459</td>\n",
       "      <td>0.000000</td>\n",
       "      <td>0.0</td>\n",
       "      <td>0.000000</td>\n",
       "      <td>0.442998</td>\n",
       "      <td>0.031379</td>\n",
       "      <td>0.000000</td>\n",
       "      <td>0.134757</td>\n",
       "      <td>0.195407</td>\n",
       "      <td>3</td>\n",
       "    </tr>\n",
       "    <tr>\n",
       "      <th>3</th>\n",
       "      <td>adiinvincible25</td>\n",
       "      <td>liberal media joke loonies going gaga xi jinpi...</td>\n",
       "      <td>The US “liberal” media is a JOKE. Loonies goin...</td>\n",
       "      <td>[liberal, media, joke, loonies, going, gaga, x...</td>\n",
       "      <td>[liberal, medium, joke_loonie, head_totalitari...</td>\n",
       "      <td>0.000000</td>\n",
       "      <td>0.000000</td>\n",
       "      <td>0.000000</td>\n",
       "      <td>0.0</td>\n",
       "      <td>0.000000</td>\n",
       "      <td>0.340498</td>\n",
       "      <td>0.000000</td>\n",
       "      <td>0.659502</td>\n",
       "      <td>0.000000</td>\n",
       "      <td>0.000000</td>\n",
       "      <td>4</td>\n",
       "    </tr>\n",
       "    <tr>\n",
       "      <th>4</th>\n",
       "      <td>Surya29011996</td>\n",
       "      <td>covid19 report 22nd september new positive cas...</td>\n",
       "      <td>Covid-19 Report For 22nd September\\n\\nNew Posi...</td>\n",
       "      <td>[covid19, report, 22nd, september, new, positi...</td>\n",
       "      <td>[new, positive, case, quarantine, local, conta...</td>\n",
       "      <td>0.057294</td>\n",
       "      <td>0.025378</td>\n",
       "      <td>0.115624</td>\n",
       "      <td>0.0</td>\n",
       "      <td>0.162637</td>\n",
       "      <td>0.028436</td>\n",
       "      <td>0.050983</td>\n",
       "      <td>0.559647</td>\n",
       "      <td>0.000000</td>\n",
       "      <td>0.000000</td>\n",
       "      <td>4</td>\n",
       "    </tr>\n",
       "  </tbody>\n",
       "</table>\n",
       "</div>"
      ],
      "text/plain": [
       "          username                                        concat_text  \\\n",
       "0     1mikestreet1  trumps war critical race theory maybe importan...   \n",
       "1     mulliganpete  typical sarah sanders dodging questions report...   \n",
       "2      Tom26058303  rumble episode address explosive ties billiona...   \n",
       "3  adiinvincible25  liberal media joke loonies going gaga xi jinpi...   \n",
       "4    Surya29011996  covid19 report 22nd september new positive cas...   \n",
       "\n",
       "                                     concat_raw_text  \\\n",
       "0  Trump’s war on critical race theory is maybe t...   \n",
       "1  Typical Sarah Sanders dodging questions. This ...   \n",
       "2  Rumble — In this episode, I address the explos...   \n",
       "3  The US “liberal” media is a JOKE. Loonies goin...   \n",
       "4  Covid-19 Report For 22nd September\\n\\nNew Posi...   \n",
       "\n",
       "                                              tokens  \\\n",
       "0  [trumps, war, critical, race, theory, maybe, i...   \n",
       "1  [typical, sarah, sanders, dodging, questions, ...   \n",
       "2  [rumble, episode, address, explosive, ties, bi...   \n",
       "3  [liberal, media, joke, loonies, going, gaga, x...   \n",
       "4  [covid19, report, 22nd, september, new, positi...   \n",
       "\n",
       "                                        lemma_tokens    topic0    topic1  \\\n",
       "0  [war, critical_race, theory, important, thing,...  0.000000  0.000000   \n",
       "1  [typical, sarah_sander, question, reporter, pl...  0.136498  0.171656   \n",
       "2  [rumble, address, explosive, tie, billionaire,...  0.000000  0.195459   \n",
       "3  [liberal, medium, joke_loonie, head_totalitari...  0.000000  0.000000   \n",
       "4  [new, positive, case, quarantine, local, conta...  0.057294  0.025378   \n",
       "\n",
       "     topic2  topic3    topic4    topic5    topic6    topic7    topic8  \\\n",
       "0  0.000000     0.0  0.389846  0.000000  0.000000  0.000000  0.610154   \n",
       "1  0.000000     0.0  0.691847  0.000000  0.000000  0.000000  0.000000   \n",
       "2  0.000000     0.0  0.000000  0.442998  0.031379  0.000000  0.134757   \n",
       "3  0.000000     0.0  0.000000  0.340498  0.000000  0.659502  0.000000   \n",
       "4  0.115624     0.0  0.162637  0.028436  0.050983  0.559647  0.000000   \n",
       "\n",
       "     topic9  cluster  \n",
       "0  0.000000        0  \n",
       "1  0.000000        8  \n",
       "2  0.195407        3  \n",
       "3  0.000000        4  \n",
       "4  0.000000        4  "
      ]
     },
     "execution_count": 70,
     "metadata": {},
     "output_type": "execute_result"
    }
   ],
   "source": [
    "data = df_tweets_grouped\n",
    "print(data.shape)\n",
    "data.head()"
   ]
  },
  {
   "cell_type": "code",
   "execution_count": 25,
   "metadata": {},
   "outputs": [
    {
     "name": "stdout",
     "output_type": "stream",
     "text": [
      "USER'S TWEET DOCUMENT: I'm a proud democrat, supporting Joe Biden for this presidential election. We will win by a landslide!! #Biden2020 The democrats are winning! Biden is ahead on the national polls. Joe Biden is the kind of president we need to recover from this crisis. We cannot recover until there is a change of power in this country!\n"
     ]
    },
    {
     "data": {
      "text/markdown": [
       "\n",
       "**LOOK AT WHAT OTHERS TWEETED ON SIMILAR TOPICS:**"
      ],
      "text/plain": [
       "<IPython.core.display.Markdown object>"
      ]
     },
     "metadata": {},
     "output_type": "display_data"
    },
    {
     "data": {
      "text/markdown": [
       "\n",
       "**@mojoandjasper** tweeted:"
      ],
      "text/plain": [
       "<IPython.core.display.Markdown object>"
      ]
     },
     "metadata": {},
     "output_type": "display_data"
    },
    {
     "name": "stdout",
     "output_type": "stream",
     "text": [
      "This is NOT FUCKING OKAY.\n",
      "THIS is why we need to show up this November.\n",
      "We can’t give up. \n",
      "For Breonna. \n",
      "Demand change and vote out those who won’t allow it. https://t.co/XEInmFBwQV\n",
      "Michelle and I hope that the President, First Lady, and all those affected by the coronavirus around the country are getting the care they need and are on the path to a speedy recovery.\n"
     ]
    },
    {
     "data": {
      "text/markdown": [
       "\n",
       "**@Adequate_Scott** tweeted:"
      ],
      "text/plain": [
       "<IPython.core.display.Markdown object>"
      ]
     },
     "metadata": {},
     "output_type": "display_data"
    },
    {
     "name": "stdout",
     "output_type": "stream",
     "text": [
      "There is no way out of ~all this~ without truly grappling with the malevolence and rot of the leaders in both sides. That's not handwaving Trump. This laser like focus on Trump, and the accompanying \"we'll have time to argue about Reparations after Biden wins\" is the handwave.\n"
     ]
    },
    {
     "data": {
      "text/markdown": [
       "\n",
       "**@KayS57** tweeted:"
      ],
      "text/plain": [
       "<IPython.core.display.Markdown object>"
      ]
     },
     "metadata": {},
     "output_type": "display_data"
    },
    {
     "name": "stdout",
     "output_type": "stream",
     "text": [
      "Biden responds to Trump blaming him for the lack of a national mask mandate by correctly pointing out that Trump is in fact the president https://t.co/0aLTPGHEUK 04\n",
      "#VoteEarly\n",
      "Anti-Abortion Zealots Demand a Vote to Fill Ginsburg's Seat | By: Ed Kilgore https://t.co/hRV96jzsuy\n",
      "I think the Bush brothers, George &amp; Jeb, should endorse Joe Biden ASAP\n",
      "Trump steals from kids-cancer charities. You don’t think he’ll try to steal this election?\n",
      "BREAKING: Barack Obama will host two Biden campaign fundraisers with Kamala Harris next Friday.\n"
     ]
    },
    {
     "data": {
      "text/markdown": [
       "\n",
       "**@KatneaB** tweeted:"
      ],
      "text/plain": [
       "<IPython.core.display.Markdown object>"
      ]
     },
     "metadata": {},
     "output_type": "display_data"
    },
    {
     "name": "stdout",
     "output_type": "stream",
     "text": [
      "No Wisconsin absentee ballots were found in mail discovered in a ditch in the Fox Valley last week, the state's top election official said. The White House has been pushing conspiracies about voter fraud based on this discovery. https://t.co/Z2wuXdzSeJ\n"
     ]
    },
    {
     "data": {
      "text/markdown": [
       "\n",
       "**@pmramani** tweeted:"
      ],
      "text/plain": [
       "<IPython.core.display.Markdown object>"
      ]
     },
     "metadata": {},
     "output_type": "display_data"
    },
    {
     "name": "stdout",
     "output_type": "stream",
     "text": [
      "No Wisconsin absentee ballots were found in mail discovered in a ditch in the Fox Valley last week, the state's top election official said. The White House has been pushing conspiracies about voter fraud based on this discovery. https://t.co/Z2wuXdzSeJ\n"
     ]
    }
   ],
   "source": [
    "# test - 1: Please wear masks, observe social distancing, and wash hands regularly to keep yourself and your loved ones safe from the\n",
    "# deadly covid19. Working from home this summer! Trying to be productive this quarantine season\n",
    "\n",
    "# test - 2: I'm a proud democrat, supporting Joe Biden for this presidential election. We will win by a landslide!! #Biden2020 The\n",
    "# democrats are winning! Biden is ahead on the national polls. Joe Biden is the kind of president we need to recover from this crisis.\n",
    "# We cannot recover until there is a change of power in this country!\n",
    "\n",
    "doc = input(\"USER'S TWEET DOCUMENT: \")\n",
    "cleaned_doc = remove_stopwords(doc)\n",
    "lemma_doc = lemmatization([cleaned_doc.split(\" \")])\n",
    "bow_vector = loaded_dictionary.doc2bow(lemma_doc[0])\n",
    "topic_scores = [0 for _ in range(10)]\n",
    "for index, score in loaded_lda.get_document_topics(bow_vector):\n",
    "    topic_scores[index] = score\n",
    "cluster = kmeans.predict([topic_scores])[0]\n",
    "\n",
    "\n",
    "queue = PriorityQueue()\n",
    "test_point = np.array(topic_scores)\n",
    "for index, row in data[data[\"cluster\"] == cluster].iterrows():\n",
    "    point = row[[\"topic%s\"%i for i in range(10)]].values\n",
    "    queue.put((np.linalg.norm(test_point-point), index))\n",
    "\n",
    "printmd(\"\\n**LOOK AT WHAT OTHERS TWEETED ON SIMILAR TOPICS:**\")\n",
    "for i in range(5):\n",
    "    user, text = data.loc[queue.get()[1]][[\"username\", \"concat_raw_text\"]].values\n",
    "    printmd(\"\\n**@\"+user+\"** tweeted:\")\n",
    "    print(text)\n"
   ]
  },
  {
   "cell_type": "code",
   "execution_count": null,
   "metadata": {},
   "outputs": [],
   "source": []
  }
 ],
 "metadata": {
  "kernelspec": {
   "display_name": "Python 3",
   "language": "python",
   "name": "python3"
  },
  "language_info": {
   "codemirror_mode": {
    "name": "ipython",
    "version": 3
   },
   "file_extension": ".py",
   "mimetype": "text/x-python",
   "name": "python",
   "nbconvert_exporter": "python",
   "pygments_lexer": "ipython3",
   "version": "3.6.7"
  }
 },
 "nbformat": 4,
 "nbformat_minor": 4
}
